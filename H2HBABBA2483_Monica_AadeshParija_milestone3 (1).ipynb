{
  "nbformat": 4,
  "nbformat_minor": 5,
  "metadata": {
    "kernelspec": {
      "display_name": "Python 3",
      "language": "python",
      "name": "python3"
    },
    "language_info": {
      "codemirror_mode": {
        "name": "ipython",
        "version": 3
      },
      "file_extension": ".py",
      "mimetype": "text/x-python",
      "name": "python",
      "nbconvert_exporter": "python",
      "pygments_lexer": "ipython3",
      "version": "3.9.5"
    },
    "colab": {
      "name": "H2HBABBA2483_Monica_AadeshParija_milestone3.ipynb",
      "provenance": []
    }
  },
  "cells": [
    {
      "cell_type": "code",
      "metadata": {
        "id": "ec593220"
      },
      "source": [
        "# import required libraries\n",
        "\n",
        "import numpy as np\n",
        "import pandas as pd\n",
        "import datetime\n",
        "import warnings\n",
        "warnings.filterwarnings(\"ignore\")"
      ],
      "id": "ec593220",
      "execution_count": 1103,
      "outputs": []
    },
    {
      "cell_type": "code",
      "metadata": {
        "id": "84d4f9ee"
      },
      "source": [
        "data_set= pd.read_csv('H2HBABBA2483.csv')"
      ],
      "id": "84d4f9ee",
      "execution_count": 1104,
      "outputs": []
    },
    {
      "cell_type": "markdown",
      "metadata": {
        "id": "616128b2"
      },
      "source": [
        "## Data Preprocessing"
      ],
      "id": "616128b2"
    },
    {
      "cell_type": "code",
      "metadata": {
        "id": "9bf73b3c"
      },
      "source": [
        "# divide the dataset into two parts one where 'clear_date is not null and another where clear date is null'\n",
        "\n",
        "data_set_main= data_set[data_set['clear_date'].notnull()]\n",
        "data_set_test = data_set[data_set['clear_date'].isnull()]\n",
        "\n",
        "main_data = data_set[data_set['clear_date'].isnull()]"
      ],
      "id": "9bf73b3c",
      "execution_count": 1105,
      "outputs": []
    },
    {
      "cell_type": "code",
      "metadata": {
        "colab": {
          "base_uri": "https://localhost:8080/",
          "height": 622
        },
        "id": "770095c7",
        "outputId": "e7e3b87e-5db2-41f7-dbdf-9ac635e509ee"
      },
      "source": [
        "data_set_main"
      ],
      "id": "770095c7",
      "execution_count": 1106,
      "outputs": [
        {
          "output_type": "execute_result",
          "data": {
            "text/html": [
              "<div>\n",
              "<style scoped>\n",
              "    .dataframe tbody tr th:only-of-type {\n",
              "        vertical-align: middle;\n",
              "    }\n",
              "\n",
              "    .dataframe tbody tr th {\n",
              "        vertical-align: top;\n",
              "    }\n",
              "\n",
              "    .dataframe thead th {\n",
              "        text-align: right;\n",
              "    }\n",
              "</style>\n",
              "<table border=\"1\" class=\"dataframe\">\n",
              "  <thead>\n",
              "    <tr style=\"text-align: right;\">\n",
              "      <th></th>\n",
              "      <th>business_code</th>\n",
              "      <th>cust_number</th>\n",
              "      <th>name_customer</th>\n",
              "      <th>clear_date</th>\n",
              "      <th>buisness_year</th>\n",
              "      <th>doc_id</th>\n",
              "      <th>posting_date</th>\n",
              "      <th>document_create_date</th>\n",
              "      <th>document_create_date.1</th>\n",
              "      <th>due_in_date</th>\n",
              "      <th>invoice_currency</th>\n",
              "      <th>document type</th>\n",
              "      <th>posting_id</th>\n",
              "      <th>area_business</th>\n",
              "      <th>total_open_amount</th>\n",
              "      <th>baseline_create_date</th>\n",
              "      <th>cust_payment_terms</th>\n",
              "      <th>invoice_id</th>\n",
              "      <th>isOpen</th>\n",
              "    </tr>\n",
              "  </thead>\n",
              "  <tbody>\n",
              "    <tr>\n",
              "      <th>0</th>\n",
              "      <td>U001</td>\n",
              "      <td>0200416837</td>\n",
              "      <td>DEC corporation</td>\n",
              "      <td>2019-03-04 00:00:00</td>\n",
              "      <td>2019.0</td>\n",
              "      <td>1.928830e+09</td>\n",
              "      <td>2019-02-20</td>\n",
              "      <td>20190220</td>\n",
              "      <td>20190220</td>\n",
              "      <td>20190311.0</td>\n",
              "      <td>USD</td>\n",
              "      <td>RV</td>\n",
              "      <td>1.0</td>\n",
              "      <td>NaN</td>\n",
              "      <td>752.76</td>\n",
              "      <td>20190216.0</td>\n",
              "      <td>NAM4</td>\n",
              "      <td>1.928830e+09</td>\n",
              "      <td>0</td>\n",
              "    </tr>\n",
              "    <tr>\n",
              "      <th>1</th>\n",
              "      <td>U001</td>\n",
              "      <td>0200704858</td>\n",
              "      <td>WAKE trust</td>\n",
              "      <td>2019-09-16 00:00:00</td>\n",
              "      <td>2019.0</td>\n",
              "      <td>1.929816e+09</td>\n",
              "      <td>2019-08-31</td>\n",
              "      <td>20190830</td>\n",
              "      <td>20190831</td>\n",
              "      <td>20190915.0</td>\n",
              "      <td>USD</td>\n",
              "      <td>RV</td>\n",
              "      <td>1.0</td>\n",
              "      <td>NaN</td>\n",
              "      <td>17854.08</td>\n",
              "      <td>20190831.0</td>\n",
              "      <td>NAA8</td>\n",
              "      <td>1.929816e+09</td>\n",
              "      <td>0</td>\n",
              "    </tr>\n",
              "    <tr>\n",
              "      <th>2</th>\n",
              "      <td>CA02</td>\n",
              "      <td>0140105847</td>\n",
              "      <td>GORDON F corp</td>\n",
              "      <td>2019-08-05 00:00:00</td>\n",
              "      <td>2019.0</td>\n",
              "      <td>2.960566e+09</td>\n",
              "      <td>2019-07-18</td>\n",
              "      <td>20190718</td>\n",
              "      <td>20190718</td>\n",
              "      <td>20190803.0</td>\n",
              "      <td>CAD</td>\n",
              "      <td>RV</td>\n",
              "      <td>1.0</td>\n",
              "      <td>NaN</td>\n",
              "      <td>917.35</td>\n",
              "      <td>20190724.0</td>\n",
              "      <td>CA10</td>\n",
              "      <td>2.960566e+09</td>\n",
              "      <td>0</td>\n",
              "    </tr>\n",
              "    <tr>\n",
              "      <th>3</th>\n",
              "      <td>U001</td>\n",
              "      <td>0200769623</td>\n",
              "      <td>WAL-MAR llc</td>\n",
              "      <td>2019-04-22 00:00:00</td>\n",
              "      <td>2019.0</td>\n",
              "      <td>1.929119e+09</td>\n",
              "      <td>2019-04-10</td>\n",
              "      <td>20190410</td>\n",
              "      <td>20190410</td>\n",
              "      <td>20190425.0</td>\n",
              "      <td>USD</td>\n",
              "      <td>RV</td>\n",
              "      <td>1.0</td>\n",
              "      <td>NaN</td>\n",
              "      <td>813.17</td>\n",
              "      <td>20190410.0</td>\n",
              "      <td>NAH4</td>\n",
              "      <td>1.929119e+09</td>\n",
              "      <td>0</td>\n",
              "    </tr>\n",
              "    <tr>\n",
              "      <th>4</th>\n",
              "      <td>CA02</td>\n",
              "      <td>0100034823</td>\n",
              "      <td>ZARCO trust</td>\n",
              "      <td>2019-07-30 00:00:00</td>\n",
              "      <td>2019.0</td>\n",
              "      <td>2.960557e+09</td>\n",
              "      <td>2019-07-12</td>\n",
              "      <td>20190712</td>\n",
              "      <td>20190712</td>\n",
              "      <td>20190725.0</td>\n",
              "      <td>CAD</td>\n",
              "      <td>RV</td>\n",
              "      <td>1.0</td>\n",
              "      <td>NaN</td>\n",
              "      <td>14854.70</td>\n",
              "      <td>20190715.0</td>\n",
              "      <td>CA10</td>\n",
              "      <td>2.960557e+09</td>\n",
              "      <td>0</td>\n",
              "    </tr>\n",
              "    <tr>\n",
              "      <th>...</th>\n",
              "      <td>...</td>\n",
              "      <td>...</td>\n",
              "      <td>...</td>\n",
              "      <td>...</td>\n",
              "      <td>...</td>\n",
              "      <td>...</td>\n",
              "      <td>...</td>\n",
              "      <td>...</td>\n",
              "      <td>...</td>\n",
              "      <td>...</td>\n",
              "      <td>...</td>\n",
              "      <td>...</td>\n",
              "      <td>...</td>\n",
              "      <td>...</td>\n",
              "      <td>...</td>\n",
              "      <td>...</td>\n",
              "      <td>...</td>\n",
              "      <td>...</td>\n",
              "      <td>...</td>\n",
              "    </tr>\n",
              "    <tr>\n",
              "      <th>49992</th>\n",
              "      <td>U001</td>\n",
              "      <td>0200769623</td>\n",
              "      <td>WAL-MAR co</td>\n",
              "      <td>2019-12-09 00:00:00</td>\n",
              "      <td>2019.0</td>\n",
              "      <td>1.930191e+09</td>\n",
              "      <td>2019-11-26</td>\n",
              "      <td>20191126</td>\n",
              "      <td>20191126</td>\n",
              "      <td>20191211.0</td>\n",
              "      <td>USD</td>\n",
              "      <td>RV</td>\n",
              "      <td>1.0</td>\n",
              "      <td>NaN</td>\n",
              "      <td>21003.08</td>\n",
              "      <td>20191126.0</td>\n",
              "      <td>NAH4</td>\n",
              "      <td>1.930191e+09</td>\n",
              "      <td>0</td>\n",
              "    </tr>\n",
              "    <tr>\n",
              "      <th>49994</th>\n",
              "      <td>U001</td>\n",
              "      <td>0200769623</td>\n",
              "      <td>WAL-MAR foundation</td>\n",
              "      <td>2019-03-19 00:00:00</td>\n",
              "      <td>2019.0</td>\n",
              "      <td>1.928889e+09</td>\n",
              "      <td>2019-03-03</td>\n",
              "      <td>20190302</td>\n",
              "      <td>20190303</td>\n",
              "      <td>20190318.0</td>\n",
              "      <td>USD</td>\n",
              "      <td>RV</td>\n",
              "      <td>1.0</td>\n",
              "      <td>NaN</td>\n",
              "      <td>887.50</td>\n",
              "      <td>20190303.0</td>\n",
              "      <td>NAH4</td>\n",
              "      <td>1.928889e+09</td>\n",
              "      <td>0</td>\n",
              "    </tr>\n",
              "    <tr>\n",
              "      <th>49996</th>\n",
              "      <td>U001</td>\n",
              "      <td>0200806580</td>\n",
              "      <td>BE foundation</td>\n",
              "      <td>2019-06-24 00:00:00</td>\n",
              "      <td>2019.0</td>\n",
              "      <td>1.929485e+09</td>\n",
              "      <td>2019-06-18</td>\n",
              "      <td>20190612</td>\n",
              "      <td>20190618</td>\n",
              "      <td>20190703.0</td>\n",
              "      <td>USD</td>\n",
              "      <td>RV</td>\n",
              "      <td>1.0</td>\n",
              "      <td>NaN</td>\n",
              "      <td>23426.15</td>\n",
              "      <td>20190618.0</td>\n",
              "      <td>NAA8</td>\n",
              "      <td>1.929485e+09</td>\n",
              "      <td>0</td>\n",
              "    </tr>\n",
              "    <tr>\n",
              "      <th>49997</th>\n",
              "      <td>U001</td>\n",
              "      <td>0200881076</td>\n",
              "      <td>ALBERT us</td>\n",
              "      <td>2019-04-23 00:00:00</td>\n",
              "      <td>2019.0</td>\n",
              "      <td>1.929109e+09</td>\n",
              "      <td>2019-04-08</td>\n",
              "      <td>20190408</td>\n",
              "      <td>20190408</td>\n",
              "      <td>20190423.0</td>\n",
              "      <td>USD</td>\n",
              "      <td>RV</td>\n",
              "      <td>1.0</td>\n",
              "      <td>NaN</td>\n",
              "      <td>65906.57</td>\n",
              "      <td>20190408.0</td>\n",
              "      <td>NAA8</td>\n",
              "      <td>1.929109e+09</td>\n",
              "      <td>0</td>\n",
              "    </tr>\n",
              "    <tr>\n",
              "      <th>49998</th>\n",
              "      <td>U001</td>\n",
              "      <td>0200772670</td>\n",
              "      <td>ASSOCIAT foundation</td>\n",
              "      <td>2019-08-02 00:00:00</td>\n",
              "      <td>2019.0</td>\n",
              "      <td>1.929634e+09</td>\n",
              "      <td>2019-07-18</td>\n",
              "      <td>20190718</td>\n",
              "      <td>20190718</td>\n",
              "      <td>20190802.0</td>\n",
              "      <td>USD</td>\n",
              "      <td>RV</td>\n",
              "      <td>1.0</td>\n",
              "      <td>NaN</td>\n",
              "      <td>126176.21</td>\n",
              "      <td>20190718.0</td>\n",
              "      <td>NAU5</td>\n",
              "      <td>1.929634e+09</td>\n",
              "      <td>0</td>\n",
              "    </tr>\n",
              "  </tbody>\n",
              "</table>\n",
              "<p>40000 rows × 19 columns</p>\n",
              "</div>"
            ],
            "text/plain": [
              "      business_code cust_number  ...    invoice_id isOpen\n",
              "0              U001  0200416837  ...  1.928830e+09      0\n",
              "1              U001  0200704858  ...  1.929816e+09      0\n",
              "2              CA02  0140105847  ...  2.960566e+09      0\n",
              "3              U001  0200769623  ...  1.929119e+09      0\n",
              "4              CA02  0100034823  ...  2.960557e+09      0\n",
              "...             ...         ...  ...           ...    ...\n",
              "49992          U001  0200769623  ...  1.930191e+09      0\n",
              "49994          U001  0200769623  ...  1.928889e+09      0\n",
              "49996          U001  0200806580  ...  1.929485e+09      0\n",
              "49997          U001  0200881076  ...  1.929109e+09      0\n",
              "49998          U001  0200772670  ...  1.929634e+09      0\n",
              "\n",
              "[40000 rows x 19 columns]"
            ]
          },
          "metadata": {
            "tags": []
          },
          "execution_count": 1106
        }
      ]
    },
    {
      "cell_type": "code",
      "metadata": {
        "colab": {
          "base_uri": "https://localhost:8080/"
        },
        "id": "9c1a2530",
        "outputId": "60b414c7-d949-4413-aa6f-9b2da8faf6c9"
      },
      "source": [
        "data_set_main.info()"
      ],
      "id": "9c1a2530",
      "execution_count": 1107,
      "outputs": [
        {
          "output_type": "stream",
          "text": [
            "<class 'pandas.core.frame.DataFrame'>\n",
            "Int64Index: 40000 entries, 0 to 49998\n",
            "Data columns (total 19 columns):\n",
            " #   Column                  Non-Null Count  Dtype  \n",
            "---  ------                  --------------  -----  \n",
            " 0   business_code           40000 non-null  object \n",
            " 1   cust_number             40000 non-null  object \n",
            " 2   name_customer           40000 non-null  object \n",
            " 3   clear_date              40000 non-null  object \n",
            " 4   buisness_year           40000 non-null  float64\n",
            " 5   doc_id                  40000 non-null  float64\n",
            " 6   posting_date            40000 non-null  object \n",
            " 7   document_create_date    40000 non-null  int64  \n",
            " 8   document_create_date.1  40000 non-null  int64  \n",
            " 9   due_in_date             40000 non-null  float64\n",
            " 10  invoice_currency        40000 non-null  object \n",
            " 11  document type           40000 non-null  object \n",
            " 12  posting_id              40000 non-null  float64\n",
            " 13  area_business           0 non-null      float64\n",
            " 14  total_open_amount       40000 non-null  float64\n",
            " 15  baseline_create_date    40000 non-null  float64\n",
            " 16  cust_payment_terms      40000 non-null  object \n",
            " 17  invoice_id              39995 non-null  float64\n",
            " 18  isOpen                  40000 non-null  int64  \n",
            "dtypes: float64(8), int64(3), object(8)\n",
            "memory usage: 6.1+ MB\n"
          ],
          "name": "stdout"
        }
      ]
    },
    {
      "cell_type": "code",
      "metadata": {
        "id": "6612d07e"
      },
      "source": [
        "# since area_bussiness is constant feature hence we will drop this column\n",
        "\n",
        "data_set_main = data_set_main.drop('area_business', axis=1)\n",
        "data_set_test = data_set_test.drop('area_business', axis=1)"
      ],
      "id": "6612d07e",
      "execution_count": 1108,
      "outputs": []
    },
    {
      "cell_type": "code",
      "metadata": {
        "colab": {
          "base_uri": "https://localhost:8080/"
        },
        "id": "52543588",
        "outputId": "f1344726-8c59-4a37-d111-31ab14e17a4c"
      },
      "source": [
        "# to check how many unique values are present in a particular column\n",
        "\n",
        "data_set_main.nunique()"
      ],
      "id": "52543588",
      "execution_count": 1109,
      "outputs": [
        {
          "output_type": "execute_result",
          "data": {
            "text/plain": [
              "business_code                 6\n",
              "cust_number                1337\n",
              "name_customer              3861\n",
              "clear_date                  400\n",
              "buisness_year                 2\n",
              "doc_id                    39145\n",
              "posting_date                422\n",
              "document_create_date        427\n",
              "document_create_date.1      423\n",
              "due_in_date                 492\n",
              "invoice_currency              2\n",
              "document type                 2\n",
              "posting_id                    1\n",
              "total_open_amount         35659\n",
              "baseline_create_date        431\n",
              "cust_payment_terms           69\n",
              "invoice_id                39140\n",
              "isOpen                        1\n",
              "dtype: int64"
            ]
          },
          "metadata": {
            "tags": []
          },
          "execution_count": 1109
        }
      ]
    },
    {
      "cell_type": "code",
      "metadata": {
        "colab": {
          "base_uri": "https://localhost:8080/"
        },
        "id": "6e25c23c",
        "outputId": "7c80cb74-6585-496b-c033-d6981b345a66"
      },
      "source": [
        "# This line of code returns the number of missing values in each column\n",
        "\n",
        "data_set_main.isna().sum()"
      ],
      "id": "6e25c23c",
      "execution_count": 1110,
      "outputs": [
        {
          "output_type": "execute_result",
          "data": {
            "text/plain": [
              "business_code             0\n",
              "cust_number               0\n",
              "name_customer             0\n",
              "clear_date                0\n",
              "buisness_year             0\n",
              "doc_id                    0\n",
              "posting_date              0\n",
              "document_create_date      0\n",
              "document_create_date.1    0\n",
              "due_in_date               0\n",
              "invoice_currency          0\n",
              "document type             0\n",
              "posting_id                0\n",
              "total_open_amount         0\n",
              "baseline_create_date      0\n",
              "cust_payment_terms        0\n",
              "invoice_id                5\n",
              "isOpen                    0\n",
              "dtype: int64"
            ]
          },
          "metadata": {
            "tags": []
          },
          "execution_count": 1110
        }
      ]
    },
    {
      "cell_type": "code",
      "metadata": {
        "id": "15cf81e3"
      },
      "source": [
        "# we are droping constant features\n",
        "data_set_main = data_set_main.drop('posting_id', axis=1)\n",
        "data_set_test = data_set_test.drop('posting_id', axis=1)\n",
        "data_set_main = data_set_main.drop('isOpen', axis=1)\n",
        "data_set_test = data_set_test.drop('isOpen', axis=1)\n",
        "data_set_main = data_set_main.drop('invoice_id', axis=1)\n",
        "data_set_test = data_set_test.drop('invoice_id', axis=1)"
      ],
      "id": "15cf81e3",
      "execution_count": 1111,
      "outputs": []
    },
    {
      "cell_type": "code",
      "metadata": {
        "id": "fac8f122"
      },
      "source": [
        "# remove duplicates from the dataset\n",
        "data_set_main = data_set_main.loc[:,~data_set_main.columns.duplicated()]\n",
        "data_set_test = data_set_test.loc[:,~data_set_main.columns.duplicated()]"
      ],
      "id": "fac8f122",
      "execution_count": 1112,
      "outputs": []
    },
    {
      "cell_type": "code",
      "metadata": {
        "id": "be06d097"
      },
      "source": [
        "# changing object datatype to string datatype\n",
        "\n",
        "data_set_main['clear_date']=pd.to_datetime(data_set_main['clear_date'].astype(str))\n",
        "data_set_main['due_in_date'] = pd.to_datetime(data_set_main['due_in_date'], format='%Y%m%d') \n",
        "data_set_main['posting_date']=pd.to_datetime(data_set_main['posting_date'].astype(str))\n",
        "data_set_main['document_create_date'] = pd.to_datetime(data_set_main['document_create_date'], format='%Y%m%d') \n",
        "data_set_main['document_create_date.1'] = pd.to_datetime(data_set_main['document_create_date.1'], format='%Y%m%d') \n",
        "data_set_main['baseline_create_date'] = pd.to_datetime(data_set_main['baseline_create_date'], format='%Y%m%d')\n",
        "\n",
        "\n",
        "data_set_test['posting_date']=pd.to_datetime(data_set_test['posting_date'].astype(str))\n",
        "data_set_test['document_create_date'] = pd.to_datetime(data_set_test['document_create_date'], format='%Y%m%d') \n",
        "data_set_test['document_create_date.1'] = pd.to_datetime(data_set_test['document_create_date.1'], format='%Y%m%d') \n",
        "data_set_test['baseline_create_date'] = pd.to_datetime(data_set_test['baseline_create_date'], format='%Y%m%d')\n",
        "data_set_test['due_in_date'] = pd.to_datetime(data_set_test['due_in_date'], format='%Y%m%d') \n",
        "data_set_test['clear_date']=pd.to_datetime(data_set_test['clear_date'].astype(str))"
      ],
      "id": "be06d097",
      "execution_count": 1113,
      "outputs": []
    },
    {
      "cell_type": "code",
      "metadata": {
        "colab": {
          "base_uri": "https://localhost:8080/",
          "height": 487
        },
        "id": "9732450d",
        "outputId": "648ca8aa-bc51-4a5b-c4c6-d9ba77ba0634"
      },
      "source": [
        "data_set_main=data_set_main.sort_values('posting_date')\n",
        "\n",
        "data_set_test=data_set_test.sort_values('posting_date')\n",
        "data_set_main"
      ],
      "id": "9732450d",
      "execution_count": 1114,
      "outputs": [
        {
          "output_type": "execute_result",
          "data": {
            "text/html": [
              "<div>\n",
              "<style scoped>\n",
              "    .dataframe tbody tr th:only-of-type {\n",
              "        vertical-align: middle;\n",
              "    }\n",
              "\n",
              "    .dataframe tbody tr th {\n",
              "        vertical-align: top;\n",
              "    }\n",
              "\n",
              "    .dataframe thead th {\n",
              "        text-align: right;\n",
              "    }\n",
              "</style>\n",
              "<table border=\"1\" class=\"dataframe\">\n",
              "  <thead>\n",
              "    <tr style=\"text-align: right;\">\n",
              "      <th></th>\n",
              "      <th>business_code</th>\n",
              "      <th>cust_number</th>\n",
              "      <th>name_customer</th>\n",
              "      <th>clear_date</th>\n",
              "      <th>buisness_year</th>\n",
              "      <th>doc_id</th>\n",
              "      <th>posting_date</th>\n",
              "      <th>document_create_date</th>\n",
              "      <th>document_create_date.1</th>\n",
              "      <th>due_in_date</th>\n",
              "      <th>invoice_currency</th>\n",
              "      <th>document type</th>\n",
              "      <th>total_open_amount</th>\n",
              "      <th>baseline_create_date</th>\n",
              "      <th>cust_payment_terms</th>\n",
              "    </tr>\n",
              "  </thead>\n",
              "  <tbody>\n",
              "    <tr>\n",
              "      <th>20743</th>\n",
              "      <td>U001</td>\n",
              "      <td>0200769623</td>\n",
              "      <td>WAL-MAR co</td>\n",
              "      <td>2019-01-09</td>\n",
              "      <td>2019.0</td>\n",
              "      <td>1.928538e+09</td>\n",
              "      <td>2018-12-30</td>\n",
              "      <td>2018-12-29</td>\n",
              "      <td>2018-12-30</td>\n",
              "      <td>2019-01-14</td>\n",
              "      <td>USD</td>\n",
              "      <td>RV</td>\n",
              "      <td>78.95</td>\n",
              "      <td>2018-12-30</td>\n",
              "      <td>NAH4</td>\n",
              "    </tr>\n",
              "    <tr>\n",
              "      <th>15202</th>\n",
              "      <td>U001</td>\n",
              "      <td>0200726979</td>\n",
              "      <td>BJ'S  us</td>\n",
              "      <td>2019-01-15</td>\n",
              "      <td>2019.0</td>\n",
              "      <td>1.928540e+09</td>\n",
              "      <td>2018-12-30</td>\n",
              "      <td>2018-12-29</td>\n",
              "      <td>2018-12-30</td>\n",
              "      <td>2019-01-14</td>\n",
              "      <td>USD</td>\n",
              "      <td>RV</td>\n",
              "      <td>249.89</td>\n",
              "      <td>2018-12-30</td>\n",
              "      <td>NAA8</td>\n",
              "    </tr>\n",
              "    <tr>\n",
              "      <th>34429</th>\n",
              "      <td>CA02</td>\n",
              "      <td>0140106408</td>\n",
              "      <td>WAL-M systems</td>\n",
              "      <td>2019-01-25</td>\n",
              "      <td>2019.0</td>\n",
              "      <td>2.960520e+09</td>\n",
              "      <td>2018-12-30</td>\n",
              "      <td>2018-12-30</td>\n",
              "      <td>2018-12-30</td>\n",
              "      <td>2019-01-09</td>\n",
              "      <td>CAD</td>\n",
              "      <td>RV</td>\n",
              "      <td>70575.97</td>\n",
              "      <td>2018-12-30</td>\n",
              "      <td>CA10</td>\n",
              "    </tr>\n",
              "    <tr>\n",
              "      <th>40</th>\n",
              "      <td>U001</td>\n",
              "      <td>0200769623</td>\n",
              "      <td>WAL-MAR corporation</td>\n",
              "      <td>2019-01-09</td>\n",
              "      <td>2019.0</td>\n",
              "      <td>1.928521e+09</td>\n",
              "      <td>2018-12-30</td>\n",
              "      <td>2018-12-31</td>\n",
              "      <td>2018-12-30</td>\n",
              "      <td>2019-01-14</td>\n",
              "      <td>USD</td>\n",
              "      <td>RV</td>\n",
              "      <td>16513.64</td>\n",
              "      <td>2018-12-30</td>\n",
              "      <td>NAH4</td>\n",
              "    </tr>\n",
              "    <tr>\n",
              "      <th>30358</th>\n",
              "      <td>U001</td>\n",
              "      <td>0200769623</td>\n",
              "      <td>WAL-MAR in</td>\n",
              "      <td>2019-01-10</td>\n",
              "      <td>2019.0</td>\n",
              "      <td>1.928532e+09</td>\n",
              "      <td>2018-12-30</td>\n",
              "      <td>2018-12-29</td>\n",
              "      <td>2018-12-30</td>\n",
              "      <td>2019-01-14</td>\n",
              "      <td>USD</td>\n",
              "      <td>RV</td>\n",
              "      <td>16663.36</td>\n",
              "      <td>2018-12-30</td>\n",
              "      <td>NAH4</td>\n",
              "    </tr>\n",
              "    <tr>\n",
              "      <th>...</th>\n",
              "      <td>...</td>\n",
              "      <td>...</td>\n",
              "      <td>...</td>\n",
              "      <td>...</td>\n",
              "      <td>...</td>\n",
              "      <td>...</td>\n",
              "      <td>...</td>\n",
              "      <td>...</td>\n",
              "      <td>...</td>\n",
              "      <td>...</td>\n",
              "      <td>...</td>\n",
              "      <td>...</td>\n",
              "      <td>...</td>\n",
              "      <td>...</td>\n",
              "      <td>...</td>\n",
              "    </tr>\n",
              "    <tr>\n",
              "      <th>47291</th>\n",
              "      <td>U001</td>\n",
              "      <td>0200794332</td>\n",
              "      <td>COST llc</td>\n",
              "      <td>2020-03-11</td>\n",
              "      <td>2020.0</td>\n",
              "      <td>1.930572e+09</td>\n",
              "      <td>2020-02-26</td>\n",
              "      <td>2020-02-26</td>\n",
              "      <td>2020-02-26</td>\n",
              "      <td>2020-03-12</td>\n",
              "      <td>USD</td>\n",
              "      <td>RV</td>\n",
              "      <td>44757.24</td>\n",
              "      <td>2020-02-26</td>\n",
              "      <td>NAAX</td>\n",
              "    </tr>\n",
              "    <tr>\n",
              "      <th>31045</th>\n",
              "      <td>U001</td>\n",
              "      <td>0200759878</td>\n",
              "      <td>SA corporation</td>\n",
              "      <td>2020-03-13</td>\n",
              "      <td>2020.0</td>\n",
              "      <td>1.930560e+09</td>\n",
              "      <td>2020-02-26</td>\n",
              "      <td>2020-02-23</td>\n",
              "      <td>2020-02-26</td>\n",
              "      <td>2020-03-12</td>\n",
              "      <td>USD</td>\n",
              "      <td>RV</td>\n",
              "      <td>14422.83</td>\n",
              "      <td>2020-02-26</td>\n",
              "      <td>NAH4</td>\n",
              "    </tr>\n",
              "    <tr>\n",
              "      <th>41386</th>\n",
              "      <td>U001</td>\n",
              "      <td>0100031704</td>\n",
              "      <td>DELHAIZE</td>\n",
              "      <td>2020-03-17</td>\n",
              "      <td>2020.0</td>\n",
              "      <td>1.930577e+09</td>\n",
              "      <td>2020-02-27</td>\n",
              "      <td>2020-02-27</td>\n",
              "      <td>2020-02-27</td>\n",
              "      <td>2020-03-13</td>\n",
              "      <td>USD</td>\n",
              "      <td>RV</td>\n",
              "      <td>104677.14</td>\n",
              "      <td>2020-02-27</td>\n",
              "      <td>NAA8</td>\n",
              "    </tr>\n",
              "    <tr>\n",
              "      <th>2227</th>\n",
              "      <td>U001</td>\n",
              "      <td>0200759878</td>\n",
              "      <td>SA in</td>\n",
              "      <td>2020-03-13</td>\n",
              "      <td>2020.0</td>\n",
              "      <td>1.930571e+09</td>\n",
              "      <td>2020-02-27</td>\n",
              "      <td>2020-02-26</td>\n",
              "      <td>2020-02-27</td>\n",
              "      <td>2020-03-13</td>\n",
              "      <td>USD</td>\n",
              "      <td>RV</td>\n",
              "      <td>75231.52</td>\n",
              "      <td>2020-02-27</td>\n",
              "      <td>NAH4</td>\n",
              "    </tr>\n",
              "    <tr>\n",
              "      <th>2194</th>\n",
              "      <td>U001</td>\n",
              "      <td>0200794332</td>\n",
              "      <td>COST trust</td>\n",
              "      <td>2020-03-12</td>\n",
              "      <td>2020.0</td>\n",
              "      <td>1.930577e+09</td>\n",
              "      <td>2020-02-27</td>\n",
              "      <td>2020-02-27</td>\n",
              "      <td>2020-02-27</td>\n",
              "      <td>2020-03-13</td>\n",
              "      <td>USD</td>\n",
              "      <td>RV</td>\n",
              "      <td>15536.86</td>\n",
              "      <td>2020-02-27</td>\n",
              "      <td>NAAX</td>\n",
              "    </tr>\n",
              "  </tbody>\n",
              "</table>\n",
              "<p>40000 rows × 15 columns</p>\n",
              "</div>"
            ],
            "text/plain": [
              "      business_code cust_number  ... baseline_create_date cust_payment_terms\n",
              "20743          U001  0200769623  ...           2018-12-30               NAH4\n",
              "15202          U001  0200726979  ...           2018-12-30               NAA8\n",
              "34429          CA02  0140106408  ...           2018-12-30               CA10\n",
              "40             U001  0200769623  ...           2018-12-30               NAH4\n",
              "30358          U001  0200769623  ...           2018-12-30               NAH4\n",
              "...             ...         ...  ...                  ...                ...\n",
              "47291          U001  0200794332  ...           2020-02-26               NAAX\n",
              "31045          U001  0200759878  ...           2020-02-26               NAH4\n",
              "41386          U001  0100031704  ...           2020-02-27               NAA8\n",
              "2227           U001  0200759878  ...           2020-02-27               NAH4\n",
              "2194           U001  0200794332  ...           2020-02-27               NAAX\n",
              "\n",
              "[40000 rows x 15 columns]"
            ]
          },
          "metadata": {
            "tags": []
          },
          "execution_count": 1114
        }
      ]
    },
    {
      "cell_type": "code",
      "metadata": {
        "id": "4cd9b49b"
      },
      "source": [
        "# Converting USD and CAD and 1 CAD = 0.81 USD\n",
        "\n",
        "x = data_set[data_set['invoice_currency']=='CAD']['total_open_amount'].map(lambda x: x*0.81)    \n",
        "\n",
        "for i in x.index:\n",
        "    data_set['total_open_amount'][i] = 0.81*x[i]\n",
        "\n",
        "\n",
        "data = data_set.drop(columns=['invoice_currency'])\n",
        "\n",
        "x = data_set_main[data_set_main['invoice_currency']=='CAD']['total_open_amount'].map(lambda x: x*0.81)    \n",
        "\n",
        "for i in x.index:\n",
        "    data_set_main['total_open_amount'][i] = 0.81*x[i]\n"
      ],
      "id": "4cd9b49b",
      "execution_count": 1115,
      "outputs": []
    },
    {
      "cell_type": "code",
      "metadata": {
        "id": "2b952366"
      },
      "source": [
        "# Converting USD and CAD and 1 CAD = 0.81 USD\n",
        "\n",
        "x = data_set[data_set['invoice_currency']=='CAD']['total_open_amount'].map(lambda x: x*0.81)    \n",
        "\n",
        "for i in x.index:\n",
        "    data_set['total_open_amount'][i] = 0.81*x[i]\n",
        "\n",
        "\n",
        "data1 = data_set.drop(columns=['invoice_currency'])\n",
        "\n",
        "x = data_set_test[data_set_test['invoice_currency']=='CAD']['total_open_amount'].map(lambda x: x*0.81)    \n",
        "\n",
        "for i in x.index:\n",
        "    data_set_test['total_open_amount'][i] = 0.81*x[i]\n"
      ],
      "id": "2b952366",
      "execution_count": 1116,
      "outputs": []
    },
    {
      "cell_type": "code",
      "metadata": {
        "colab": {
          "base_uri": "https://localhost:8080/"
        },
        "id": "afaadace",
        "outputId": "eaec8a9a-799b-4e93-ec4f-0aef9d8641db"
      },
      "source": [
        "data_set_main[\"cust_number\"]"
      ],
      "id": "afaadace",
      "execution_count": 1117,
      "outputs": [
        {
          "output_type": "execute_result",
          "data": {
            "text/plain": [
              "20743    0200769623\n",
              "15202    0200726979\n",
              "34429    0140106408\n",
              "40       0200769623\n",
              "30358    0200769623\n",
              "            ...    \n",
              "47291    0200794332\n",
              "31045    0200759878\n",
              "41386    0100031704\n",
              "2227     0200759878\n",
              "2194     0200794332\n",
              "Name: cust_number, Length: 40000, dtype: object"
            ]
          },
          "metadata": {
            "tags": []
          },
          "execution_count": 1117
        }
      ]
    },
    {
      "cell_type": "code",
      "metadata": {
        "id": "96ac3f80"
      },
      "source": [
        "# 'Cust_number' features contains some ambiguity hence I am dropping few column which are irrelevant\n",
        "data_set_main[\"cust_number\"] = pd.to_numeric(data_set_main['cust_number'],errors='coerce') # invalid parsing will be set as NaN\n",
        "data_set_main = data_set_main.dropna()"
      ],
      "id": "96ac3f80",
      "execution_count": 1118,
      "outputs": []
    },
    {
      "cell_type": "code",
      "metadata": {
        "colab": {
          "base_uri": "https://localhost:8080/"
        },
        "id": "69e5d18f",
        "outputId": "e342a38c-60d0-4952-83d1-0d0a6bbcccea"
      },
      "source": [
        "data_set_main.shape"
      ],
      "id": "69e5d18f",
      "execution_count": 1119,
      "outputs": [
        {
          "output_type": "execute_result",
          "data": {
            "text/plain": [
              "(38676, 15)"
            ]
          },
          "metadata": {
            "tags": []
          },
          "execution_count": 1119
        }
      ]
    },
    {
      "cell_type": "code",
      "metadata": {
        "colab": {
          "base_uri": "https://localhost:8080/"
        },
        "id": "edlb_adLgSts",
        "outputId": "b693f9ae-67bd-490a-907f-768fbf3a5d9b"
      },
      "source": [
        "data_set_main.info()"
      ],
      "id": "edlb_adLgSts",
      "execution_count": 1120,
      "outputs": [
        {
          "output_type": "stream",
          "text": [
            "<class 'pandas.core.frame.DataFrame'>\n",
            "Int64Index: 38676 entries, 20743 to 2194\n",
            "Data columns (total 15 columns):\n",
            " #   Column                  Non-Null Count  Dtype         \n",
            "---  ------                  --------------  -----         \n",
            " 0   business_code           38676 non-null  object        \n",
            " 1   cust_number             38676 non-null  float64       \n",
            " 2   name_customer           38676 non-null  object        \n",
            " 3   clear_date              38676 non-null  datetime64[ns]\n",
            " 4   buisness_year           38676 non-null  float64       \n",
            " 5   doc_id                  38676 non-null  float64       \n",
            " 6   posting_date            38676 non-null  datetime64[ns]\n",
            " 7   document_create_date    38676 non-null  datetime64[ns]\n",
            " 8   document_create_date.1  38676 non-null  datetime64[ns]\n",
            " 9   due_in_date             38676 non-null  datetime64[ns]\n",
            " 10  invoice_currency        38676 non-null  object        \n",
            " 11  document type           38676 non-null  object        \n",
            " 12  total_open_amount       38676 non-null  float64       \n",
            " 13  baseline_create_date    38676 non-null  datetime64[ns]\n",
            " 14  cust_payment_terms      38676 non-null  object        \n",
            "dtypes: datetime64[ns](6), float64(4), object(5)\n",
            "memory usage: 4.7+ MB\n"
          ],
          "name": "stdout"
        }
      ]
    },
    {
      "cell_type": "code",
      "metadata": {
        "id": "7065c049"
      },
      "source": [
        "# Storing the difference of clear_date and due_in_date in another column that is our target feature.\n",
        "\n",
        "data_set_main['target'] = (data_set_main['clear_date'] - data_set_main['due_in_date']).dt.days\n",
        "data_set_main = data_set_main.drop('clear_date', axis=1)"
      ],
      "id": "7065c049",
      "execution_count": 1121,
      "outputs": []
    },
    {
      "cell_type": "code",
      "metadata": {
        "id": "8b3a7c43"
      },
      "source": [
        "data_set_test['target'] = (data_set_test['clear_date'] - data_set_test['due_in_date']).dt.days\n",
        "data_set_test = data_set_test.drop('clear_date', axis=1)"
      ],
      "id": "8b3a7c43",
      "execution_count": 1122,
      "outputs": []
    },
    {
      "cell_type": "code",
      "metadata": {
        "id": "b528a91a"
      },
      "source": [
        "# Breaking 'posting_date' into month, days and weekday\n",
        "\n",
        "data_set_main['post_month'] = data_set_main['posting_date'].dt.month\n",
        "data_set_main['post_day'] = data_set_main['posting_date'].dt.day\n",
        "data_set_main['post_year_weeksdays'] = data_set_main['posting_date'].dt.weekday\n",
        "data_set_main = data_set_main.drop('posting_date',axis=1)"
      ],
      "id": "b528a91a",
      "execution_count": 1123,
      "outputs": []
    },
    {
      "cell_type": "code",
      "metadata": {
        "id": "7d8555ac"
      },
      "source": [
        "data_set_test['post_month'] = data_set_test['posting_date'].dt.month\n",
        "data_set_test['post_day'] = data_set_test['posting_date'].dt.day\n",
        "data_set_test['post_year_weeksdays'] = data_set_test['posting_date'].dt.weekday\n",
        "data_set_test = data_set_test.drop('posting_date',axis=1)"
      ],
      "id": "7d8555ac",
      "execution_count": 1124,
      "outputs": []
    },
    {
      "cell_type": "code",
      "metadata": {
        "id": "3ae780ab"
      },
      "source": [
        "# Breaking 'document_create_date' into month, days and weekday\n",
        "data_set_main['document_create_month'] = data_set_main['document_create_date'].dt.month\n",
        "data_set_main['document_create_day'] = data_set_main['document_create_date'].dt.day\n",
        "data_set_main['document_create_weeksdays'] = data_set_main['document_create_date'].dt.weekday\n",
        "data_set_main = data_set_main.drop('document_create_date',axis=1)"
      ],
      "id": "3ae780ab",
      "execution_count": 1125,
      "outputs": []
    },
    {
      "cell_type": "code",
      "metadata": {
        "colab": {
          "base_uri": "https://localhost:8080/",
          "height": 274
        },
        "id": "CL-FxncOnl3u",
        "outputId": "8c04c5fa-bc0c-4e0a-8d8d-4856af30c54f"
      },
      "source": [
        "data_set_main.head()"
      ],
      "id": "CL-FxncOnl3u",
      "execution_count": 1126,
      "outputs": [
        {
          "output_type": "execute_result",
          "data": {
            "text/html": [
              "<div>\n",
              "<style scoped>\n",
              "    .dataframe tbody tr th:only-of-type {\n",
              "        vertical-align: middle;\n",
              "    }\n",
              "\n",
              "    .dataframe tbody tr th {\n",
              "        vertical-align: top;\n",
              "    }\n",
              "\n",
              "    .dataframe thead th {\n",
              "        text-align: right;\n",
              "    }\n",
              "</style>\n",
              "<table border=\"1\" class=\"dataframe\">\n",
              "  <thead>\n",
              "    <tr style=\"text-align: right;\">\n",
              "      <th></th>\n",
              "      <th>business_code</th>\n",
              "      <th>cust_number</th>\n",
              "      <th>name_customer</th>\n",
              "      <th>buisness_year</th>\n",
              "      <th>doc_id</th>\n",
              "      <th>document_create_date.1</th>\n",
              "      <th>due_in_date</th>\n",
              "      <th>invoice_currency</th>\n",
              "      <th>document type</th>\n",
              "      <th>total_open_amount</th>\n",
              "      <th>baseline_create_date</th>\n",
              "      <th>cust_payment_terms</th>\n",
              "      <th>target</th>\n",
              "      <th>post_month</th>\n",
              "      <th>post_day</th>\n",
              "      <th>post_year_weeksdays</th>\n",
              "      <th>document_create_month</th>\n",
              "      <th>document_create_day</th>\n",
              "      <th>document_create_weeksdays</th>\n",
              "    </tr>\n",
              "  </thead>\n",
              "  <tbody>\n",
              "    <tr>\n",
              "      <th>20743</th>\n",
              "      <td>U001</td>\n",
              "      <td>200769623.0</td>\n",
              "      <td>WAL-MAR co</td>\n",
              "      <td>2019.0</td>\n",
              "      <td>1.928538e+09</td>\n",
              "      <td>2018-12-30</td>\n",
              "      <td>2019-01-14</td>\n",
              "      <td>USD</td>\n",
              "      <td>RV</td>\n",
              "      <td>78.950000</td>\n",
              "      <td>2018-12-30</td>\n",
              "      <td>NAH4</td>\n",
              "      <td>-5</td>\n",
              "      <td>12</td>\n",
              "      <td>30</td>\n",
              "      <td>6</td>\n",
              "      <td>12</td>\n",
              "      <td>29</td>\n",
              "      <td>5</td>\n",
              "    </tr>\n",
              "    <tr>\n",
              "      <th>15202</th>\n",
              "      <td>U001</td>\n",
              "      <td>200726979.0</td>\n",
              "      <td>BJ'S  us</td>\n",
              "      <td>2019.0</td>\n",
              "      <td>1.928540e+09</td>\n",
              "      <td>2018-12-30</td>\n",
              "      <td>2019-01-14</td>\n",
              "      <td>USD</td>\n",
              "      <td>RV</td>\n",
              "      <td>249.890000</td>\n",
              "      <td>2018-12-30</td>\n",
              "      <td>NAA8</td>\n",
              "      <td>1</td>\n",
              "      <td>12</td>\n",
              "      <td>30</td>\n",
              "      <td>6</td>\n",
              "      <td>12</td>\n",
              "      <td>29</td>\n",
              "      <td>5</td>\n",
              "    </tr>\n",
              "    <tr>\n",
              "      <th>34429</th>\n",
              "      <td>CA02</td>\n",
              "      <td>140106408.0</td>\n",
              "      <td>WAL-M systems</td>\n",
              "      <td>2019.0</td>\n",
              "      <td>2.960520e+09</td>\n",
              "      <td>2018-12-30</td>\n",
              "      <td>2019-01-09</td>\n",
              "      <td>CAD</td>\n",
              "      <td>RV</td>\n",
              "      <td>46304.893917</td>\n",
              "      <td>2018-12-30</td>\n",
              "      <td>CA10</td>\n",
              "      <td>16</td>\n",
              "      <td>12</td>\n",
              "      <td>30</td>\n",
              "      <td>6</td>\n",
              "      <td>12</td>\n",
              "      <td>30</td>\n",
              "      <td>6</td>\n",
              "    </tr>\n",
              "    <tr>\n",
              "      <th>40</th>\n",
              "      <td>U001</td>\n",
              "      <td>200769623.0</td>\n",
              "      <td>WAL-MAR corporation</td>\n",
              "      <td>2019.0</td>\n",
              "      <td>1.928521e+09</td>\n",
              "      <td>2018-12-30</td>\n",
              "      <td>2019-01-14</td>\n",
              "      <td>USD</td>\n",
              "      <td>RV</td>\n",
              "      <td>16513.640000</td>\n",
              "      <td>2018-12-30</td>\n",
              "      <td>NAH4</td>\n",
              "      <td>-5</td>\n",
              "      <td>12</td>\n",
              "      <td>30</td>\n",
              "      <td>6</td>\n",
              "      <td>12</td>\n",
              "      <td>31</td>\n",
              "      <td>0</td>\n",
              "    </tr>\n",
              "    <tr>\n",
              "      <th>30358</th>\n",
              "      <td>U001</td>\n",
              "      <td>200769623.0</td>\n",
              "      <td>WAL-MAR in</td>\n",
              "      <td>2019.0</td>\n",
              "      <td>1.928532e+09</td>\n",
              "      <td>2018-12-30</td>\n",
              "      <td>2019-01-14</td>\n",
              "      <td>USD</td>\n",
              "      <td>RV</td>\n",
              "      <td>16663.360000</td>\n",
              "      <td>2018-12-30</td>\n",
              "      <td>NAH4</td>\n",
              "      <td>-4</td>\n",
              "      <td>12</td>\n",
              "      <td>30</td>\n",
              "      <td>6</td>\n",
              "      <td>12</td>\n",
              "      <td>29</td>\n",
              "      <td>5</td>\n",
              "    </tr>\n",
              "  </tbody>\n",
              "</table>\n",
              "</div>"
            ],
            "text/plain": [
              "      business_code  ...  document_create_weeksdays\n",
              "20743          U001  ...                          5\n",
              "15202          U001  ...                          5\n",
              "34429          CA02  ...                          6\n",
              "40             U001  ...                          0\n",
              "30358          U001  ...                          5\n",
              "\n",
              "[5 rows x 19 columns]"
            ]
          },
          "metadata": {
            "tags": []
          },
          "execution_count": 1126
        }
      ]
    },
    {
      "cell_type": "code",
      "metadata": {
        "id": "a321d7f9"
      },
      "source": [
        "data_set_test['document_create_month'] = data_set_test['document_create_date'].dt.month\n",
        "data_set_test['document_create_day'] = data_set_test['document_create_date'].dt.day\n",
        "data_set_test['document_create_weeksdays'] = data_set_test['document_create_date'].dt.weekday\n",
        "data_set_test = data_set_test.drop('document_create_date',axis=1)"
      ],
      "id": "a321d7f9",
      "execution_count": 1127,
      "outputs": []
    },
    {
      "cell_type": "code",
      "metadata": {
        "id": "f841cf39"
      },
      "source": [
        "# Breaking 'document_create_date.1' into month, days and weekday\n",
        "data_set_main['document_create1_month'] = data_set_main['document_create_date.1'].dt.month\n",
        "data_set_main['document_create1_day'] = data_set_main['document_create_date.1'].dt.day\n",
        "data_set_main['document_create1_weeksdays'] = data_set_main['document_create_date.1'].dt.weekday\n",
        "data_set_main = data_set_main.drop('document_create_date.1',axis=1)"
      ],
      "id": "f841cf39",
      "execution_count": 1128,
      "outputs": []
    },
    {
      "cell_type": "code",
      "metadata": {
        "id": "ab18450a"
      },
      "source": [
        "data_set_test['document_create1_month'] =data_set_test['document_create_date.1'].dt.month\n",
        "data_set_test['document_create1_day'] = data_set_test['document_create_date.1'].dt.day\n",
        "data_set_test['document_create1_weeksdays'] = data_set_test['document_create_date.1'].dt.weekday\n",
        "data_set_test = data_set_test.drop('document_create_date.1',axis=1)"
      ],
      "id": "ab18450a",
      "execution_count": 1129,
      "outputs": []
    },
    {
      "cell_type": "code",
      "metadata": {
        "id": "6ecff194"
      },
      "source": [
        "\n",
        "data_set_main = data_set_main.drop('due_in_date',axis=1)"
      ],
      "id": "6ecff194",
      "execution_count": 1130,
      "outputs": []
    },
    {
      "cell_type": "code",
      "metadata": {
        "id": "1c895f31"
      },
      "source": [
        "data_set_test = data_set_test.drop('due_in_date',axis=1)"
      ],
      "id": "1c895f31",
      "execution_count": 1131,
      "outputs": []
    },
    {
      "cell_type": "code",
      "metadata": {
        "id": "8c13c28e"
      },
      "source": [
        "# Breaking 'baseline_create_date' into month, days and weekday\n",
        "data_set_main['baseline_create_date_month'] = data_set_main['baseline_create_date'].dt.month\n",
        "data_set_main['baseline_create_date_day'] = data_set_main['baseline_create_date'].dt.day\n",
        "data_set_main['baseline_create_date_year'] = data_set_main['baseline_create_date'].dt.year\n",
        "data_set_main = data_set_main.drop('baseline_create_date',axis=1)"
      ],
      "id": "8c13c28e",
      "execution_count": 1132,
      "outputs": []
    },
    {
      "cell_type": "code",
      "metadata": {
        "id": "87d286b6"
      },
      "source": [
        "# Breaking 'baseline_create_date' into month, days and weekday\n",
        "data_set_test['baseline_create_date_month'] = data_set_test['baseline_create_date'].dt.month\n",
        "data_set_test['baseline_create_date_day'] = data_set_test['baseline_create_date'].dt.day\n",
        "data_set_test['baseline_create_date_year'] = data_set_test['baseline_create_date'].dt.year\n",
        "data_set_test = data_set_test.drop('baseline_create_date',axis=1)"
      ],
      "id": "87d286b6",
      "execution_count": 1133,
      "outputs": []
    },
    {
      "cell_type": "markdown",
      "metadata": {
        "id": "d992abfa"
      },
      "source": [
        "## Split Data into Training, Testing and Validation set."
      ],
      "id": "d992abfa"
    },
    {
      "cell_type": "code",
      "metadata": {
        "id": "8913a4c8"
      },
      "source": [
        "# Seperating target data from dataframe and storing them into another dataframe\n",
        "\n",
        "X = data_set_main.drop(['target'], axis=1) \n",
        "y = data_set_main['target']"
      ],
      "id": "8913a4c8",
      "execution_count": 1134,
      "outputs": []
    },
    {
      "cell_type": "code",
      "metadata": {
        "colab": {
          "base_uri": "https://localhost:8080/"
        },
        "id": "2e2e04ad",
        "outputId": "5eb30800-b275-480f-c8be-33f239638381"
      },
      "source": [
        "# Spliting X, y again.\n",
        "\n",
        "from sklearn.model_selection import train_test_split\n",
        "X_train, X_test_train, y_train, y_test_train = train_test_split(X, y, test_size = 0.2, random_state = 0, shuffle=False)\n",
        "X_train.shape, X_test_train.shape"
      ],
      "id": "2e2e04ad",
      "execution_count": 1135,
      "outputs": [
        {
          "output_type": "execute_result",
          "data": {
            "text/plain": [
              "((30940, 21), (7736, 21))"
            ]
          },
          "metadata": {
            "tags": []
          },
          "execution_count": 1135
        }
      ]
    },
    {
      "cell_type": "code",
      "metadata": {
        "colab": {
          "base_uri": "https://localhost:8080/"
        },
        "id": "2341f683",
        "outputId": "c5f3acdb-d2d1-4fdf-f597-28b73ec2f476"
      },
      "source": [
        "# Again Spliting \n",
        "\n",
        "X_val, X_test, y_val, y_test = train_test_split(X_test_train, y_test_train, test_size = 0.3, random_state = 0, shuffle=False)\n",
        "X_val.shape, X_test.shape"
      ],
      "id": "2341f683",
      "execution_count": 1136,
      "outputs": [
        {
          "output_type": "execute_result",
          "data": {
            "text/plain": [
              "((5415, 21), (2321, 21))"
            ]
          },
          "metadata": {
            "tags": []
          },
          "execution_count": 1136
        }
      ]
    },
    {
      "cell_type": "markdown",
      "metadata": {
        "id": "ab2b0ee2"
      },
      "source": [
        "## Feature Engineering"
      ],
      "id": "ab2b0ee2"
    },
    {
      "cell_type": "markdown",
      "metadata": {
        "id": "a412e8e2"
      },
      "source": [
        "## ---> Started with Label Encoding of Categorical Features."
      ],
      "id": "a412e8e2"
    },
    {
      "cell_type": "code",
      "metadata": {
        "id": "ab0cf5ba"
      },
      "source": [
        "# importing Label Encoding libraries from sklearn \n",
        "\n",
        "from sklearn import preprocessing\n",
        "label_encoder = preprocessing.LabelEncoder()"
      ],
      "id": "ab0cf5ba",
      "execution_count": 1137,
      "outputs": []
    },
    {
      "cell_type": "code",
      "metadata": {
        "colab": {
          "base_uri": "https://localhost:8080/"
        },
        "id": "32a6dc04",
        "outputId": "dd4f8e07-045f-477b-dbcc-9c220a226104"
      },
      "source": [
        "# Label encoding of 'bussiness_code' feature\n",
        "\n",
        "X_train['business_code']= label_encoder.fit_transform(X_train['business_code'])\n",
        "X_test['business_code']= label_encoder.fit_transform(X_test['business_code'])\n",
        "X_val['business_code']= label_encoder.fit_transform(X_val['business_code'])\n",
        "data_set_test['business_code']= label_encoder.fit_transform(data_set_test['business_code'])\n",
        "X_train['business_code'].unique()"
      ],
      "id": "32a6dc04",
      "execution_count": 1138,
      "outputs": [
        {
          "output_type": "execute_result",
          "data": {
            "text/plain": [
              "array([1, 0, 5, 2, 3, 4])"
            ]
          },
          "metadata": {
            "tags": []
          },
          "execution_count": 1138
        }
      ]
    },
    {
      "cell_type": "code",
      "metadata": {
        "colab": {
          "base_uri": "https://localhost:8080/"
        },
        "id": "a3a0f92f",
        "outputId": "fdbd810d-a0cb-4942-dee8-d79b6ea495c9"
      },
      "source": [
        "# Label encoding of 'name_customer' feature\n",
        "\n",
        "X_train['name_customer']= label_encoder.fit_transform(X_train['name_customer'])\n",
        "X_test['name_customer']= label_encoder.fit_transform(X_test['name_customer'])\n",
        "X_val['name_customer']= label_encoder.fit_transform(X_val['name_customer'])\n",
        "data_set_test['name_customer']= label_encoder.fit_transform(data_set_test['name_customer'])\n",
        "X_train['name_customer'].unique()"
      ],
      "id": "a3a0f92f",
      "execution_count": 1139,
      "outputs": [
        {
          "output_type": "execute_result",
          "data": {
            "text/plain": [
              "array([3323,  366, 3318, ..., 2789, 1626, 2112])"
            ]
          },
          "metadata": {
            "tags": []
          },
          "execution_count": 1139
        }
      ]
    },
    {
      "cell_type": "code",
      "metadata": {
        "colab": {
          "base_uri": "https://localhost:8080/"
        },
        "id": "6ffde6d8",
        "outputId": "dcdac878-bc94-4166-b152-81b490a1f6db"
      },
      "source": [
        "# Label encoding of 'cust_payment_terms' feature\n",
        "\n",
        "X_train['cust_payment_terms']= label_encoder.fit_transform(X_train['cust_payment_terms'])\n",
        "X_test['cust_payment_terms']= label_encoder.fit_transform(X_test['cust_payment_terms'])\n",
        "X_val['cust_payment_terms']= label_encoder.fit_transform(X_val['cust_payment_terms'])\n",
        "data_set_test['cust_payment_terms']= label_encoder.fit_transform(data_set_test['cust_payment_terms'])\n",
        "X_train['cust_payment_terms'].unique()"
      ],
      "id": "6ffde6d8",
      "execution_count": 1140,
      "outputs": [
        {
          "output_type": "execute_result",
          "data": {
            "text/plain": [
              "array([31, 18,  5, 53, 27, 52, 23, 25, 20, 17, 11, 29, 19, 42, 60, 56, 35,\n",
              "        6, 55, 32,  4,  8, 33, 14, 58, 13,  3, 47, 21, 22, 24, 15,  2, 12,\n",
              "       54,  9, 30, 44, 48, 62,  7, 46, 28, 45, 16, 50, 26, 36, 51, 57, 37,\n",
              "       10, 59, 38, 43, 34, 39,  0,  1, 40, 61, 49, 41])"
            ]
          },
          "metadata": {
            "tags": []
          },
          "execution_count": 1140
        }
      ]
    },
    {
      "cell_type": "code",
      "metadata": {
        "colab": {
          "base_uri": "https://localhost:8080/"
        },
        "id": "acac9bd5",
        "outputId": "56a870db-972f-411e-b7dc-b674977294ec"
      },
      "source": [
        "# Label encoding of 'document type' feature\n",
        "\n",
        "X_train['document type']= label_encoder.fit_transform(X_train['document type'])\n",
        "X_test['document type']= label_encoder.fit_transform(X_test['document type'])\n",
        "X_val['document type']= label_encoder.fit_transform(X_val['document type'])\n",
        "data_set_test['document type']= label_encoder.fit_transform(data_set_test['document type'])\n",
        "X_train['document type'].unique()"
      ],
      "id": "acac9bd5",
      "execution_count": 1141,
      "outputs": [
        {
          "output_type": "execute_result",
          "data": {
            "text/plain": [
              "array([0, 1])"
            ]
          },
          "metadata": {
            "tags": []
          },
          "execution_count": 1141
        }
      ]
    },
    {
      "cell_type": "code",
      "metadata": {
        "colab": {
          "base_uri": "https://localhost:8080/"
        },
        "id": "033d5d65",
        "outputId": "f945d4eb-f077-46a3-eacd-7908a0515bd3"
      },
      "source": [
        "# Label encoding of 'business_year' feature\n",
        "\n",
        "X_train['buisness_year']= label_encoder.fit_transform(X_train['buisness_year'])\n",
        "X_test['buisness_year']= label_encoder.fit_transform(X_test['buisness_year'])\n",
        "X_val['buisness_year']= label_encoder.fit_transform(X_val['buisness_year'])\n",
        "data_set_test['buisness_year']= label_encoder.fit_transform(data_set_test['buisness_year'])\n",
        "X_train['buisness_year'].unique()"
      ],
      "id": "033d5d65",
      "execution_count": 1142,
      "outputs": [
        {
          "output_type": "execute_result",
          "data": {
            "text/plain": [
              "array([0])"
            ]
          },
          "metadata": {
            "tags": []
          },
          "execution_count": 1142
        }
      ]
    },
    {
      "cell_type": "code",
      "metadata": {
        "colab": {
          "base_uri": "https://localhost:8080/"
        },
        "id": "8c362874",
        "outputId": "500fbd7f-ab74-46f7-8c24-77cb6db28061"
      },
      "source": [
        "# Label encoding of 'invoice_currency' feature\n",
        "\n",
        "X_train['invoice_currency']= label_encoder.fit_transform(X_train['invoice_currency'])\n",
        "X_test['invoice_currency']= label_encoder.fit_transform(X_test['invoice_currency'])\n",
        "X_val['invoice_currency']= label_encoder.fit_transform(X_val['invoice_currency'])\n",
        "data_set_test['invoice_currency']= label_encoder.fit_transform(data_set_test['invoice_currency'])\n",
        "X_train['invoice_currency'].unique()"
      ],
      "id": "8c362874",
      "execution_count": 1143,
      "outputs": [
        {
          "output_type": "execute_result",
          "data": {
            "text/plain": [
              "array([1, 0])"
            ]
          },
          "metadata": {
            "tags": []
          },
          "execution_count": 1143
        }
      ]
    },
    {
      "cell_type": "code",
      "metadata": {
        "colab": {
          "base_uri": "https://localhost:8080/"
        },
        "id": "25662c65",
        "outputId": "6ec4fbe6-481e-43ba-dee5-a0e33e795f9f"
      },
      "source": [
        "# Label encoding of 'baseline_create_date_year' feature\n",
        "\n",
        "X_train['baseline_create_date_year']= label_encoder.fit_transform(X_train['baseline_create_date_year'])\n",
        "X_test['baseline_create_date_year']= label_encoder.fit_transform(X_test['baseline_create_date_year'])\n",
        "X_val['baseline_create_date_year']= label_encoder.fit_transform(X_val['baseline_create_date_year'])\n",
        "data_set_test['baseline_create_date_year']= label_encoder.fit_transform(data_set_test['baseline_create_date_year'])\n",
        "X_train['baseline_create_date_year'].unique()"
      ],
      "id": "25662c65",
      "execution_count": 1144,
      "outputs": [
        {
          "output_type": "execute_result",
          "data": {
            "text/plain": [
              "array([0, 1])"
            ]
          },
          "metadata": {
            "tags": []
          },
          "execution_count": 1144
        }
      ]
    },
    {
      "cell_type": "code",
      "metadata": {
        "colab": {
          "base_uri": "https://localhost:8080/",
          "height": 454
        },
        "id": "99a2f440",
        "outputId": "344f7a15-ceed-4c99-9688-6ffbc10dba63"
      },
      "source": [
        "X_train"
      ],
      "id": "99a2f440",
      "execution_count": 1145,
      "outputs": [
        {
          "output_type": "execute_result",
          "data": {
            "text/html": [
              "<div>\n",
              "<style scoped>\n",
              "    .dataframe tbody tr th:only-of-type {\n",
              "        vertical-align: middle;\n",
              "    }\n",
              "\n",
              "    .dataframe tbody tr th {\n",
              "        vertical-align: top;\n",
              "    }\n",
              "\n",
              "    .dataframe thead th {\n",
              "        text-align: right;\n",
              "    }\n",
              "</style>\n",
              "<table border=\"1\" class=\"dataframe\">\n",
              "  <thead>\n",
              "    <tr style=\"text-align: right;\">\n",
              "      <th></th>\n",
              "      <th>business_code</th>\n",
              "      <th>cust_number</th>\n",
              "      <th>name_customer</th>\n",
              "      <th>buisness_year</th>\n",
              "      <th>doc_id</th>\n",
              "      <th>invoice_currency</th>\n",
              "      <th>document type</th>\n",
              "      <th>total_open_amount</th>\n",
              "      <th>cust_payment_terms</th>\n",
              "      <th>post_month</th>\n",
              "      <th>post_day</th>\n",
              "      <th>post_year_weeksdays</th>\n",
              "      <th>document_create_month</th>\n",
              "      <th>document_create_day</th>\n",
              "      <th>document_create_weeksdays</th>\n",
              "      <th>document_create1_month</th>\n",
              "      <th>document_create1_day</th>\n",
              "      <th>document_create1_weeksdays</th>\n",
              "      <th>baseline_create_date_month</th>\n",
              "      <th>baseline_create_date_day</th>\n",
              "      <th>baseline_create_date_year</th>\n",
              "    </tr>\n",
              "  </thead>\n",
              "  <tbody>\n",
              "    <tr>\n",
              "      <th>20743</th>\n",
              "      <td>1</td>\n",
              "      <td>200769623.0</td>\n",
              "      <td>3323</td>\n",
              "      <td>0</td>\n",
              "      <td>1.928538e+09</td>\n",
              "      <td>1</td>\n",
              "      <td>0</td>\n",
              "      <td>78.950000</td>\n",
              "      <td>31</td>\n",
              "      <td>12</td>\n",
              "      <td>30</td>\n",
              "      <td>6</td>\n",
              "      <td>12</td>\n",
              "      <td>29</td>\n",
              "      <td>5</td>\n",
              "      <td>12</td>\n",
              "      <td>30</td>\n",
              "      <td>6</td>\n",
              "      <td>12</td>\n",
              "      <td>30</td>\n",
              "      <td>0</td>\n",
              "    </tr>\n",
              "    <tr>\n",
              "      <th>15202</th>\n",
              "      <td>1</td>\n",
              "      <td>200726979.0</td>\n",
              "      <td>366</td>\n",
              "      <td>0</td>\n",
              "      <td>1.928540e+09</td>\n",
              "      <td>1</td>\n",
              "      <td>0</td>\n",
              "      <td>249.890000</td>\n",
              "      <td>18</td>\n",
              "      <td>12</td>\n",
              "      <td>30</td>\n",
              "      <td>6</td>\n",
              "      <td>12</td>\n",
              "      <td>29</td>\n",
              "      <td>5</td>\n",
              "      <td>12</td>\n",
              "      <td>30</td>\n",
              "      <td>6</td>\n",
              "      <td>12</td>\n",
              "      <td>30</td>\n",
              "      <td>0</td>\n",
              "    </tr>\n",
              "    <tr>\n",
              "      <th>34429</th>\n",
              "      <td>0</td>\n",
              "      <td>140106408.0</td>\n",
              "      <td>3318</td>\n",
              "      <td>0</td>\n",
              "      <td>2.960520e+09</td>\n",
              "      <td>0</td>\n",
              "      <td>0</td>\n",
              "      <td>46304.893917</td>\n",
              "      <td>5</td>\n",
              "      <td>12</td>\n",
              "      <td>30</td>\n",
              "      <td>6</td>\n",
              "      <td>12</td>\n",
              "      <td>30</td>\n",
              "      <td>6</td>\n",
              "      <td>12</td>\n",
              "      <td>30</td>\n",
              "      <td>6</td>\n",
              "      <td>12</td>\n",
              "      <td>30</td>\n",
              "      <td>0</td>\n",
              "    </tr>\n",
              "    <tr>\n",
              "      <th>40</th>\n",
              "      <td>1</td>\n",
              "      <td>200769623.0</td>\n",
              "      <td>3325</td>\n",
              "      <td>0</td>\n",
              "      <td>1.928521e+09</td>\n",
              "      <td>1</td>\n",
              "      <td>0</td>\n",
              "      <td>16513.640000</td>\n",
              "      <td>31</td>\n",
              "      <td>12</td>\n",
              "      <td>30</td>\n",
              "      <td>6</td>\n",
              "      <td>12</td>\n",
              "      <td>31</td>\n",
              "      <td>0</td>\n",
              "      <td>12</td>\n",
              "      <td>30</td>\n",
              "      <td>6</td>\n",
              "      <td>12</td>\n",
              "      <td>30</td>\n",
              "      <td>0</td>\n",
              "    </tr>\n",
              "    <tr>\n",
              "      <th>30358</th>\n",
              "      <td>1</td>\n",
              "      <td>200769623.0</td>\n",
              "      <td>3327</td>\n",
              "      <td>0</td>\n",
              "      <td>1.928532e+09</td>\n",
              "      <td>1</td>\n",
              "      <td>0</td>\n",
              "      <td>16663.360000</td>\n",
              "      <td>31</td>\n",
              "      <td>12</td>\n",
              "      <td>30</td>\n",
              "      <td>6</td>\n",
              "      <td>12</td>\n",
              "      <td>29</td>\n",
              "      <td>5</td>\n",
              "      <td>12</td>\n",
              "      <td>30</td>\n",
              "      <td>6</td>\n",
              "      <td>12</td>\n",
              "      <td>30</td>\n",
              "      <td>0</td>\n",
              "    </tr>\n",
              "    <tr>\n",
              "      <th>...</th>\n",
              "      <td>...</td>\n",
              "      <td>...</td>\n",
              "      <td>...</td>\n",
              "      <td>...</td>\n",
              "      <td>...</td>\n",
              "      <td>...</td>\n",
              "      <td>...</td>\n",
              "      <td>...</td>\n",
              "      <td>...</td>\n",
              "      <td>...</td>\n",
              "      <td>...</td>\n",
              "      <td>...</td>\n",
              "      <td>...</td>\n",
              "      <td>...</td>\n",
              "      <td>...</td>\n",
              "      <td>...</td>\n",
              "      <td>...</td>\n",
              "      <td>...</td>\n",
              "      <td>...</td>\n",
              "      <td>...</td>\n",
              "      <td>...</td>\n",
              "    </tr>\n",
              "    <tr>\n",
              "      <th>30705</th>\n",
              "      <td>1</td>\n",
              "      <td>200515231.0</td>\n",
              "      <td>3210</td>\n",
              "      <td>0</td>\n",
              "      <td>1.930178e+09</td>\n",
              "      <td>1</td>\n",
              "      <td>0</td>\n",
              "      <td>35345.910000</td>\n",
              "      <td>18</td>\n",
              "      <td>11</td>\n",
              "      <td>20</td>\n",
              "      <td>2</td>\n",
              "      <td>11</td>\n",
              "      <td>20</td>\n",
              "      <td>2</td>\n",
              "      <td>11</td>\n",
              "      <td>20</td>\n",
              "      <td>2</td>\n",
              "      <td>11</td>\n",
              "      <td>20</td>\n",
              "      <td>1</td>\n",
              "    </tr>\n",
              "    <tr>\n",
              "      <th>28362</th>\n",
              "      <td>1</td>\n",
              "      <td>200759878.0</td>\n",
              "      <td>2649</td>\n",
              "      <td>0</td>\n",
              "      <td>1.930173e+09</td>\n",
              "      <td>1</td>\n",
              "      <td>0</td>\n",
              "      <td>80579.180000</td>\n",
              "      <td>60</td>\n",
              "      <td>11</td>\n",
              "      <td>20</td>\n",
              "      <td>2</td>\n",
              "      <td>11</td>\n",
              "      <td>19</td>\n",
              "      <td>1</td>\n",
              "      <td>11</td>\n",
              "      <td>20</td>\n",
              "      <td>2</td>\n",
              "      <td>11</td>\n",
              "      <td>20</td>\n",
              "      <td>1</td>\n",
              "    </tr>\n",
              "    <tr>\n",
              "      <th>15573</th>\n",
              "      <td>1</td>\n",
              "      <td>200769623.0</td>\n",
              "      <td>3323</td>\n",
              "      <td>0</td>\n",
              "      <td>1.930170e+09</td>\n",
              "      <td>1</td>\n",
              "      <td>0</td>\n",
              "      <td>63414.590000</td>\n",
              "      <td>31</td>\n",
              "      <td>11</td>\n",
              "      <td>20</td>\n",
              "      <td>2</td>\n",
              "      <td>11</td>\n",
              "      <td>19</td>\n",
              "      <td>1</td>\n",
              "      <td>11</td>\n",
              "      <td>20</td>\n",
              "      <td>2</td>\n",
              "      <td>11</td>\n",
              "      <td>20</td>\n",
              "      <td>1</td>\n",
              "    </tr>\n",
              "    <tr>\n",
              "      <th>15466</th>\n",
              "      <td>1</td>\n",
              "      <td>200794332.0</td>\n",
              "      <td>716</td>\n",
              "      <td>0</td>\n",
              "      <td>1.930165e+09</td>\n",
              "      <td>1</td>\n",
              "      <td>0</td>\n",
              "      <td>15914.110000</td>\n",
              "      <td>20</td>\n",
              "      <td>11</td>\n",
              "      <td>20</td>\n",
              "      <td>2</td>\n",
              "      <td>11</td>\n",
              "      <td>18</td>\n",
              "      <td>0</td>\n",
              "      <td>11</td>\n",
              "      <td>20</td>\n",
              "      <td>2</td>\n",
              "      <td>11</td>\n",
              "      <td>20</td>\n",
              "      <td>1</td>\n",
              "    </tr>\n",
              "    <tr>\n",
              "      <th>27971</th>\n",
              "      <td>1</td>\n",
              "      <td>200762301.0</td>\n",
              "      <td>500</td>\n",
              "      <td>0</td>\n",
              "      <td>1.930169e+09</td>\n",
              "      <td>1</td>\n",
              "      <td>0</td>\n",
              "      <td>151302.980000</td>\n",
              "      <td>23</td>\n",
              "      <td>11</td>\n",
              "      <td>20</td>\n",
              "      <td>2</td>\n",
              "      <td>11</td>\n",
              "      <td>19</td>\n",
              "      <td>1</td>\n",
              "      <td>11</td>\n",
              "      <td>20</td>\n",
              "      <td>2</td>\n",
              "      <td>11</td>\n",
              "      <td>20</td>\n",
              "      <td>1</td>\n",
              "    </tr>\n",
              "  </tbody>\n",
              "</table>\n",
              "<p>30940 rows × 21 columns</p>\n",
              "</div>"
            ],
            "text/plain": [
              "       business_code  ...  baseline_create_date_year\n",
              "20743              1  ...                          0\n",
              "15202              1  ...                          0\n",
              "34429              0  ...                          0\n",
              "40                 1  ...                          0\n",
              "30358              1  ...                          0\n",
              "...              ...  ...                        ...\n",
              "30705              1  ...                          1\n",
              "28362              1  ...                          1\n",
              "15573              1  ...                          1\n",
              "15466              1  ...                          1\n",
              "27971              1  ...                          1\n",
              "\n",
              "[30940 rows x 21 columns]"
            ]
          },
          "metadata": {
            "tags": []
          },
          "execution_count": 1145
        }
      ]
    },
    {
      "cell_type": "markdown",
      "metadata": {
        "id": "aef38b21"
      },
      "source": [
        "## Second step is standarisation or normalisation of required features.\n"
      ],
      "id": "aef38b21"
    },
    {
      "cell_type": "code",
      "metadata": {
        "colab": {
          "base_uri": "https://localhost:8080/",
          "height": 454
        },
        "id": "d0f7a29e",
        "outputId": "89902535-df6c-4f3f-8bff-ab4d3fa5d46c"
      },
      "source": [
        "# This is how my X_train looks like , Since all features are in either float or int it will be easy to visualise our data.\n",
        "X_train"
      ],
      "id": "d0f7a29e",
      "execution_count": 1146,
      "outputs": [
        {
          "output_type": "execute_result",
          "data": {
            "text/html": [
              "<div>\n",
              "<style scoped>\n",
              "    .dataframe tbody tr th:only-of-type {\n",
              "        vertical-align: middle;\n",
              "    }\n",
              "\n",
              "    .dataframe tbody tr th {\n",
              "        vertical-align: top;\n",
              "    }\n",
              "\n",
              "    .dataframe thead th {\n",
              "        text-align: right;\n",
              "    }\n",
              "</style>\n",
              "<table border=\"1\" class=\"dataframe\">\n",
              "  <thead>\n",
              "    <tr style=\"text-align: right;\">\n",
              "      <th></th>\n",
              "      <th>business_code</th>\n",
              "      <th>cust_number</th>\n",
              "      <th>name_customer</th>\n",
              "      <th>buisness_year</th>\n",
              "      <th>doc_id</th>\n",
              "      <th>invoice_currency</th>\n",
              "      <th>document type</th>\n",
              "      <th>total_open_amount</th>\n",
              "      <th>cust_payment_terms</th>\n",
              "      <th>post_month</th>\n",
              "      <th>post_day</th>\n",
              "      <th>post_year_weeksdays</th>\n",
              "      <th>document_create_month</th>\n",
              "      <th>document_create_day</th>\n",
              "      <th>document_create_weeksdays</th>\n",
              "      <th>document_create1_month</th>\n",
              "      <th>document_create1_day</th>\n",
              "      <th>document_create1_weeksdays</th>\n",
              "      <th>baseline_create_date_month</th>\n",
              "      <th>baseline_create_date_day</th>\n",
              "      <th>baseline_create_date_year</th>\n",
              "    </tr>\n",
              "  </thead>\n",
              "  <tbody>\n",
              "    <tr>\n",
              "      <th>20743</th>\n",
              "      <td>1</td>\n",
              "      <td>200769623.0</td>\n",
              "      <td>3323</td>\n",
              "      <td>0</td>\n",
              "      <td>1.928538e+09</td>\n",
              "      <td>1</td>\n",
              "      <td>0</td>\n",
              "      <td>78.950000</td>\n",
              "      <td>31</td>\n",
              "      <td>12</td>\n",
              "      <td>30</td>\n",
              "      <td>6</td>\n",
              "      <td>12</td>\n",
              "      <td>29</td>\n",
              "      <td>5</td>\n",
              "      <td>12</td>\n",
              "      <td>30</td>\n",
              "      <td>6</td>\n",
              "      <td>12</td>\n",
              "      <td>30</td>\n",
              "      <td>0</td>\n",
              "    </tr>\n",
              "    <tr>\n",
              "      <th>15202</th>\n",
              "      <td>1</td>\n",
              "      <td>200726979.0</td>\n",
              "      <td>366</td>\n",
              "      <td>0</td>\n",
              "      <td>1.928540e+09</td>\n",
              "      <td>1</td>\n",
              "      <td>0</td>\n",
              "      <td>249.890000</td>\n",
              "      <td>18</td>\n",
              "      <td>12</td>\n",
              "      <td>30</td>\n",
              "      <td>6</td>\n",
              "      <td>12</td>\n",
              "      <td>29</td>\n",
              "      <td>5</td>\n",
              "      <td>12</td>\n",
              "      <td>30</td>\n",
              "      <td>6</td>\n",
              "      <td>12</td>\n",
              "      <td>30</td>\n",
              "      <td>0</td>\n",
              "    </tr>\n",
              "    <tr>\n",
              "      <th>34429</th>\n",
              "      <td>0</td>\n",
              "      <td>140106408.0</td>\n",
              "      <td>3318</td>\n",
              "      <td>0</td>\n",
              "      <td>2.960520e+09</td>\n",
              "      <td>0</td>\n",
              "      <td>0</td>\n",
              "      <td>46304.893917</td>\n",
              "      <td>5</td>\n",
              "      <td>12</td>\n",
              "      <td>30</td>\n",
              "      <td>6</td>\n",
              "      <td>12</td>\n",
              "      <td>30</td>\n",
              "      <td>6</td>\n",
              "      <td>12</td>\n",
              "      <td>30</td>\n",
              "      <td>6</td>\n",
              "      <td>12</td>\n",
              "      <td>30</td>\n",
              "      <td>0</td>\n",
              "    </tr>\n",
              "    <tr>\n",
              "      <th>40</th>\n",
              "      <td>1</td>\n",
              "      <td>200769623.0</td>\n",
              "      <td>3325</td>\n",
              "      <td>0</td>\n",
              "      <td>1.928521e+09</td>\n",
              "      <td>1</td>\n",
              "      <td>0</td>\n",
              "      <td>16513.640000</td>\n",
              "      <td>31</td>\n",
              "      <td>12</td>\n",
              "      <td>30</td>\n",
              "      <td>6</td>\n",
              "      <td>12</td>\n",
              "      <td>31</td>\n",
              "      <td>0</td>\n",
              "      <td>12</td>\n",
              "      <td>30</td>\n",
              "      <td>6</td>\n",
              "      <td>12</td>\n",
              "      <td>30</td>\n",
              "      <td>0</td>\n",
              "    </tr>\n",
              "    <tr>\n",
              "      <th>30358</th>\n",
              "      <td>1</td>\n",
              "      <td>200769623.0</td>\n",
              "      <td>3327</td>\n",
              "      <td>0</td>\n",
              "      <td>1.928532e+09</td>\n",
              "      <td>1</td>\n",
              "      <td>0</td>\n",
              "      <td>16663.360000</td>\n",
              "      <td>31</td>\n",
              "      <td>12</td>\n",
              "      <td>30</td>\n",
              "      <td>6</td>\n",
              "      <td>12</td>\n",
              "      <td>29</td>\n",
              "      <td>5</td>\n",
              "      <td>12</td>\n",
              "      <td>30</td>\n",
              "      <td>6</td>\n",
              "      <td>12</td>\n",
              "      <td>30</td>\n",
              "      <td>0</td>\n",
              "    </tr>\n",
              "    <tr>\n",
              "      <th>...</th>\n",
              "      <td>...</td>\n",
              "      <td>...</td>\n",
              "      <td>...</td>\n",
              "      <td>...</td>\n",
              "      <td>...</td>\n",
              "      <td>...</td>\n",
              "      <td>...</td>\n",
              "      <td>...</td>\n",
              "      <td>...</td>\n",
              "      <td>...</td>\n",
              "      <td>...</td>\n",
              "      <td>...</td>\n",
              "      <td>...</td>\n",
              "      <td>...</td>\n",
              "      <td>...</td>\n",
              "      <td>...</td>\n",
              "      <td>...</td>\n",
              "      <td>...</td>\n",
              "      <td>...</td>\n",
              "      <td>...</td>\n",
              "      <td>...</td>\n",
              "    </tr>\n",
              "    <tr>\n",
              "      <th>30705</th>\n",
              "      <td>1</td>\n",
              "      <td>200515231.0</td>\n",
              "      <td>3210</td>\n",
              "      <td>0</td>\n",
              "      <td>1.930178e+09</td>\n",
              "      <td>1</td>\n",
              "      <td>0</td>\n",
              "      <td>35345.910000</td>\n",
              "      <td>18</td>\n",
              "      <td>11</td>\n",
              "      <td>20</td>\n",
              "      <td>2</td>\n",
              "      <td>11</td>\n",
              "      <td>20</td>\n",
              "      <td>2</td>\n",
              "      <td>11</td>\n",
              "      <td>20</td>\n",
              "      <td>2</td>\n",
              "      <td>11</td>\n",
              "      <td>20</td>\n",
              "      <td>1</td>\n",
              "    </tr>\n",
              "    <tr>\n",
              "      <th>28362</th>\n",
              "      <td>1</td>\n",
              "      <td>200759878.0</td>\n",
              "      <td>2649</td>\n",
              "      <td>0</td>\n",
              "      <td>1.930173e+09</td>\n",
              "      <td>1</td>\n",
              "      <td>0</td>\n",
              "      <td>80579.180000</td>\n",
              "      <td>60</td>\n",
              "      <td>11</td>\n",
              "      <td>20</td>\n",
              "      <td>2</td>\n",
              "      <td>11</td>\n",
              "      <td>19</td>\n",
              "      <td>1</td>\n",
              "      <td>11</td>\n",
              "      <td>20</td>\n",
              "      <td>2</td>\n",
              "      <td>11</td>\n",
              "      <td>20</td>\n",
              "      <td>1</td>\n",
              "    </tr>\n",
              "    <tr>\n",
              "      <th>15573</th>\n",
              "      <td>1</td>\n",
              "      <td>200769623.0</td>\n",
              "      <td>3323</td>\n",
              "      <td>0</td>\n",
              "      <td>1.930170e+09</td>\n",
              "      <td>1</td>\n",
              "      <td>0</td>\n",
              "      <td>63414.590000</td>\n",
              "      <td>31</td>\n",
              "      <td>11</td>\n",
              "      <td>20</td>\n",
              "      <td>2</td>\n",
              "      <td>11</td>\n",
              "      <td>19</td>\n",
              "      <td>1</td>\n",
              "      <td>11</td>\n",
              "      <td>20</td>\n",
              "      <td>2</td>\n",
              "      <td>11</td>\n",
              "      <td>20</td>\n",
              "      <td>1</td>\n",
              "    </tr>\n",
              "    <tr>\n",
              "      <th>15466</th>\n",
              "      <td>1</td>\n",
              "      <td>200794332.0</td>\n",
              "      <td>716</td>\n",
              "      <td>0</td>\n",
              "      <td>1.930165e+09</td>\n",
              "      <td>1</td>\n",
              "      <td>0</td>\n",
              "      <td>15914.110000</td>\n",
              "      <td>20</td>\n",
              "      <td>11</td>\n",
              "      <td>20</td>\n",
              "      <td>2</td>\n",
              "      <td>11</td>\n",
              "      <td>18</td>\n",
              "      <td>0</td>\n",
              "      <td>11</td>\n",
              "      <td>20</td>\n",
              "      <td>2</td>\n",
              "      <td>11</td>\n",
              "      <td>20</td>\n",
              "      <td>1</td>\n",
              "    </tr>\n",
              "    <tr>\n",
              "      <th>27971</th>\n",
              "      <td>1</td>\n",
              "      <td>200762301.0</td>\n",
              "      <td>500</td>\n",
              "      <td>0</td>\n",
              "      <td>1.930169e+09</td>\n",
              "      <td>1</td>\n",
              "      <td>0</td>\n",
              "      <td>151302.980000</td>\n",
              "      <td>23</td>\n",
              "      <td>11</td>\n",
              "      <td>20</td>\n",
              "      <td>2</td>\n",
              "      <td>11</td>\n",
              "      <td>19</td>\n",
              "      <td>1</td>\n",
              "      <td>11</td>\n",
              "      <td>20</td>\n",
              "      <td>2</td>\n",
              "      <td>11</td>\n",
              "      <td>20</td>\n",
              "      <td>1</td>\n",
              "    </tr>\n",
              "  </tbody>\n",
              "</table>\n",
              "<p>30940 rows × 21 columns</p>\n",
              "</div>"
            ],
            "text/plain": [
              "       business_code  ...  baseline_create_date_year\n",
              "20743              1  ...                          0\n",
              "15202              1  ...                          0\n",
              "34429              0  ...                          0\n",
              "40                 1  ...                          0\n",
              "30358              1  ...                          0\n",
              "...              ...  ...                        ...\n",
              "30705              1  ...                          1\n",
              "28362              1  ...                          1\n",
              "15573              1  ...                          1\n",
              "15466              1  ...                          1\n",
              "27971              1  ...                          1\n",
              "\n",
              "[30940 rows x 21 columns]"
            ]
          },
          "metadata": {
            "tags": []
          },
          "execution_count": 1146
        }
      ]
    },
    {
      "cell_type": "markdown",
      "metadata": {
        "id": "9e65a071"
      },
      "source": [
        "## EDA"
      ],
      "id": "9e65a071"
    },
    {
      "cell_type": "code",
      "metadata": {
        "colab": {
          "base_uri": "https://localhost:8080/",
          "height": 296
        },
        "id": "722573fa",
        "outputId": "729e56fc-321a-40c0-89a9-d85054178ebb"
      },
      "source": [
        "# Distribution Diagram of our target feature.\n",
        "# This diagram is not skewed hence I am not using using any transformation function like logarithmic ..etc\n",
        "\n",
        "import seaborn as sns\n",
        "sns.distplot(data_set_main['target'])"
      ],
      "id": "722573fa",
      "execution_count": 1147,
      "outputs": [
        {
          "output_type": "execute_result",
          "data": {
            "text/plain": [
              "<matplotlib.axes._subplots.AxesSubplot at 0x7f7f80441890>"
            ]
          },
          "metadata": {
            "tags": []
          },
          "execution_count": 1147
        },
        {
          "output_type": "display_data",
          "data": {
            "image/png": "[encoded data removed]",
            "text/plain": [
              "<Figure size 432x288 with 1 Axes>"
            ]
          },
          "metadata": {
            "tags": [],
            "needs_background": "light"
          }
        }
      ]
    },
    {
      "cell_type": "markdown",
      "metadata": {
        "id": "69461697"
      },
      "source": [
        "### Note"
      ],
      "id": "69461697"
    },
    {
      "cell_type": "code",
      "metadata": {
        "id": "a814f683"
      },
      "source": [
        "# Was Tryig to remove my outliers but although it is improving my mse error but it is not \n",
        "# a good practice therefore I dropped thsi idea.\n",
        "# Removing Outliers because my dataset is very ambiguous and it is giving high MSE value\n",
        "\n",
        "#Q1 = data_set_main['target'].quantile(0.25)\n",
        "#Q3 = data_set_main['target'].quantile(0.75)\n",
        "#IQR = Q3 - Q1\n",
        "#print(IQR)\n",
        "#data_set_main['target'] = data_set_main['target'][~((data_set_main['target'] < (Q1 - 20* IQR)) |(data_set_main['target'] > (Q3 + 20* IQR)))]"
      ],
      "id": "a814f683",
      "execution_count": 1148,
      "outputs": []
    },
    {
      "cell_type": "code",
      "metadata": {
        "colab": {
          "base_uri": "https://localhost:8080/",
          "height": 297
        },
        "id": "015adae8",
        "outputId": "25e200fe-9406-48cf-eedc-5d25bfe8d36d"
      },
      "source": [
        "# Distribution Diagram of our post_day feature.\n",
        "\n",
        "sns.distplot(X_train['post_day'])"
      ],
      "id": "015adae8",
      "execution_count": 1149,
      "outputs": [
        {
          "output_type": "execute_result",
          "data": {
            "text/plain": [
              "<matplotlib.axes._subplots.AxesSubplot at 0x7f7f803c4250>"
            ]
          },
          "metadata": {
            "tags": []
          },
          "execution_count": 1149
        },
        {
          "output_type": "display_data",
          "data": {
            "image/png": "[encoded data removed]",
            "text/plain": [
              "<Figure size 432x288 with 1 Axes>"
            ]
          },
          "metadata": {
            "tags": [],
            "needs_background": "light"
          }
        }
      ]
    },
    {
      "cell_type": "code",
      "metadata": {
        "colab": {
          "base_uri": "https://localhost:8080/",
          "height": 308
        },
        "id": "0cbfa2d1",
        "outputId": "6aff05af-adf3-4a0c-9620-841844a338ed"
      },
      "source": [
        "# Distribution Diagram of our 'total_open_amount' feature.\n",
        "\n",
        "sns.distplot(X_train['total_open_amount'])"
      ],
      "id": "0cbfa2d1",
      "execution_count": 1150,
      "outputs": [
        {
          "output_type": "execute_result",
          "data": {
            "text/plain": [
              "<matplotlib.axes._subplots.AxesSubplot at 0x7f7f80303290>"
            ]
          },
          "metadata": {
            "tags": []
          },
          "execution_count": 1150
        },
        {
          "output_type": "display_data",
          "data": {
            "image/png": "[encoded data removed]",
            "text/plain": [
              "<Figure size 432x288 with 1 Axes>"
            ]
          },
          "metadata": {
            "tags": [],
            "needs_background": "light"
          }
        }
      ]
    },
    {
      "cell_type": "code",
      "metadata": {
        "id": "c6f5862b"
      },
      "source": [
        "# As we can see that the distribution is slightly right skewed therefore I have applied log transformation."
      ],
      "id": "c6f5862b",
      "execution_count": 1151,
      "outputs": []
    },
    {
      "cell_type": "code",
      "metadata": {
        "colab": {
          "base_uri": "https://localhost:8080/",
          "height": 297
        },
        "id": "26f9002c",
        "outputId": "24cf099c-2cb6-4b59-8e87-9dc64503f257"
      },
      "source": [
        "from matplotlib import pyplot as plt\n",
        "X_train['total_open_amount'] = np.log(X_train['total_open_amount'])\n",
        "X_test['total_open_amount'] = np.log(X_test['total_open_amount'])\n",
        "X_val['total_open_amount'] = np.log(X_val['total_open_amount'])\n",
        "sns.distplot(X_train['total_open_amount'])\n",
        "fig = plt.figure()"
      ],
      "id": "26f9002c",
      "execution_count": 1152,
      "outputs": [
        {
          "output_type": "display_data",
          "data": {
            "image/png": "[encoded data removed]",
            "text/plain": [
              "<Figure size 432x288 with 1 Axes>"
            ]
          },
          "metadata": {
            "tags": [],
            "needs_background": "light"
          }
        },
        {
          "output_type": "display_data",
          "data": {
            "text/plain": [
              "<Figure size 432x288 with 0 Axes>"
            ]
          },
          "metadata": {
            "tags": []
          }
        }
      ]
    },
    {
      "cell_type": "code",
      "metadata": {
        "colab": {
          "base_uri": "https://localhost:8080/",
          "height": 454
        },
        "id": "b7f9584b",
        "outputId": "50dc98df-3d4e-4c93-b3e1-a7d8999a74a2"
      },
      "source": [
        "X_train"
      ],
      "id": "b7f9584b",
      "execution_count": 1153,
      "outputs": [
        {
          "output_type": "execute_result",
          "data": {
            "text/html": [
              "<div>\n",
              "<style scoped>\n",
              "    .dataframe tbody tr th:only-of-type {\n",
              "        vertical-align: middle;\n",
              "    }\n",
              "\n",
              "    .dataframe tbody tr th {\n",
              "        vertical-align: top;\n",
              "    }\n",
              "\n",
              "    .dataframe thead th {\n",
              "        text-align: right;\n",
              "    }\n",
              "</style>\n",
              "<table border=\"1\" class=\"dataframe\">\n",
              "  <thead>\n",
              "    <tr style=\"text-align: right;\">\n",
              "      <th></th>\n",
              "      <th>business_code</th>\n",
              "      <th>cust_number</th>\n",
              "      <th>name_customer</th>\n",
              "      <th>buisness_year</th>\n",
              "      <th>doc_id</th>\n",
              "      <th>invoice_currency</th>\n",
              "      <th>document type</th>\n",
              "      <th>total_open_amount</th>\n",
              "      <th>cust_payment_terms</th>\n",
              "      <th>post_month</th>\n",
              "      <th>post_day</th>\n",
              "      <th>post_year_weeksdays</th>\n",
              "      <th>document_create_month</th>\n",
              "      <th>document_create_day</th>\n",
              "      <th>document_create_weeksdays</th>\n",
              "      <th>document_create1_month</th>\n",
              "      <th>document_create1_day</th>\n",
              "      <th>document_create1_weeksdays</th>\n",
              "      <th>baseline_create_date_month</th>\n",
              "      <th>baseline_create_date_day</th>\n",
              "      <th>baseline_create_date_year</th>\n",
              "    </tr>\n",
              "  </thead>\n",
              "  <tbody>\n",
              "    <tr>\n",
              "      <th>20743</th>\n",
              "      <td>1</td>\n",
              "      <td>200769623.0</td>\n",
              "      <td>3323</td>\n",
              "      <td>0</td>\n",
              "      <td>1.928538e+09</td>\n",
              "      <td>1</td>\n",
              "      <td>0</td>\n",
              "      <td>4.368815</td>\n",
              "      <td>31</td>\n",
              "      <td>12</td>\n",
              "      <td>30</td>\n",
              "      <td>6</td>\n",
              "      <td>12</td>\n",
              "      <td>29</td>\n",
              "      <td>5</td>\n",
              "      <td>12</td>\n",
              "      <td>30</td>\n",
              "      <td>6</td>\n",
              "      <td>12</td>\n",
              "      <td>30</td>\n",
              "      <td>0</td>\n",
              "    </tr>\n",
              "    <tr>\n",
              "      <th>15202</th>\n",
              "      <td>1</td>\n",
              "      <td>200726979.0</td>\n",
              "      <td>366</td>\n",
              "      <td>0</td>\n",
              "      <td>1.928540e+09</td>\n",
              "      <td>1</td>\n",
              "      <td>0</td>\n",
              "      <td>5.521021</td>\n",
              "      <td>18</td>\n",
              "      <td>12</td>\n",
              "      <td>30</td>\n",
              "      <td>6</td>\n",
              "      <td>12</td>\n",
              "      <td>29</td>\n",
              "      <td>5</td>\n",
              "      <td>12</td>\n",
              "      <td>30</td>\n",
              "      <td>6</td>\n",
              "      <td>12</td>\n",
              "      <td>30</td>\n",
              "      <td>0</td>\n",
              "    </tr>\n",
              "    <tr>\n",
              "      <th>34429</th>\n",
              "      <td>0</td>\n",
              "      <td>140106408.0</td>\n",
              "      <td>3318</td>\n",
              "      <td>0</td>\n",
              "      <td>2.960520e+09</td>\n",
              "      <td>0</td>\n",
              "      <td>0</td>\n",
              "      <td>10.743003</td>\n",
              "      <td>5</td>\n",
              "      <td>12</td>\n",
              "      <td>30</td>\n",
              "      <td>6</td>\n",
              "      <td>12</td>\n",
              "      <td>30</td>\n",
              "      <td>6</td>\n",
              "      <td>12</td>\n",
              "      <td>30</td>\n",
              "      <td>6</td>\n",
              "      <td>12</td>\n",
              "      <td>30</td>\n",
              "      <td>0</td>\n",
              "    </tr>\n",
              "    <tr>\n",
              "      <th>40</th>\n",
              "      <td>1</td>\n",
              "      <td>200769623.0</td>\n",
              "      <td>3325</td>\n",
              "      <td>0</td>\n",
              "      <td>1.928521e+09</td>\n",
              "      <td>1</td>\n",
              "      <td>0</td>\n",
              "      <td>9.711942</td>\n",
              "      <td>31</td>\n",
              "      <td>12</td>\n",
              "      <td>30</td>\n",
              "      <td>6</td>\n",
              "      <td>12</td>\n",
              "      <td>31</td>\n",
              "      <td>0</td>\n",
              "      <td>12</td>\n",
              "      <td>30</td>\n",
              "      <td>6</td>\n",
              "      <td>12</td>\n",
              "      <td>30</td>\n",
              "      <td>0</td>\n",
              "    </tr>\n",
              "    <tr>\n",
              "      <th>30358</th>\n",
              "      <td>1</td>\n",
              "      <td>200769623.0</td>\n",
              "      <td>3327</td>\n",
              "      <td>0</td>\n",
              "      <td>1.928532e+09</td>\n",
              "      <td>1</td>\n",
              "      <td>0</td>\n",
              "      <td>9.720968</td>\n",
              "      <td>31</td>\n",
              "      <td>12</td>\n",
              "      <td>30</td>\n",
              "      <td>6</td>\n",
              "      <td>12</td>\n",
              "      <td>29</td>\n",
              "      <td>5</td>\n",
              "      <td>12</td>\n",
              "      <td>30</td>\n",
              "      <td>6</td>\n",
              "      <td>12</td>\n",
              "      <td>30</td>\n",
              "      <td>0</td>\n",
              "    </tr>\n",
              "    <tr>\n",
              "      <th>...</th>\n",
              "      <td>...</td>\n",
              "      <td>...</td>\n",
              "      <td>...</td>\n",
              "      <td>...</td>\n",
              "      <td>...</td>\n",
              "      <td>...</td>\n",
              "      <td>...</td>\n",
              "      <td>...</td>\n",
              "      <td>...</td>\n",
              "      <td>...</td>\n",
              "      <td>...</td>\n",
              "      <td>...</td>\n",
              "      <td>...</td>\n",
              "      <td>...</td>\n",
              "      <td>...</td>\n",
              "      <td>...</td>\n",
              "      <td>...</td>\n",
              "      <td>...</td>\n",
              "      <td>...</td>\n",
              "      <td>...</td>\n",
              "      <td>...</td>\n",
              "    </tr>\n",
              "    <tr>\n",
              "      <th>30705</th>\n",
              "      <td>1</td>\n",
              "      <td>200515231.0</td>\n",
              "      <td>3210</td>\n",
              "      <td>0</td>\n",
              "      <td>1.930178e+09</td>\n",
              "      <td>1</td>\n",
              "      <td>0</td>\n",
              "      <td>10.472938</td>\n",
              "      <td>18</td>\n",
              "      <td>11</td>\n",
              "      <td>20</td>\n",
              "      <td>2</td>\n",
              "      <td>11</td>\n",
              "      <td>20</td>\n",
              "      <td>2</td>\n",
              "      <td>11</td>\n",
              "      <td>20</td>\n",
              "      <td>2</td>\n",
              "      <td>11</td>\n",
              "      <td>20</td>\n",
              "      <td>1</td>\n",
              "    </tr>\n",
              "    <tr>\n",
              "      <th>28362</th>\n",
              "      <td>1</td>\n",
              "      <td>200759878.0</td>\n",
              "      <td>2649</td>\n",
              "      <td>0</td>\n",
              "      <td>1.930173e+09</td>\n",
              "      <td>1</td>\n",
              "      <td>0</td>\n",
              "      <td>11.296996</td>\n",
              "      <td>60</td>\n",
              "      <td>11</td>\n",
              "      <td>20</td>\n",
              "      <td>2</td>\n",
              "      <td>11</td>\n",
              "      <td>19</td>\n",
              "      <td>1</td>\n",
              "      <td>11</td>\n",
              "      <td>20</td>\n",
              "      <td>2</td>\n",
              "      <td>11</td>\n",
              "      <td>20</td>\n",
              "      <td>1</td>\n",
              "    </tr>\n",
              "    <tr>\n",
              "      <th>15573</th>\n",
              "      <td>1</td>\n",
              "      <td>200769623.0</td>\n",
              "      <td>3323</td>\n",
              "      <td>0</td>\n",
              "      <td>1.930170e+09</td>\n",
              "      <td>1</td>\n",
              "      <td>0</td>\n",
              "      <td>11.057449</td>\n",
              "      <td>31</td>\n",
              "      <td>11</td>\n",
              "      <td>20</td>\n",
              "      <td>2</td>\n",
              "      <td>11</td>\n",
              "      <td>19</td>\n",
              "      <td>1</td>\n",
              "      <td>11</td>\n",
              "      <td>20</td>\n",
              "      <td>2</td>\n",
              "      <td>11</td>\n",
              "      <td>20</td>\n",
              "      <td>1</td>\n",
              "    </tr>\n",
              "    <tr>\n",
              "      <th>15466</th>\n",
              "      <td>1</td>\n",
              "      <td>200794332.0</td>\n",
              "      <td>716</td>\n",
              "      <td>0</td>\n",
              "      <td>1.930165e+09</td>\n",
              "      <td>1</td>\n",
              "      <td>0</td>\n",
              "      <td>9.674961</td>\n",
              "      <td>20</td>\n",
              "      <td>11</td>\n",
              "      <td>20</td>\n",
              "      <td>2</td>\n",
              "      <td>11</td>\n",
              "      <td>18</td>\n",
              "      <td>0</td>\n",
              "      <td>11</td>\n",
              "      <td>20</td>\n",
              "      <td>2</td>\n",
              "      <td>11</td>\n",
              "      <td>20</td>\n",
              "      <td>1</td>\n",
              "    </tr>\n",
              "    <tr>\n",
              "      <th>27971</th>\n",
              "      <td>1</td>\n",
              "      <td>200762301.0</td>\n",
              "      <td>500</td>\n",
              "      <td>0</td>\n",
              "      <td>1.930169e+09</td>\n",
              "      <td>1</td>\n",
              "      <td>0</td>\n",
              "      <td>11.927040</td>\n",
              "      <td>23</td>\n",
              "      <td>11</td>\n",
              "      <td>20</td>\n",
              "      <td>2</td>\n",
              "      <td>11</td>\n",
              "      <td>19</td>\n",
              "      <td>1</td>\n",
              "      <td>11</td>\n",
              "      <td>20</td>\n",
              "      <td>2</td>\n",
              "      <td>11</td>\n",
              "      <td>20</td>\n",
              "      <td>1</td>\n",
              "    </tr>\n",
              "  </tbody>\n",
              "</table>\n",
              "<p>30940 rows × 21 columns</p>\n",
              "</div>"
            ],
            "text/plain": [
              "       business_code  ...  baseline_create_date_year\n",
              "20743              1  ...                          0\n",
              "15202              1  ...                          0\n",
              "34429              0  ...                          0\n",
              "40                 1  ...                          0\n",
              "30358              1  ...                          0\n",
              "...              ...  ...                        ...\n",
              "30705              1  ...                          1\n",
              "28362              1  ...                          1\n",
              "15573              1  ...                          1\n",
              "15466              1  ...                          1\n",
              "27971              1  ...                          1\n",
              "\n",
              "[30940 rows x 21 columns]"
            ]
          },
          "metadata": {
            "tags": []
          },
          "execution_count": 1153
        }
      ]
    },
    {
      "cell_type": "code",
      "metadata": {
        "colab": {
          "base_uri": "https://localhost:8080/",
          "height": 296
        },
        "id": "4047f3c3",
        "outputId": "dc104db8-5c1d-4ae4-bc37-7325dcb04525"
      },
      "source": [
        "# Distribution Diagram of our 'document type' feature.\n",
        "\n",
        "sns.distplot(X_train['document type'])"
      ],
      "id": "4047f3c3",
      "execution_count": 1154,
      "outputs": [
        {
          "output_type": "execute_result",
          "data": {
            "text/plain": [
              "<matplotlib.axes._subplots.AxesSubplot at 0x7f7f80439790>"
            ]
          },
          "metadata": {
            "tags": []
          },
          "execution_count": 1154
        },
        {
          "output_type": "display_data",
          "data": {
            "image/png": "[encoded data removed]",
            "text/plain": [
              "<Figure size 432x288 with 1 Axes>"
            ]
          },
          "metadata": {
            "tags": [],
            "needs_background": "light"
          }
        }
      ]
    },
    {
      "cell_type": "code",
      "metadata": {
        "colab": {
          "base_uri": "https://localhost:8080/",
          "height": 269
        },
        "id": "784d67db",
        "outputId": "ffa36bd4-5a4f-47a1-e9bd-14973af7e7c7"
      },
      "source": [
        "plt.scatter(X_train['document type'], y_train)\n",
        "plt.show()"
      ],
      "id": "784d67db",
      "execution_count": 1155,
      "outputs": [
        {
          "output_type": "display_data",
          "data": {
            "image/png": "[encoded data removed]",
            "text/plain": [
              "<Figure size 432x288 with 1 Axes>"
            ]
          },
          "metadata": {
            "tags": [],
            "needs_background": "light"
          }
        }
      ]
    },
    {
      "cell_type": "code",
      "metadata": {
        "colab": {
          "base_uri": "https://localhost:8080/",
          "height": 297
        },
        "id": "f4ca63b1",
        "outputId": "19c15daf-dcf5-4c8d-bf8f-dd0ccbe0f553"
      },
      "source": [
        "sns.distplot(X_train['name_customer'])"
      ],
      "id": "f4ca63b1",
      "execution_count": 1156,
      "outputs": [
        {
          "output_type": "execute_result",
          "data": {
            "text/plain": [
              "<matplotlib.axes._subplots.AxesSubplot at 0x7f7f7ff5f690>"
            ]
          },
          "metadata": {
            "tags": []
          },
          "execution_count": 1156
        },
        {
          "output_type": "display_data",
          "data": {
            "image/png": "[encoded data removed]",
            "text/plain": [
              "<Figure size 432x288 with 1 Axes>"
            ]
          },
          "metadata": {
            "tags": [],
            "needs_background": "light"
          }
        }
      ]
    },
    {
      "cell_type": "code",
      "metadata": {
        "colab": {
          "base_uri": "https://localhost:8080/",
          "height": 454
        },
        "id": "bea1a602",
        "outputId": "3fcd2a29-c5c3-4624-b03d-02090ad41497"
      },
      "source": [
        "X_train"
      ],
      "id": "bea1a602",
      "execution_count": 1157,
      "outputs": [
        {
          "output_type": "execute_result",
          "data": {
            "text/html": [
              "<div>\n",
              "<style scoped>\n",
              "    .dataframe tbody tr th:only-of-type {\n",
              "        vertical-align: middle;\n",
              "    }\n",
              "\n",
              "    .dataframe tbody tr th {\n",
              "        vertical-align: top;\n",
              "    }\n",
              "\n",
              "    .dataframe thead th {\n",
              "        text-align: right;\n",
              "    }\n",
              "</style>\n",
              "<table border=\"1\" class=\"dataframe\">\n",
              "  <thead>\n",
              "    <tr style=\"text-align: right;\">\n",
              "      <th></th>\n",
              "      <th>business_code</th>\n",
              "      <th>cust_number</th>\n",
              "      <th>name_customer</th>\n",
              "      <th>buisness_year</th>\n",
              "      <th>doc_id</th>\n",
              "      <th>invoice_currency</th>\n",
              "      <th>document type</th>\n",
              "      <th>total_open_amount</th>\n",
              "      <th>cust_payment_terms</th>\n",
              "      <th>post_month</th>\n",
              "      <th>post_day</th>\n",
              "      <th>post_year_weeksdays</th>\n",
              "      <th>document_create_month</th>\n",
              "      <th>document_create_day</th>\n",
              "      <th>document_create_weeksdays</th>\n",
              "      <th>document_create1_month</th>\n",
              "      <th>document_create1_day</th>\n",
              "      <th>document_create1_weeksdays</th>\n",
              "      <th>baseline_create_date_month</th>\n",
              "      <th>baseline_create_date_day</th>\n",
              "      <th>baseline_create_date_year</th>\n",
              "    </tr>\n",
              "  </thead>\n",
              "  <tbody>\n",
              "    <tr>\n",
              "      <th>20743</th>\n",
              "      <td>1</td>\n",
              "      <td>200769623.0</td>\n",
              "      <td>3323</td>\n",
              "      <td>0</td>\n",
              "      <td>1.928538e+09</td>\n",
              "      <td>1</td>\n",
              "      <td>0</td>\n",
              "      <td>4.368815</td>\n",
              "      <td>31</td>\n",
              "      <td>12</td>\n",
              "      <td>30</td>\n",
              "      <td>6</td>\n",
              "      <td>12</td>\n",
              "      <td>29</td>\n",
              "      <td>5</td>\n",
              "      <td>12</td>\n",
              "      <td>30</td>\n",
              "      <td>6</td>\n",
              "      <td>12</td>\n",
              "      <td>30</td>\n",
              "      <td>0</td>\n",
              "    </tr>\n",
              "    <tr>\n",
              "      <th>15202</th>\n",
              "      <td>1</td>\n",
              "      <td>200726979.0</td>\n",
              "      <td>366</td>\n",
              "      <td>0</td>\n",
              "      <td>1.928540e+09</td>\n",
              "      <td>1</td>\n",
              "      <td>0</td>\n",
              "      <td>5.521021</td>\n",
              "      <td>18</td>\n",
              "      <td>12</td>\n",
              "      <td>30</td>\n",
              "      <td>6</td>\n",
              "      <td>12</td>\n",
              "      <td>29</td>\n",
              "      <td>5</td>\n",
              "      <td>12</td>\n",
              "      <td>30</td>\n",
              "      <td>6</td>\n",
              "      <td>12</td>\n",
              "      <td>30</td>\n",
              "      <td>0</td>\n",
              "    </tr>\n",
              "    <tr>\n",
              "      <th>34429</th>\n",
              "      <td>0</td>\n",
              "      <td>140106408.0</td>\n",
              "      <td>3318</td>\n",
              "      <td>0</td>\n",
              "      <td>2.960520e+09</td>\n",
              "      <td>0</td>\n",
              "      <td>0</td>\n",
              "      <td>10.743003</td>\n",
              "      <td>5</td>\n",
              "      <td>12</td>\n",
              "      <td>30</td>\n",
              "      <td>6</td>\n",
              "      <td>12</td>\n",
              "      <td>30</td>\n",
              "      <td>6</td>\n",
              "      <td>12</td>\n",
              "      <td>30</td>\n",
              "      <td>6</td>\n",
              "      <td>12</td>\n",
              "      <td>30</td>\n",
              "      <td>0</td>\n",
              "    </tr>\n",
              "    <tr>\n",
              "      <th>40</th>\n",
              "      <td>1</td>\n",
              "      <td>200769623.0</td>\n",
              "      <td>3325</td>\n",
              "      <td>0</td>\n",
              "      <td>1.928521e+09</td>\n",
              "      <td>1</td>\n",
              "      <td>0</td>\n",
              "      <td>9.711942</td>\n",
              "      <td>31</td>\n",
              "      <td>12</td>\n",
              "      <td>30</td>\n",
              "      <td>6</td>\n",
              "      <td>12</td>\n",
              "      <td>31</td>\n",
              "      <td>0</td>\n",
              "      <td>12</td>\n",
              "      <td>30</td>\n",
              "      <td>6</td>\n",
              "      <td>12</td>\n",
              "      <td>30</td>\n",
              "      <td>0</td>\n",
              "    </tr>\n",
              "    <tr>\n",
              "      <th>30358</th>\n",
              "      <td>1</td>\n",
              "      <td>200769623.0</td>\n",
              "      <td>3327</td>\n",
              "      <td>0</td>\n",
              "      <td>1.928532e+09</td>\n",
              "      <td>1</td>\n",
              "      <td>0</td>\n",
              "      <td>9.720968</td>\n",
              "      <td>31</td>\n",
              "      <td>12</td>\n",
              "      <td>30</td>\n",
              "      <td>6</td>\n",
              "      <td>12</td>\n",
              "      <td>29</td>\n",
              "      <td>5</td>\n",
              "      <td>12</td>\n",
              "      <td>30</td>\n",
              "      <td>6</td>\n",
              "      <td>12</td>\n",
              "      <td>30</td>\n",
              "      <td>0</td>\n",
              "    </tr>\n",
              "    <tr>\n",
              "      <th>...</th>\n",
              "      <td>...</td>\n",
              "      <td>...</td>\n",
              "      <td>...</td>\n",
              "      <td>...</td>\n",
              "      <td>...</td>\n",
              "      <td>...</td>\n",
              "      <td>...</td>\n",
              "      <td>...</td>\n",
              "      <td>...</td>\n",
              "      <td>...</td>\n",
              "      <td>...</td>\n",
              "      <td>...</td>\n",
              "      <td>...</td>\n",
              "      <td>...</td>\n",
              "      <td>...</td>\n",
              "      <td>...</td>\n",
              "      <td>...</td>\n",
              "      <td>...</td>\n",
              "      <td>...</td>\n",
              "      <td>...</td>\n",
              "      <td>...</td>\n",
              "    </tr>\n",
              "    <tr>\n",
              "      <th>30705</th>\n",
              "      <td>1</td>\n",
              "      <td>200515231.0</td>\n",
              "      <td>3210</td>\n",
              "      <td>0</td>\n",
              "      <td>1.930178e+09</td>\n",
              "      <td>1</td>\n",
              "      <td>0</td>\n",
              "      <td>10.472938</td>\n",
              "      <td>18</td>\n",
              "      <td>11</td>\n",
              "      <td>20</td>\n",
              "      <td>2</td>\n",
              "      <td>11</td>\n",
              "      <td>20</td>\n",
              "      <td>2</td>\n",
              "      <td>11</td>\n",
              "      <td>20</td>\n",
              "      <td>2</td>\n",
              "      <td>11</td>\n",
              "      <td>20</td>\n",
              "      <td>1</td>\n",
              "    </tr>\n",
              "    <tr>\n",
              "      <th>28362</th>\n",
              "      <td>1</td>\n",
              "      <td>200759878.0</td>\n",
              "      <td>2649</td>\n",
              "      <td>0</td>\n",
              "      <td>1.930173e+09</td>\n",
              "      <td>1</td>\n",
              "      <td>0</td>\n",
              "      <td>11.296996</td>\n",
              "      <td>60</td>\n",
              "      <td>11</td>\n",
              "      <td>20</td>\n",
              "      <td>2</td>\n",
              "      <td>11</td>\n",
              "      <td>19</td>\n",
              "      <td>1</td>\n",
              "      <td>11</td>\n",
              "      <td>20</td>\n",
              "      <td>2</td>\n",
              "      <td>11</td>\n",
              "      <td>20</td>\n",
              "      <td>1</td>\n",
              "    </tr>\n",
              "    <tr>\n",
              "      <th>15573</th>\n",
              "      <td>1</td>\n",
              "      <td>200769623.0</td>\n",
              "      <td>3323</td>\n",
              "      <td>0</td>\n",
              "      <td>1.930170e+09</td>\n",
              "      <td>1</td>\n",
              "      <td>0</td>\n",
              "      <td>11.057449</td>\n",
              "      <td>31</td>\n",
              "      <td>11</td>\n",
              "      <td>20</td>\n",
              "      <td>2</td>\n",
              "      <td>11</td>\n",
              "      <td>19</td>\n",
              "      <td>1</td>\n",
              "      <td>11</td>\n",
              "      <td>20</td>\n",
              "      <td>2</td>\n",
              "      <td>11</td>\n",
              "      <td>20</td>\n",
              "      <td>1</td>\n",
              "    </tr>\n",
              "    <tr>\n",
              "      <th>15466</th>\n",
              "      <td>1</td>\n",
              "      <td>200794332.0</td>\n",
              "      <td>716</td>\n",
              "      <td>0</td>\n",
              "      <td>1.930165e+09</td>\n",
              "      <td>1</td>\n",
              "      <td>0</td>\n",
              "      <td>9.674961</td>\n",
              "      <td>20</td>\n",
              "      <td>11</td>\n",
              "      <td>20</td>\n",
              "      <td>2</td>\n",
              "      <td>11</td>\n",
              "      <td>18</td>\n",
              "      <td>0</td>\n",
              "      <td>11</td>\n",
              "      <td>20</td>\n",
              "      <td>2</td>\n",
              "      <td>11</td>\n",
              "      <td>20</td>\n",
              "      <td>1</td>\n",
              "    </tr>\n",
              "    <tr>\n",
              "      <th>27971</th>\n",
              "      <td>1</td>\n",
              "      <td>200762301.0</td>\n",
              "      <td>500</td>\n",
              "      <td>0</td>\n",
              "      <td>1.930169e+09</td>\n",
              "      <td>1</td>\n",
              "      <td>0</td>\n",
              "      <td>11.927040</td>\n",
              "      <td>23</td>\n",
              "      <td>11</td>\n",
              "      <td>20</td>\n",
              "      <td>2</td>\n",
              "      <td>11</td>\n",
              "      <td>19</td>\n",
              "      <td>1</td>\n",
              "      <td>11</td>\n",
              "      <td>20</td>\n",
              "      <td>2</td>\n",
              "      <td>11</td>\n",
              "      <td>20</td>\n",
              "      <td>1</td>\n",
              "    </tr>\n",
              "  </tbody>\n",
              "</table>\n",
              "<p>30940 rows × 21 columns</p>\n",
              "</div>"
            ],
            "text/plain": [
              "       business_code  ...  baseline_create_date_year\n",
              "20743              1  ...                          0\n",
              "15202              1  ...                          0\n",
              "34429              0  ...                          0\n",
              "40                 1  ...                          0\n",
              "30358              1  ...                          0\n",
              "...              ...  ...                        ...\n",
              "30705              1  ...                          1\n",
              "28362              1  ...                          1\n",
              "15573              1  ...                          1\n",
              "15466              1  ...                          1\n",
              "27971              1  ...                          1\n",
              "\n",
              "[30940 rows x 21 columns]"
            ]
          },
          "metadata": {
            "tags": []
          },
          "execution_count": 1157
        }
      ]
    },
    {
      "cell_type": "code",
      "metadata": {
        "id": "02b31ef0"
      },
      "source": [
        "## Feature Selection"
      ],
      "id": "02b31ef0",
      "execution_count": 1158,
      "outputs": []
    },
    {
      "cell_type": "code",
      "metadata": {
        "colab": {
          "base_uri": "https://localhost:8080/",
          "height": 733
        },
        "id": "ffdb68cd",
        "outputId": "63e31ec1-5be5-4a2e-c2c3-19cc6c10a62f"
      },
      "source": [
        "# This piece of code displays the correlation matrix between the features.\n",
        "\n",
        "X_train.corr()"
      ],
      "id": "ffdb68cd",
      "execution_count": 1159,
      "outputs": [
        {
          "output_type": "execute_result",
          "data": {
            "text/html": [
              "<div>\n",
              "<style scoped>\n",
              "    .dataframe tbody tr th:only-of-type {\n",
              "        vertical-align: middle;\n",
              "    }\n",
              "\n",
              "    .dataframe tbody tr th {\n",
              "        vertical-align: top;\n",
              "    }\n",
              "\n",
              "    .dataframe thead th {\n",
              "        text-align: right;\n",
              "    }\n",
              "</style>\n",
              "<table border=\"1\" class=\"dataframe\">\n",
              "  <thead>\n",
              "    <tr style=\"text-align: right;\">\n",
              "      <th></th>\n",
              "      <th>business_code</th>\n",
              "      <th>cust_number</th>\n",
              "      <th>name_customer</th>\n",
              "      <th>buisness_year</th>\n",
              "      <th>doc_id</th>\n",
              "      <th>invoice_currency</th>\n",
              "      <th>document type</th>\n",
              "      <th>total_open_amount</th>\n",
              "      <th>cust_payment_terms</th>\n",
              "      <th>post_month</th>\n",
              "      <th>post_day</th>\n",
              "      <th>post_year_weeksdays</th>\n",
              "      <th>document_create_month</th>\n",
              "      <th>document_create_day</th>\n",
              "      <th>document_create_weeksdays</th>\n",
              "      <th>document_create1_month</th>\n",
              "      <th>document_create1_day</th>\n",
              "      <th>document_create1_weeksdays</th>\n",
              "      <th>baseline_create_date_month</th>\n",
              "      <th>baseline_create_date_day</th>\n",
              "      <th>baseline_create_date_year</th>\n",
              "    </tr>\n",
              "  </thead>\n",
              "  <tbody>\n",
              "    <tr>\n",
              "      <th>business_code</th>\n",
              "      <td>1.000000</td>\n",
              "      <td>0.127306</td>\n",
              "      <td>-0.023028</td>\n",
              "      <td>NaN</td>\n",
              "      <td>-0.538994</td>\n",
              "      <td>0.579862</td>\n",
              "      <td>-0.024566</td>\n",
              "      <td>-0.033876</td>\n",
              "      <td>0.520552</td>\n",
              "      <td>0.001826</td>\n",
              "      <td>0.002032</td>\n",
              "      <td>0.021311</td>\n",
              "      <td>0.002508</td>\n",
              "      <td>0.007121</td>\n",
              "      <td>-0.007988</td>\n",
              "      <td>0.001642</td>\n",
              "      <td>0.002648</td>\n",
              "      <td>0.021588</td>\n",
              "      <td>-0.003340</td>\n",
              "      <td>-0.001519</td>\n",
              "      <td>-0.015483</td>\n",
              "    </tr>\n",
              "    <tr>\n",
              "      <th>cust_number</th>\n",
              "      <td>0.127306</td>\n",
              "      <td>1.000000</td>\n",
              "      <td>0.122115</td>\n",
              "      <td>NaN</td>\n",
              "      <td>-0.589761</td>\n",
              "      <td>0.607264</td>\n",
              "      <td>-0.028653</td>\n",
              "      <td>-0.043259</td>\n",
              "      <td>0.328520</td>\n",
              "      <td>-0.000664</td>\n",
              "      <td>-0.009044</td>\n",
              "      <td>0.020889</td>\n",
              "      <td>-0.000075</td>\n",
              "      <td>-0.009867</td>\n",
              "      <td>0.029462</td>\n",
              "      <td>-0.000849</td>\n",
              "      <td>-0.008327</td>\n",
              "      <td>0.021249</td>\n",
              "      <td>-0.006658</td>\n",
              "      <td>-0.017893</td>\n",
              "      <td>-0.010614</td>\n",
              "    </tr>\n",
              "    <tr>\n",
              "      <th>name_customer</th>\n",
              "      <td>-0.023028</td>\n",
              "      <td>0.122115</td>\n",
              "      <td>1.000000</td>\n",
              "      <td>NaN</td>\n",
              "      <td>-0.018010</td>\n",
              "      <td>0.017031</td>\n",
              "      <td>-0.003525</td>\n",
              "      <td>0.098931</td>\n",
              "      <td>0.155088</td>\n",
              "      <td>-0.008903</td>\n",
              "      <td>-0.002824</td>\n",
              "      <td>0.106071</td>\n",
              "      <td>-0.009157</td>\n",
              "      <td>-0.000426</td>\n",
              "      <td>0.079606</td>\n",
              "      <td>-0.008925</td>\n",
              "      <td>-0.002785</td>\n",
              "      <td>0.106145</td>\n",
              "      <td>-0.009715</td>\n",
              "      <td>0.032110</td>\n",
              "      <td>-0.017949</td>\n",
              "    </tr>\n",
              "    <tr>\n",
              "      <th>buisness_year</th>\n",
              "      <td>NaN</td>\n",
              "      <td>NaN</td>\n",
              "      <td>NaN</td>\n",
              "      <td>NaN</td>\n",
              "      <td>NaN</td>\n",
              "      <td>NaN</td>\n",
              "      <td>NaN</td>\n",
              "      <td>NaN</td>\n",
              "      <td>NaN</td>\n",
              "      <td>NaN</td>\n",
              "      <td>NaN</td>\n",
              "      <td>NaN</td>\n",
              "      <td>NaN</td>\n",
              "      <td>NaN</td>\n",
              "      <td>NaN</td>\n",
              "      <td>NaN</td>\n",
              "      <td>NaN</td>\n",
              "      <td>NaN</td>\n",
              "      <td>NaN</td>\n",
              "      <td>NaN</td>\n",
              "      <td>NaN</td>\n",
              "    </tr>\n",
              "    <tr>\n",
              "      <th>doc_id</th>\n",
              "      <td>-0.538994</td>\n",
              "      <td>-0.589761</td>\n",
              "      <td>-0.018010</td>\n",
              "      <td>NaN</td>\n",
              "      <td>1.000000</td>\n",
              "      <td>-0.960362</td>\n",
              "      <td>0.318197</td>\n",
              "      <td>0.035718</td>\n",
              "      <td>-0.511590</td>\n",
              "      <td>0.000890</td>\n",
              "      <td>0.014630</td>\n",
              "      <td>-0.006093</td>\n",
              "      <td>0.001038</td>\n",
              "      <td>0.019964</td>\n",
              "      <td>-0.004513</td>\n",
              "      <td>0.003270</td>\n",
              "      <td>0.006649</td>\n",
              "      <td>-0.009673</td>\n",
              "      <td>0.011516</td>\n",
              "      <td>0.016783</td>\n",
              "      <td>-0.000073</td>\n",
              "    </tr>\n",
              "    <tr>\n",
              "      <th>invoice_currency</th>\n",
              "      <td>0.579862</td>\n",
              "      <td>0.607264</td>\n",
              "      <td>0.017031</td>\n",
              "      <td>NaN</td>\n",
              "      <td>-0.960362</td>\n",
              "      <td>1.000000</td>\n",
              "      <td>-0.042366</td>\n",
              "      <td>-0.039778</td>\n",
              "      <td>0.538386</td>\n",
              "      <td>-0.002907</td>\n",
              "      <td>-0.009404</td>\n",
              "      <td>0.009797</td>\n",
              "      <td>-0.003070</td>\n",
              "      <td>-0.014755</td>\n",
              "      <td>0.007287</td>\n",
              "      <td>-0.003224</td>\n",
              "      <td>-0.008342</td>\n",
              "      <td>0.010274</td>\n",
              "      <td>-0.011926</td>\n",
              "      <td>-0.018830</td>\n",
              "      <td>-0.012223</td>\n",
              "    </tr>\n",
              "    <tr>\n",
              "      <th>document type</th>\n",
              "      <td>-0.024566</td>\n",
              "      <td>-0.028653</td>\n",
              "      <td>-0.003525</td>\n",
              "      <td>NaN</td>\n",
              "      <td>0.318197</td>\n",
              "      <td>-0.042366</td>\n",
              "      <td>1.000000</td>\n",
              "      <td>-0.006949</td>\n",
              "      <td>-0.022863</td>\n",
              "      <td>-0.012111</td>\n",
              "      <td>0.019508</td>\n",
              "      <td>0.009668</td>\n",
              "      <td>-0.012096</td>\n",
              "      <td>0.019696</td>\n",
              "      <td>0.009916</td>\n",
              "      <td>-0.004632</td>\n",
              "      <td>-0.005578</td>\n",
              "      <td>-0.001581</td>\n",
              "      <td>-0.004667</td>\n",
              "      <td>-0.005151</td>\n",
              "      <td>-0.041572</td>\n",
              "    </tr>\n",
              "    <tr>\n",
              "      <th>total_open_amount</th>\n",
              "      <td>-0.033876</td>\n",
              "      <td>-0.043259</td>\n",
              "      <td>0.098931</td>\n",
              "      <td>NaN</td>\n",
              "      <td>0.035718</td>\n",
              "      <td>-0.039778</td>\n",
              "      <td>-0.006949</td>\n",
              "      <td>1.000000</td>\n",
              "      <td>-0.128438</td>\n",
              "      <td>0.025298</td>\n",
              "      <td>0.002749</td>\n",
              "      <td>0.001928</td>\n",
              "      <td>0.024334</td>\n",
              "      <td>0.005432</td>\n",
              "      <td>0.012410</td>\n",
              "      <td>0.025081</td>\n",
              "      <td>0.002975</td>\n",
              "      <td>0.002054</td>\n",
              "      <td>0.024878</td>\n",
              "      <td>0.032635</td>\n",
              "      <td>0.007961</td>\n",
              "    </tr>\n",
              "    <tr>\n",
              "      <th>cust_payment_terms</th>\n",
              "      <td>0.520552</td>\n",
              "      <td>0.328520</td>\n",
              "      <td>0.155088</td>\n",
              "      <td>NaN</td>\n",
              "      <td>-0.511590</td>\n",
              "      <td>0.538386</td>\n",
              "      <td>-0.022863</td>\n",
              "      <td>-0.128438</td>\n",
              "      <td>1.000000</td>\n",
              "      <td>0.008864</td>\n",
              "      <td>-0.003592</td>\n",
              "      <td>0.085877</td>\n",
              "      <td>0.009094</td>\n",
              "      <td>0.000896</td>\n",
              "      <td>0.057028</td>\n",
              "      <td>0.008693</td>\n",
              "      <td>-0.003019</td>\n",
              "      <td>0.086134</td>\n",
              "      <td>0.004530</td>\n",
              "      <td>-0.036274</td>\n",
              "      <td>-0.013642</td>\n",
              "    </tr>\n",
              "    <tr>\n",
              "      <th>post_month</th>\n",
              "      <td>0.001826</td>\n",
              "      <td>-0.000664</td>\n",
              "      <td>-0.008903</td>\n",
              "      <td>NaN</td>\n",
              "      <td>0.000890</td>\n",
              "      <td>-0.002907</td>\n",
              "      <td>-0.012111</td>\n",
              "      <td>0.025298</td>\n",
              "      <td>0.008864</td>\n",
              "      <td>1.000000</td>\n",
              "      <td>-0.053283</td>\n",
              "      <td>-0.005064</td>\n",
              "      <td>0.985341</td>\n",
              "      <td>-0.051243</td>\n",
              "      <td>0.015140</td>\n",
              "      <td>0.999860</td>\n",
              "      <td>-0.052985</td>\n",
              "      <td>-0.004927</td>\n",
              "      <td>0.998653</td>\n",
              "      <td>-0.045417</td>\n",
              "      <td>-0.114440</td>\n",
              "    </tr>\n",
              "    <tr>\n",
              "      <th>post_day</th>\n",
              "      <td>0.002032</td>\n",
              "      <td>-0.009044</td>\n",
              "      <td>-0.002824</td>\n",
              "      <td>NaN</td>\n",
              "      <td>0.014630</td>\n",
              "      <td>-0.009404</td>\n",
              "      <td>0.019508</td>\n",
              "      <td>0.002749</td>\n",
              "      <td>-0.003592</td>\n",
              "      <td>-0.053283</td>\n",
              "      <td>1.000000</td>\n",
              "      <td>0.015386</td>\n",
              "      <td>-0.051763</td>\n",
              "      <td>0.843447</td>\n",
              "      <td>-0.005094</td>\n",
              "      <td>-0.053135</td>\n",
              "      <td>0.999611</td>\n",
              "      <td>0.015167</td>\n",
              "      <td>-0.049290</td>\n",
              "      <td>0.944823</td>\n",
              "      <td>-0.101136</td>\n",
              "    </tr>\n",
              "    <tr>\n",
              "      <th>post_year_weeksdays</th>\n",
              "      <td>0.021311</td>\n",
              "      <td>0.020889</td>\n",
              "      <td>0.106071</td>\n",
              "      <td>NaN</td>\n",
              "      <td>-0.006093</td>\n",
              "      <td>0.009797</td>\n",
              "      <td>0.009668</td>\n",
              "      <td>0.001928</td>\n",
              "      <td>0.085877</td>\n",
              "      <td>-0.005064</td>\n",
              "      <td>0.015386</td>\n",
              "      <td>1.000000</td>\n",
              "      <td>-0.007497</td>\n",
              "      <td>0.023492</td>\n",
              "      <td>0.429832</td>\n",
              "      <td>-0.004991</td>\n",
              "      <td>0.015145</td>\n",
              "      <td>0.999891</td>\n",
              "      <td>-0.004689</td>\n",
              "      <td>0.019552</td>\n",
              "      <td>-0.005651</td>\n",
              "    </tr>\n",
              "    <tr>\n",
              "      <th>document_create_month</th>\n",
              "      <td>0.002508</td>\n",
              "      <td>-0.000075</td>\n",
              "      <td>-0.009157</td>\n",
              "      <td>NaN</td>\n",
              "      <td>0.001038</td>\n",
              "      <td>-0.003070</td>\n",
              "      <td>-0.012096</td>\n",
              "      <td>0.024334</td>\n",
              "      <td>0.009094</td>\n",
              "      <td>0.985341</td>\n",
              "      <td>-0.051763</td>\n",
              "      <td>-0.007497</td>\n",
              "      <td>1.000000</td>\n",
              "      <td>-0.051738</td>\n",
              "      <td>0.015251</td>\n",
              "      <td>0.985202</td>\n",
              "      <td>-0.051464</td>\n",
              "      <td>-0.007360</td>\n",
              "      <td>0.984009</td>\n",
              "      <td>-0.044007</td>\n",
              "      <td>-0.106559</td>\n",
              "    </tr>\n",
              "    <tr>\n",
              "      <th>document_create_day</th>\n",
              "      <td>0.007121</td>\n",
              "      <td>-0.009867</td>\n",
              "      <td>-0.000426</td>\n",
              "      <td>NaN</td>\n",
              "      <td>0.019964</td>\n",
              "      <td>-0.014755</td>\n",
              "      <td>0.019696</td>\n",
              "      <td>0.005432</td>\n",
              "      <td>0.000896</td>\n",
              "      <td>-0.051243</td>\n",
              "      <td>0.843447</td>\n",
              "      <td>0.023492</td>\n",
              "      <td>-0.051738</td>\n",
              "      <td>1.000000</td>\n",
              "      <td>-0.001066</td>\n",
              "      <td>-0.051093</td>\n",
              "      <td>0.843038</td>\n",
              "      <td>0.023271</td>\n",
              "      <td>-0.047325</td>\n",
              "      <td>0.790631</td>\n",
              "      <td>-0.089067</td>\n",
              "    </tr>\n",
              "    <tr>\n",
              "      <th>document_create_weeksdays</th>\n",
              "      <td>-0.007988</td>\n",
              "      <td>0.029462</td>\n",
              "      <td>0.079606</td>\n",
              "      <td>NaN</td>\n",
              "      <td>-0.004513</td>\n",
              "      <td>0.007287</td>\n",
              "      <td>0.009916</td>\n",
              "      <td>0.012410</td>\n",
              "      <td>0.057028</td>\n",
              "      <td>0.015140</td>\n",
              "      <td>-0.005094</td>\n",
              "      <td>0.429832</td>\n",
              "      <td>0.015251</td>\n",
              "      <td>-0.001066</td>\n",
              "      <td>1.000000</td>\n",
              "      <td>0.015214</td>\n",
              "      <td>-0.005343</td>\n",
              "      <td>0.429720</td>\n",
              "      <td>0.015405</td>\n",
              "      <td>-0.000711</td>\n",
              "      <td>-0.049995</td>\n",
              "    </tr>\n",
              "    <tr>\n",
              "      <th>document_create1_month</th>\n",
              "      <td>0.001642</td>\n",
              "      <td>-0.000849</td>\n",
              "      <td>-0.008925</td>\n",
              "      <td>NaN</td>\n",
              "      <td>0.003270</td>\n",
              "      <td>-0.003224</td>\n",
              "      <td>-0.004632</td>\n",
              "      <td>0.025081</td>\n",
              "      <td>0.008693</td>\n",
              "      <td>0.999860</td>\n",
              "      <td>-0.053135</td>\n",
              "      <td>-0.004991</td>\n",
              "      <td>0.985202</td>\n",
              "      <td>-0.051093</td>\n",
              "      <td>0.015214</td>\n",
              "      <td>1.000000</td>\n",
              "      <td>-0.053109</td>\n",
              "      <td>-0.005013</td>\n",
              "      <td>0.998792</td>\n",
              "      <td>-0.045537</td>\n",
              "      <td>-0.116012</td>\n",
              "    </tr>\n",
              "    <tr>\n",
              "      <th>document_create1_day</th>\n",
              "      <td>0.002648</td>\n",
              "      <td>-0.008327</td>\n",
              "      <td>-0.002785</td>\n",
              "      <td>NaN</td>\n",
              "      <td>0.006649</td>\n",
              "      <td>-0.008342</td>\n",
              "      <td>-0.005578</td>\n",
              "      <td>0.002975</td>\n",
              "      <td>-0.003019</td>\n",
              "      <td>-0.052985</td>\n",
              "      <td>0.999611</td>\n",
              "      <td>0.015145</td>\n",
              "      <td>-0.051464</td>\n",
              "      <td>0.843038</td>\n",
              "      <td>-0.005343</td>\n",
              "      <td>-0.053109</td>\n",
              "      <td>1.000000</td>\n",
              "      <td>0.015221</td>\n",
              "      <td>-0.049263</td>\n",
              "      <td>0.945194</td>\n",
              "      <td>-0.099622</td>\n",
              "    </tr>\n",
              "    <tr>\n",
              "      <th>document_create1_weeksdays</th>\n",
              "      <td>0.021588</td>\n",
              "      <td>0.021249</td>\n",
              "      <td>0.106145</td>\n",
              "      <td>NaN</td>\n",
              "      <td>-0.009673</td>\n",
              "      <td>0.010274</td>\n",
              "      <td>-0.001581</td>\n",
              "      <td>0.002054</td>\n",
              "      <td>0.086134</td>\n",
              "      <td>-0.004927</td>\n",
              "      <td>0.015167</td>\n",
              "      <td>0.999891</td>\n",
              "      <td>-0.007360</td>\n",
              "      <td>0.023271</td>\n",
              "      <td>0.429720</td>\n",
              "      <td>-0.005013</td>\n",
              "      <td>0.015221</td>\n",
              "      <td>1.000000</td>\n",
              "      <td>-0.004711</td>\n",
              "      <td>0.019622</td>\n",
              "      <td>-0.004766</td>\n",
              "    </tr>\n",
              "    <tr>\n",
              "      <th>baseline_create_date_month</th>\n",
              "      <td>-0.003340</td>\n",
              "      <td>-0.006658</td>\n",
              "      <td>-0.009715</td>\n",
              "      <td>NaN</td>\n",
              "      <td>0.011516</td>\n",
              "      <td>-0.011926</td>\n",
              "      <td>-0.004667</td>\n",
              "      <td>0.024878</td>\n",
              "      <td>0.004530</td>\n",
              "      <td>0.998653</td>\n",
              "      <td>-0.049290</td>\n",
              "      <td>-0.004689</td>\n",
              "      <td>0.984009</td>\n",
              "      <td>-0.047325</td>\n",
              "      <td>0.015405</td>\n",
              "      <td>0.998792</td>\n",
              "      <td>-0.049263</td>\n",
              "      <td>-0.004711</td>\n",
              "      <td>1.000000</td>\n",
              "      <td>-0.048912</td>\n",
              "      <td>-0.118804</td>\n",
              "    </tr>\n",
              "    <tr>\n",
              "      <th>baseline_create_date_day</th>\n",
              "      <td>-0.001519</td>\n",
              "      <td>-0.017893</td>\n",
              "      <td>0.032110</td>\n",
              "      <td>NaN</td>\n",
              "      <td>0.016783</td>\n",
              "      <td>-0.018830</td>\n",
              "      <td>-0.005151</td>\n",
              "      <td>0.032635</td>\n",
              "      <td>-0.036274</td>\n",
              "      <td>-0.045417</td>\n",
              "      <td>0.944823</td>\n",
              "      <td>0.019552</td>\n",
              "      <td>-0.044007</td>\n",
              "      <td>0.790631</td>\n",
              "      <td>-0.000711</td>\n",
              "      <td>-0.045537</td>\n",
              "      <td>0.945194</td>\n",
              "      <td>0.019622</td>\n",
              "      <td>-0.048912</td>\n",
              "      <td>1.000000</td>\n",
              "      <td>-0.100551</td>\n",
              "    </tr>\n",
              "    <tr>\n",
              "      <th>baseline_create_date_year</th>\n",
              "      <td>-0.015483</td>\n",
              "      <td>-0.010614</td>\n",
              "      <td>-0.017949</td>\n",
              "      <td>NaN</td>\n",
              "      <td>-0.000073</td>\n",
              "      <td>-0.012223</td>\n",
              "      <td>-0.041572</td>\n",
              "      <td>0.007961</td>\n",
              "      <td>-0.013642</td>\n",
              "      <td>-0.114440</td>\n",
              "      <td>-0.101136</td>\n",
              "      <td>-0.005651</td>\n",
              "      <td>-0.106559</td>\n",
              "      <td>-0.089067</td>\n",
              "      <td>-0.049995</td>\n",
              "      <td>-0.116012</td>\n",
              "      <td>-0.099622</td>\n",
              "      <td>-0.004766</td>\n",
              "      <td>-0.118804</td>\n",
              "      <td>-0.100551</td>\n",
              "      <td>1.000000</td>\n",
              "    </tr>\n",
              "  </tbody>\n",
              "</table>\n",
              "</div>"
            ],
            "text/plain": [
              "                            business_code  ...  baseline_create_date_year\n",
              "business_code                    1.000000  ...                  -0.015483\n",
              "cust_number                      0.127306  ...                  -0.010614\n",
              "name_customer                   -0.023028  ...                  -0.017949\n",
              "buisness_year                         NaN  ...                        NaN\n",
              "doc_id                          -0.538994  ...                  -0.000073\n",
              "invoice_currency                 0.579862  ...                  -0.012223\n",
              "document type                   -0.024566  ...                  -0.041572\n",
              "total_open_amount               -0.033876  ...                   0.007961\n",
              "cust_payment_terms               0.520552  ...                  -0.013642\n",
              "post_month                       0.001826  ...                  -0.114440\n",
              "post_day                         0.002032  ...                  -0.101136\n",
              "post_year_weeksdays              0.021311  ...                  -0.005651\n",
              "document_create_month            0.002508  ...                  -0.106559\n",
              "document_create_day              0.007121  ...                  -0.089067\n",
              "document_create_weeksdays       -0.007988  ...                  -0.049995\n",
              "document_create1_month           0.001642  ...                  -0.116012\n",
              "document_create1_day             0.002648  ...                  -0.099622\n",
              "document_create1_weeksdays       0.021588  ...                  -0.004766\n",
              "baseline_create_date_month      -0.003340  ...                  -0.118804\n",
              "baseline_create_date_day        -0.001519  ...                  -0.100551\n",
              "baseline_create_date_year       -0.015483  ...                   1.000000\n",
              "\n",
              "[21 rows x 21 columns]"
            ]
          },
          "metadata": {
            "tags": []
          },
          "execution_count": 1159
        }
      ]
    },
    {
      "cell_type": "code",
      "metadata": {
        "id": "5e05d333"
      },
      "source": [
        "# Next step is to remove the highly correlated features."
      ],
      "id": "5e05d333",
      "execution_count": 1160,
      "outputs": []
    },
    {
      "cell_type": "code",
      "metadata": {
        "id": "efe37d18"
      },
      "source": [
        "def handling_correlation(df,threshold=0.8):\n",
        "    # creating set to hold the correlated features\n",
        "    corr_features = set()\n",
        "    # create the correlation matrix (default to pearson)\n",
        "    corr_matrix = df.corr()\n",
        "    #code for selecting all correleated features\n",
        "    for i in range(len(corr_matrix .columns)):\n",
        "        for j in range(i):\n",
        "            if abs(corr_matrix.iloc[i, j]) >threshold:\n",
        "                colname = corr_matrix.columns[i]\n",
        "                corr_features.add(colname)\n",
        "    return list(corr_features)\n",
        "#handling_correlation(X_train.copy(),0.80)"
      ],
      "id": "efe37d18",
      "execution_count": 1161,
      "outputs": []
    },
    {
      "cell_type": "code",
      "metadata": {
        "colab": {
          "base_uri": "https://localhost:8080/"
        },
        "id": "7519fd89",
        "outputId": "11d2692d-f396-4fc3-b990-47817eb2b318"
      },
      "source": [
        "# storing highly correlated features in a variable. \n",
        "corr_features = handling_correlation(X_train.copy(),0.90)\n",
        "corr_features"
      ],
      "id": "7519fd89",
      "execution_count": 1162,
      "outputs": [
        {
          "output_type": "execute_result",
          "data": {
            "text/plain": [
              "['document_create1_day',\n",
              " 'baseline_create_date_day',\n",
              " 'baseline_create_date_month',\n",
              " 'invoice_currency',\n",
              " 'document_create1_weeksdays',\n",
              " 'document_create1_month',\n",
              " 'document_create_month']"
            ]
          },
          "metadata": {
            "tags": []
          },
          "execution_count": 1162
        }
      ]
    },
    {
      "cell_type": "code",
      "metadata": {
        "id": "ca96b3fc"
      },
      "source": [
        "# dropping all high correlated data from X_train,X_val,X_test\n",
        "X_train = X_train.drop(corr_features, axis=1) \n",
        "X_test = X_test.drop(corr_features, axis=1)\n",
        "X_val = X_val.drop(corr_features, axis=1)\n",
        "data_set_test = data_set_test.drop(corr_features, axis=1)"
      ],
      "id": "ca96b3fc",
      "execution_count": 1163,
      "outputs": []
    },
    {
      "cell_type": "code",
      "metadata": {
        "colab": {
          "base_uri": "https://localhost:8080/",
          "height": 454
        },
        "id": "b557dace",
        "outputId": "adfa7f8d-657c-4170-d830-57d96132ca13"
      },
      "source": [
        "X_train"
      ],
      "id": "b557dace",
      "execution_count": 1164,
      "outputs": [
        {
          "output_type": "execute_result",
          "data": {
            "text/html": [
              "<div>\n",
              "<style scoped>\n",
              "    .dataframe tbody tr th:only-of-type {\n",
              "        vertical-align: middle;\n",
              "    }\n",
              "\n",
              "    .dataframe tbody tr th {\n",
              "        vertical-align: top;\n",
              "    }\n",
              "\n",
              "    .dataframe thead th {\n",
              "        text-align: right;\n",
              "    }\n",
              "</style>\n",
              "<table border=\"1\" class=\"dataframe\">\n",
              "  <thead>\n",
              "    <tr style=\"text-align: right;\">\n",
              "      <th></th>\n",
              "      <th>business_code</th>\n",
              "      <th>cust_number</th>\n",
              "      <th>name_customer</th>\n",
              "      <th>buisness_year</th>\n",
              "      <th>doc_id</th>\n",
              "      <th>document type</th>\n",
              "      <th>total_open_amount</th>\n",
              "      <th>cust_payment_terms</th>\n",
              "      <th>post_month</th>\n",
              "      <th>post_day</th>\n",
              "      <th>post_year_weeksdays</th>\n",
              "      <th>document_create_day</th>\n",
              "      <th>document_create_weeksdays</th>\n",
              "      <th>baseline_create_date_year</th>\n",
              "    </tr>\n",
              "  </thead>\n",
              "  <tbody>\n",
              "    <tr>\n",
              "      <th>20743</th>\n",
              "      <td>1</td>\n",
              "      <td>200769623.0</td>\n",
              "      <td>3323</td>\n",
              "      <td>0</td>\n",
              "      <td>1.928538e+09</td>\n",
              "      <td>0</td>\n",
              "      <td>4.368815</td>\n",
              "      <td>31</td>\n",
              "      <td>12</td>\n",
              "      <td>30</td>\n",
              "      <td>6</td>\n",
              "      <td>29</td>\n",
              "      <td>5</td>\n",
              "      <td>0</td>\n",
              "    </tr>\n",
              "    <tr>\n",
              "      <th>15202</th>\n",
              "      <td>1</td>\n",
              "      <td>200726979.0</td>\n",
              "      <td>366</td>\n",
              "      <td>0</td>\n",
              "      <td>1.928540e+09</td>\n",
              "      <td>0</td>\n",
              "      <td>5.521021</td>\n",
              "      <td>18</td>\n",
              "      <td>12</td>\n",
              "      <td>30</td>\n",
              "      <td>6</td>\n",
              "      <td>29</td>\n",
              "      <td>5</td>\n",
              "      <td>0</td>\n",
              "    </tr>\n",
              "    <tr>\n",
              "      <th>34429</th>\n",
              "      <td>0</td>\n",
              "      <td>140106408.0</td>\n",
              "      <td>3318</td>\n",
              "      <td>0</td>\n",
              "      <td>2.960520e+09</td>\n",
              "      <td>0</td>\n",
              "      <td>10.743003</td>\n",
              "      <td>5</td>\n",
              "      <td>12</td>\n",
              "      <td>30</td>\n",
              "      <td>6</td>\n",
              "      <td>30</td>\n",
              "      <td>6</td>\n",
              "      <td>0</td>\n",
              "    </tr>\n",
              "    <tr>\n",
              "      <th>40</th>\n",
              "      <td>1</td>\n",
              "      <td>200769623.0</td>\n",
              "      <td>3325</td>\n",
              "      <td>0</td>\n",
              "      <td>1.928521e+09</td>\n",
              "      <td>0</td>\n",
              "      <td>9.711942</td>\n",
              "      <td>31</td>\n",
              "      <td>12</td>\n",
              "      <td>30</td>\n",
              "      <td>6</td>\n",
              "      <td>31</td>\n",
              "      <td>0</td>\n",
              "      <td>0</td>\n",
              "    </tr>\n",
              "    <tr>\n",
              "      <th>30358</th>\n",
              "      <td>1</td>\n",
              "      <td>200769623.0</td>\n",
              "      <td>3327</td>\n",
              "      <td>0</td>\n",
              "      <td>1.928532e+09</td>\n",
              "      <td>0</td>\n",
              "      <td>9.720968</td>\n",
              "      <td>31</td>\n",
              "      <td>12</td>\n",
              "      <td>30</td>\n",
              "      <td>6</td>\n",
              "      <td>29</td>\n",
              "      <td>5</td>\n",
              "      <td>0</td>\n",
              "    </tr>\n",
              "    <tr>\n",
              "      <th>...</th>\n",
              "      <td>...</td>\n",
              "      <td>...</td>\n",
              "      <td>...</td>\n",
              "      <td>...</td>\n",
              "      <td>...</td>\n",
              "      <td>...</td>\n",
              "      <td>...</td>\n",
              "      <td>...</td>\n",
              "      <td>...</td>\n",
              "      <td>...</td>\n",
              "      <td>...</td>\n",
              "      <td>...</td>\n",
              "      <td>...</td>\n",
              "      <td>...</td>\n",
              "    </tr>\n",
              "    <tr>\n",
              "      <th>30705</th>\n",
              "      <td>1</td>\n",
              "      <td>200515231.0</td>\n",
              "      <td>3210</td>\n",
              "      <td>0</td>\n",
              "      <td>1.930178e+09</td>\n",
              "      <td>0</td>\n",
              "      <td>10.472938</td>\n",
              "      <td>18</td>\n",
              "      <td>11</td>\n",
              "      <td>20</td>\n",
              "      <td>2</td>\n",
              "      <td>20</td>\n",
              "      <td>2</td>\n",
              "      <td>1</td>\n",
              "    </tr>\n",
              "    <tr>\n",
              "      <th>28362</th>\n",
              "      <td>1</td>\n",
              "      <td>200759878.0</td>\n",
              "      <td>2649</td>\n",
              "      <td>0</td>\n",
              "      <td>1.930173e+09</td>\n",
              "      <td>0</td>\n",
              "      <td>11.296996</td>\n",
              "      <td>60</td>\n",
              "      <td>11</td>\n",
              "      <td>20</td>\n",
              "      <td>2</td>\n",
              "      <td>19</td>\n",
              "      <td>1</td>\n",
              "      <td>1</td>\n",
              "    </tr>\n",
              "    <tr>\n",
              "      <th>15573</th>\n",
              "      <td>1</td>\n",
              "      <td>200769623.0</td>\n",
              "      <td>3323</td>\n",
              "      <td>0</td>\n",
              "      <td>1.930170e+09</td>\n",
              "      <td>0</td>\n",
              "      <td>11.057449</td>\n",
              "      <td>31</td>\n",
              "      <td>11</td>\n",
              "      <td>20</td>\n",
              "      <td>2</td>\n",
              "      <td>19</td>\n",
              "      <td>1</td>\n",
              "      <td>1</td>\n",
              "    </tr>\n",
              "    <tr>\n",
              "      <th>15466</th>\n",
              "      <td>1</td>\n",
              "      <td>200794332.0</td>\n",
              "      <td>716</td>\n",
              "      <td>0</td>\n",
              "      <td>1.930165e+09</td>\n",
              "      <td>0</td>\n",
              "      <td>9.674961</td>\n",
              "      <td>20</td>\n",
              "      <td>11</td>\n",
              "      <td>20</td>\n",
              "      <td>2</td>\n",
              "      <td>18</td>\n",
              "      <td>0</td>\n",
              "      <td>1</td>\n",
              "    </tr>\n",
              "    <tr>\n",
              "      <th>27971</th>\n",
              "      <td>1</td>\n",
              "      <td>200762301.0</td>\n",
              "      <td>500</td>\n",
              "      <td>0</td>\n",
              "      <td>1.930169e+09</td>\n",
              "      <td>0</td>\n",
              "      <td>11.927040</td>\n",
              "      <td>23</td>\n",
              "      <td>11</td>\n",
              "      <td>20</td>\n",
              "      <td>2</td>\n",
              "      <td>19</td>\n",
              "      <td>1</td>\n",
              "      <td>1</td>\n",
              "    </tr>\n",
              "  </tbody>\n",
              "</table>\n",
              "<p>30940 rows × 14 columns</p>\n",
              "</div>"
            ],
            "text/plain": [
              "       business_code  ...  baseline_create_date_year\n",
              "20743              1  ...                          0\n",
              "15202              1  ...                          0\n",
              "34429              0  ...                          0\n",
              "40                 1  ...                          0\n",
              "30358              1  ...                          0\n",
              "...              ...  ...                        ...\n",
              "30705              1  ...                          1\n",
              "28362              1  ...                          1\n",
              "15573              1  ...                          1\n",
              "15466              1  ...                          1\n",
              "27971              1  ...                          1\n",
              "\n",
              "[30940 rows x 14 columns]"
            ]
          },
          "metadata": {
            "tags": []
          },
          "execution_count": 1164
        }
      ]
    },
    {
      "cell_type": "code",
      "metadata": {
        "colab": {
          "base_uri": "https://localhost:8080/",
          "height": 1000
        },
        "id": "564ff1e3",
        "outputId": "e0707bb3-d685-4902-f7fc-f42916ffe8bc"
      },
      "source": [
        "import matplotlib.pyplot as plt\n",
        "%matplotlib inline\n",
        "import seaborn as sns\n",
        "corrmat = X_train.merge(y_train, on = X_train.index).corr()\n",
        "plt.subplots(figsize=(20,20))\n",
        "sns.heatmap(corrmat,annot=True,cmap= 'coolwarm',vmin=-1, vmax=1, center= 0,linewidths=3, linecolor='black')"
      ],
      "id": "564ff1e3",
      "execution_count": 1165,
      "outputs": [
        {
          "output_type": "execute_result",
          "data": {
            "text/plain": [
              "<matplotlib.axes._subplots.AxesSubplot at 0x7f7f7fe995d0>"
            ]
          },
          "metadata": {
            "tags": []
          },
          "execution_count": 1165
        },
        {
          "output_type": "display_data",
          "data": {
            "image/png": "[encoded data removed]",
            "text/plain": [
              "<Figure size 1440x1440 with 2 Axes>"
            ]
          },
          "metadata": {
            "tags": [],
            "needs_background": "light"
          }
        }
      ]
    },
    {
      "cell_type": "markdown",
      "metadata": {
        "id": "ZVD_tlQbDaX_"
      },
      "source": [
        ""
      ],
      "id": "ZVD_tlQbDaX_"
    },
    {
      "cell_type": "code",
      "metadata": {
        "colab": {
          "base_uri": "https://localhost:8080/",
          "height": 296
        },
        "id": "9a02d7b4",
        "outputId": "6e1f341a-fb67-4121-b8ae-5c15bbc046d7"
      },
      "source": [
        "sns.regplot(data = X_train.merge(y_train, on = X_train.index), x='target', y='total_open_amount')"
      ],
      "id": "9a02d7b4",
      "execution_count": 1166,
      "outputs": [
        {
          "output_type": "execute_result",
          "data": {
            "text/plain": [
              "<matplotlib.axes._subplots.AxesSubplot at 0x7f7f7fde2110>"
            ]
          },
          "metadata": {
            "tags": []
          },
          "execution_count": 1166
        },
        {
          "output_type": "display_data",
          "data": {
            "image/png": "[encoded data removed]",
            "text/plain": [
              "<Figure size 432x288 with 1 Axes>"
            ]
          },
          "metadata": {
            "tags": [],
            "needs_background": "light"
          }
        }
      ]
    },
    {
      "cell_type": "code",
      "metadata": {
        "colab": {
          "base_uri": "https://localhost:8080/",
          "height": 296
        },
        "id": "29250be3",
        "outputId": "08eb07c7-4b60-4688-eaa6-05b68fe70b8c"
      },
      "source": [
        "sns.regplot(data = X_train.merge(y_train, on = X_train.index), x='target', y='name_customer')"
      ],
      "id": "29250be3",
      "execution_count": 1167,
      "outputs": [
        {
          "output_type": "execute_result",
          "data": {
            "text/plain": [
              "<matplotlib.axes._subplots.AxesSubplot at 0x7f7f7fbba190>"
            ]
          },
          "metadata": {
            "tags": []
          },
          "execution_count": 1167
        },
        {
          "output_type": "display_data",
          "data": {
            "image/png": "[encoded data removed]",
            "text/plain": [
              "<Figure size 432x288 with 1 Axes>"
            ]
          },
          "metadata": {
            "tags": [],
            "needs_background": "light"
          }
        }
      ]
    },
    {
      "cell_type": "code",
      "metadata": {
        "colab": {
          "base_uri": "https://localhost:8080/",
          "height": 296
        },
        "id": "z6VuE8H-ouFe",
        "outputId": "c8bdb3a9-181d-4258-d0f5-e0968ccc861c"
      },
      "source": [
        "sns.regplot(data = X_train.merge(y_train, on = X_train.index), x='target', y='document type')"
      ],
      "id": "z6VuE8H-ouFe",
      "execution_count": 1168,
      "outputs": [
        {
          "output_type": "execute_result",
          "data": {
            "text/plain": [
              "<matplotlib.axes._subplots.AxesSubplot at 0x7f7f7fba6510>"
            ]
          },
          "metadata": {
            "tags": []
          },
          "execution_count": 1168
        },
        {
          "output_type": "display_data",
          "data": {
            "image/png": "[encoded data removed]",
            "text/plain": [
              "<Figure size 432x288 with 1 Axes>"
            ]
          },
          "metadata": {
            "tags": [],
            "needs_background": "light"
          }
        }
      ]
    },
    {
      "cell_type": "code",
      "metadata": {
        "colab": {
          "base_uri": "https://localhost:8080/",
          "height": 296
        },
        "id": "HA6GTjpco2Yl",
        "outputId": "8af4f230-a5ff-4a44-b54b-b4f990d42381"
      },
      "source": [
        "sns.regplot(data = X_train.merge(y_train, on = X_train.index), x='target', y='cust_payment_terms')"
      ],
      "id": "HA6GTjpco2Yl",
      "execution_count": 1169,
      "outputs": [
        {
          "output_type": "execute_result",
          "data": {
            "text/plain": [
              "<matplotlib.axes._subplots.AxesSubplot at 0x7f7f7fa8bb50>"
            ]
          },
          "metadata": {
            "tags": []
          },
          "execution_count": 1169
        },
        {
          "output_type": "display_data",
          "data": {
            "image/png": "[encoded data removed]",
            "text/plain": [
              "<Figure size 432x288 with 1 Axes>"
            ]
          },
          "metadata": {
            "tags": [],
            "needs_background": "light"
          }
        }
      ]
    },
    {
      "cell_type": "code",
      "metadata": {
        "colab": {
          "base_uri": "https://localhost:8080/",
          "height": 296
        },
        "id": "7uJ-W9yao-rz",
        "outputId": "3f35cdf5-1f8e-4637-c16c-db80e4462359"
      },
      "source": [
        "sns.regplot(data = X_train.merge(y_train, on = X_train.index), x='target', y='post_month')"
      ],
      "id": "7uJ-W9yao-rz",
      "execution_count": 1170,
      "outputs": [
        {
          "output_type": "execute_result",
          "data": {
            "text/plain": [
              "<matplotlib.axes._subplots.AxesSubplot at 0x7f7f7fa8bd50>"
            ]
          },
          "metadata": {
            "tags": []
          },
          "execution_count": 1170
        },
        {
          "output_type": "display_data",
          "data": {
            "image/png": "[encoded data removed]",
            "text/plain": [
              "<Figure size 432x288 with 1 Axes>"
            ]
          },
          "metadata": {
            "tags": [],
            "needs_background": "light"
          }
        }
      ]
    },
    {
      "cell_type": "code",
      "metadata": {
        "colab": {
          "base_uri": "https://localhost:8080/",
          "height": 296
        },
        "id": "Dpt1mACEpLNl",
        "outputId": "e4a22788-6754-4bb0-b359-ba13f80a2975"
      },
      "source": [
        "sns.regplot(data = X_train.merge(y_train, on = X_train.index), x='target', y='post_year_weeksdays')"
      ],
      "id": "Dpt1mACEpLNl",
      "execution_count": 1171,
      "outputs": [
        {
          "output_type": "execute_result",
          "data": {
            "text/plain": [
              "<matplotlib.axes._subplots.AxesSubplot at 0x7f7f7f9e6490>"
            ]
          },
          "metadata": {
            "tags": []
          },
          "execution_count": 1171
        },
        {
          "output_type": "display_data",
          "data": {
            "image/png": "[encoded data removed]",
            "text/plain": [
              "<Figure size 432x288 with 1 Axes>"
            ]
          },
          "metadata": {
            "tags": [],
            "needs_background": "light"
          }
        }
      ]
    },
    {
      "cell_type": "code",
      "metadata": {
        "colab": {
          "base_uri": "https://localhost:8080/",
          "height": 307
        },
        "id": "AVQcozo4pQ5a",
        "outputId": "2de43e86-dcd6-4390-c4ee-b83e99dcb842"
      },
      "source": [
        "sns.regplot(data = X_train.merge(y_train, on = X_train.index), x='target', y='cust_number')"
      ],
      "id": "AVQcozo4pQ5a",
      "execution_count": 1172,
      "outputs": [
        {
          "output_type": "execute_result",
          "data": {
            "text/plain": [
              "<matplotlib.axes._subplots.AxesSubplot at 0x7f7f7f9de250>"
            ]
          },
          "metadata": {
            "tags": []
          },
          "execution_count": 1172
        },
        {
          "output_type": "display_data",
          "data": {
            "image/png": "[encoded data removed]",
            "text/plain": [
              "<Figure size 432x288 with 1 Axes>"
            ]
          },
          "metadata": {
            "tags": [],
            "needs_background": "light"
          }
        }
      ]
    },
    {
      "cell_type": "code",
      "metadata": {
        "colab": {
          "base_uri": "https://localhost:8080/",
          "height": 307
        },
        "id": "niGUqhDBxVbh",
        "outputId": "93d980e1-1be5-4303-ac19-2a293ada98f5"
      },
      "source": [
        "sns.regplot(data = X_train.merge(y_train, on = X_train.index), x='target', y='doc_id')"
      ],
      "id": "niGUqhDBxVbh",
      "execution_count": 1173,
      "outputs": [
        {
          "output_type": "execute_result",
          "data": {
            "text/plain": [
              "<matplotlib.axes._subplots.AxesSubplot at 0x7f7f7f933950>"
            ]
          },
          "metadata": {
            "tags": []
          },
          "execution_count": 1173
        },
        {
          "output_type": "display_data",
          "data": {
            "image/png": "[encoded data removed]",
            "text/plain": [
              "<Figure size 432x288 with 1 Axes>"
            ]
          },
          "metadata": {
            "tags": [],
            "needs_background": "light"
          }
        }
      ]
    },
    {
      "cell_type": "code",
      "metadata": {
        "colab": {
          "base_uri": "https://localhost:8080/"
        },
        "id": "G-AUBOpFqPS_",
        "outputId": "ff722466-bd9b-4f3c-ad41-9f99393e37f8"
      },
      "source": [
        "X_train.columns"
      ],
      "id": "G-AUBOpFqPS_",
      "execution_count": 1174,
      "outputs": [
        {
          "output_type": "execute_result",
          "data": {
            "text/plain": [
              "Index(['business_code', 'cust_number', 'name_customer', 'buisness_year',\n",
              "       'doc_id', 'document type', 'total_open_amount', 'cust_payment_terms',\n",
              "       'post_month', 'post_day', 'post_year_weeksdays', 'document_create_day',\n",
              "       'document_create_weeksdays', 'baseline_create_date_year'],\n",
              "      dtype='object')"
            ]
          },
          "metadata": {
            "tags": []
          },
          "execution_count": 1174
        }
      ]
    },
    {
      "cell_type": "code",
      "metadata": {
        "id": "RGZpTcYqqHuz"
      },
      "source": [
        "X_train = X_train.drop('buisness_year',axis=1)\n",
        "X_val = X_val.drop('buisness_year',axis=1)\n",
        "X_test = X_test.drop('buisness_year',axis=1)\n",
        "data_set_test=data_set_test.drop('buisness_year',axis=1)\n",
        "\n",
        "X_train = X_train.drop('document type',axis=1)\n",
        "X_val = X_val.drop('document type',axis=1)\n",
        "X_test = X_test.drop('document type',axis=1)\n",
        "data_set_test=data_set_test.drop('document type',axis=1)"
      ],
      "id": "RGZpTcYqqHuz",
      "execution_count": 1175,
      "outputs": []
    },
    {
      "cell_type": "code",
      "metadata": {
        "id": "xu09To6DzgeK"
      },
      "source": [
        "X_train = X_train.drop('doc_id',axis=1)\n",
        "X_val = X_val.drop('doc_id',axis=1)\n",
        "X_test = X_test.drop('doc_id',axis=1)\n",
        "data_set_test=data_set_test.drop('doc_id',axis=1)"
      ],
      "id": "xu09To6DzgeK",
      "execution_count": 1176,
      "outputs": []
    },
    {
      "cell_type": "code",
      "metadata": {
        "colab": {
          "base_uri": "https://localhost:8080/",
          "height": 437
        },
        "id": "p_GMJtKe11JH",
        "outputId": "4f73312c-2265-4fbc-f9fe-debb1e0804dc"
      },
      "source": [
        "X_train"
      ],
      "id": "p_GMJtKe11JH",
      "execution_count": 1177,
      "outputs": [
        {
          "output_type": "execute_result",
          "data": {
            "text/html": [
              "<div>\n",
              "<style scoped>\n",
              "    .dataframe tbody tr th:only-of-type {\n",
              "        vertical-align: middle;\n",
              "    }\n",
              "\n",
              "    .dataframe tbody tr th {\n",
              "        vertical-align: top;\n",
              "    }\n",
              "\n",
              "    .dataframe thead th {\n",
              "        text-align: right;\n",
              "    }\n",
              "</style>\n",
              "<table border=\"1\" class=\"dataframe\">\n",
              "  <thead>\n",
              "    <tr style=\"text-align: right;\">\n",
              "      <th></th>\n",
              "      <th>business_code</th>\n",
              "      <th>cust_number</th>\n",
              "      <th>name_customer</th>\n",
              "      <th>total_open_amount</th>\n",
              "      <th>cust_payment_terms</th>\n",
              "      <th>post_month</th>\n",
              "      <th>post_day</th>\n",
              "      <th>post_year_weeksdays</th>\n",
              "      <th>document_create_day</th>\n",
              "      <th>document_create_weeksdays</th>\n",
              "      <th>baseline_create_date_year</th>\n",
              "    </tr>\n",
              "  </thead>\n",
              "  <tbody>\n",
              "    <tr>\n",
              "      <th>20743</th>\n",
              "      <td>1</td>\n",
              "      <td>200769623.0</td>\n",
              "      <td>3323</td>\n",
              "      <td>4.368815</td>\n",
              "      <td>31</td>\n",
              "      <td>12</td>\n",
              "      <td>30</td>\n",
              "      <td>6</td>\n",
              "      <td>29</td>\n",
              "      <td>5</td>\n",
              "      <td>0</td>\n",
              "    </tr>\n",
              "    <tr>\n",
              "      <th>15202</th>\n",
              "      <td>1</td>\n",
              "      <td>200726979.0</td>\n",
              "      <td>366</td>\n",
              "      <td>5.521021</td>\n",
              "      <td>18</td>\n",
              "      <td>12</td>\n",
              "      <td>30</td>\n",
              "      <td>6</td>\n",
              "      <td>29</td>\n",
              "      <td>5</td>\n",
              "      <td>0</td>\n",
              "    </tr>\n",
              "    <tr>\n",
              "      <th>34429</th>\n",
              "      <td>0</td>\n",
              "      <td>140106408.0</td>\n",
              "      <td>3318</td>\n",
              "      <td>10.743003</td>\n",
              "      <td>5</td>\n",
              "      <td>12</td>\n",
              "      <td>30</td>\n",
              "      <td>6</td>\n",
              "      <td>30</td>\n",
              "      <td>6</td>\n",
              "      <td>0</td>\n",
              "    </tr>\n",
              "    <tr>\n",
              "      <th>40</th>\n",
              "      <td>1</td>\n",
              "      <td>200769623.0</td>\n",
              "      <td>3325</td>\n",
              "      <td>9.711942</td>\n",
              "      <td>31</td>\n",
              "      <td>12</td>\n",
              "      <td>30</td>\n",
              "      <td>6</td>\n",
              "      <td>31</td>\n",
              "      <td>0</td>\n",
              "      <td>0</td>\n",
              "    </tr>\n",
              "    <tr>\n",
              "      <th>30358</th>\n",
              "      <td>1</td>\n",
              "      <td>200769623.0</td>\n",
              "      <td>3327</td>\n",
              "      <td>9.720968</td>\n",
              "      <td>31</td>\n",
              "      <td>12</td>\n",
              "      <td>30</td>\n",
              "      <td>6</td>\n",
              "      <td>29</td>\n",
              "      <td>5</td>\n",
              "      <td>0</td>\n",
              "    </tr>\n",
              "    <tr>\n",
              "      <th>...</th>\n",
              "      <td>...</td>\n",
              "      <td>...</td>\n",
              "      <td>...</td>\n",
              "      <td>...</td>\n",
              "      <td>...</td>\n",
              "      <td>...</td>\n",
              "      <td>...</td>\n",
              "      <td>...</td>\n",
              "      <td>...</td>\n",
              "      <td>...</td>\n",
              "      <td>...</td>\n",
              "    </tr>\n",
              "    <tr>\n",
              "      <th>30705</th>\n",
              "      <td>1</td>\n",
              "      <td>200515231.0</td>\n",
              "      <td>3210</td>\n",
              "      <td>10.472938</td>\n",
              "      <td>18</td>\n",
              "      <td>11</td>\n",
              "      <td>20</td>\n",
              "      <td>2</td>\n",
              "      <td>20</td>\n",
              "      <td>2</td>\n",
              "      <td>1</td>\n",
              "    </tr>\n",
              "    <tr>\n",
              "      <th>28362</th>\n",
              "      <td>1</td>\n",
              "      <td>200759878.0</td>\n",
              "      <td>2649</td>\n",
              "      <td>11.296996</td>\n",
              "      <td>60</td>\n",
              "      <td>11</td>\n",
              "      <td>20</td>\n",
              "      <td>2</td>\n",
              "      <td>19</td>\n",
              "      <td>1</td>\n",
              "      <td>1</td>\n",
              "    </tr>\n",
              "    <tr>\n",
              "      <th>15573</th>\n",
              "      <td>1</td>\n",
              "      <td>200769623.0</td>\n",
              "      <td>3323</td>\n",
              "      <td>11.057449</td>\n",
              "      <td>31</td>\n",
              "      <td>11</td>\n",
              "      <td>20</td>\n",
              "      <td>2</td>\n",
              "      <td>19</td>\n",
              "      <td>1</td>\n",
              "      <td>1</td>\n",
              "    </tr>\n",
              "    <tr>\n",
              "      <th>15466</th>\n",
              "      <td>1</td>\n",
              "      <td>200794332.0</td>\n",
              "      <td>716</td>\n",
              "      <td>9.674961</td>\n",
              "      <td>20</td>\n",
              "      <td>11</td>\n",
              "      <td>20</td>\n",
              "      <td>2</td>\n",
              "      <td>18</td>\n",
              "      <td>0</td>\n",
              "      <td>1</td>\n",
              "    </tr>\n",
              "    <tr>\n",
              "      <th>27971</th>\n",
              "      <td>1</td>\n",
              "      <td>200762301.0</td>\n",
              "      <td>500</td>\n",
              "      <td>11.927040</td>\n",
              "      <td>23</td>\n",
              "      <td>11</td>\n",
              "      <td>20</td>\n",
              "      <td>2</td>\n",
              "      <td>19</td>\n",
              "      <td>1</td>\n",
              "      <td>1</td>\n",
              "    </tr>\n",
              "  </tbody>\n",
              "</table>\n",
              "<p>30940 rows × 11 columns</p>\n",
              "</div>"
            ],
            "text/plain": [
              "       business_code  ...  baseline_create_date_year\n",
              "20743              1  ...                          0\n",
              "15202              1  ...                          0\n",
              "34429              0  ...                          0\n",
              "40                 1  ...                          0\n",
              "30358              1  ...                          0\n",
              "...              ...  ...                        ...\n",
              "30705              1  ...                          1\n",
              "28362              1  ...                          1\n",
              "15573              1  ...                          1\n",
              "15466              1  ...                          1\n",
              "27971              1  ...                          1\n",
              "\n",
              "[30940 rows x 11 columns]"
            ]
          },
          "metadata": {
            "tags": []
          },
          "execution_count": 1177
        }
      ]
    },
    {
      "cell_type": "code",
      "metadata": {
        "id": "cAiuq11pDMmG"
      },
      "source": [
        ""
      ],
      "id": "cAiuq11pDMmG",
      "execution_count": 1177,
      "outputs": []
    },
    {
      "cell_type": "markdown",
      "metadata": {
        "id": "f4ff58c5"
      },
      "source": [
        "## Modelling"
      ],
      "id": "f4ff58c5"
    },
    {
      "cell_type": "code",
      "metadata": {
        "id": "92a59f01"
      },
      "source": [
        "from sklearn.metrics import mean_squared_error, r2_score"
      ],
      "id": "92a59f01",
      "execution_count": 1178,
      "outputs": []
    },
    {
      "cell_type": "code",
      "metadata": {
        "colab": {
          "base_uri": "https://localhost:8080/"
        },
        "id": "3eb0f1a0",
        "outputId": "374e4086-dd25-42bd-a60b-0c369ca3b7ef"
      },
      "source": [
        "from sklearn.tree import DecisionTreeRegressor\n",
        "tree_model = DecisionTreeRegressor(max_depth=5)\n",
        "tree_model.fit(X_train, y_train)"
      ],
      "id": "3eb0f1a0",
      "execution_count": 1179,
      "outputs": [
        {
          "output_type": "execute_result",
          "data": {
            "text/plain": [
              "DecisionTreeRegressor(ccp_alpha=0.0, criterion='mse', max_depth=5,\n",
              "                      max_features=None, max_leaf_nodes=None,\n",
              "                      min_impurity_decrease=0.0, min_impurity_split=None,\n",
              "                      min_samples_leaf=1, min_samples_split=2,\n",
              "                      min_weight_fraction_leaf=0.0, presort='deprecated',\n",
              "                      random_state=None, splitter='best')"
            ]
          },
          "metadata": {
            "tags": []
          },
          "execution_count": 1179
        }
      ]
    },
    {
      "cell_type": "code",
      "metadata": {
        "colab": {
          "base_uri": "https://localhost:8080/",
          "height": 417
        },
        "id": "540f53bf",
        "outputId": "9be83a9c-4aaa-4758-f88e-9db8060741e2"
      },
      "source": [
        "predicted = tree_model.predict(X_val)\n",
        "pd.DataFrame(zip(y_val, predicted), columns = ['actual', 'predicted'])"
      ],
      "id": "540f53bf",
      "execution_count": 1180,
      "outputs": [
        {
          "output_type": "execute_result",
          "data": {
            "text/html": [
              "<div>\n",
              "<style scoped>\n",
              "    .dataframe tbody tr th:only-of-type {\n",
              "        vertical-align: middle;\n",
              "    }\n",
              "\n",
              "    .dataframe tbody tr th {\n",
              "        vertical-align: top;\n",
              "    }\n",
              "\n",
              "    .dataframe thead th {\n",
              "        text-align: right;\n",
              "    }\n",
              "</style>\n",
              "<table border=\"1\" class=\"dataframe\">\n",
              "  <thead>\n",
              "    <tr style=\"text-align: right;\">\n",
              "      <th></th>\n",
              "      <th>actual</th>\n",
              "      <th>predicted</th>\n",
              "    </tr>\n",
              "  </thead>\n",
              "  <tbody>\n",
              "    <tr>\n",
              "      <th>0</th>\n",
              "      <td>0</td>\n",
              "      <td>166.000000</td>\n",
              "    </tr>\n",
              "    <tr>\n",
              "      <th>1</th>\n",
              "      <td>-3</td>\n",
              "      <td>0.340476</td>\n",
              "    </tr>\n",
              "    <tr>\n",
              "      <th>2</th>\n",
              "      <td>1</td>\n",
              "      <td>0.340476</td>\n",
              "    </tr>\n",
              "    <tr>\n",
              "      <th>3</th>\n",
              "      <td>-3</td>\n",
              "      <td>0.340476</td>\n",
              "    </tr>\n",
              "    <tr>\n",
              "      <th>4</th>\n",
              "      <td>0</td>\n",
              "      <td>-1.504762</td>\n",
              "    </tr>\n",
              "    <tr>\n",
              "      <th>...</th>\n",
              "      <td>...</td>\n",
              "      <td>...</td>\n",
              "    </tr>\n",
              "    <tr>\n",
              "      <th>5410</th>\n",
              "      <td>4</td>\n",
              "      <td>0.340476</td>\n",
              "    </tr>\n",
              "    <tr>\n",
              "      <th>5411</th>\n",
              "      <td>1</td>\n",
              "      <td>0.340476</td>\n",
              "    </tr>\n",
              "    <tr>\n",
              "      <th>5412</th>\n",
              "      <td>1</td>\n",
              "      <td>0.340476</td>\n",
              "    </tr>\n",
              "    <tr>\n",
              "      <th>5413</th>\n",
              "      <td>1</td>\n",
              "      <td>-1.504762</td>\n",
              "    </tr>\n",
              "    <tr>\n",
              "      <th>5414</th>\n",
              "      <td>2</td>\n",
              "      <td>0.340476</td>\n",
              "    </tr>\n",
              "  </tbody>\n",
              "</table>\n",
              "<p>5415 rows × 2 columns</p>\n",
              "</div>"
            ],
            "text/plain": [
              "      actual   predicted\n",
              "0          0  166.000000\n",
              "1         -3    0.340476\n",
              "2          1    0.340476\n",
              "3         -3    0.340476\n",
              "4          0   -1.504762\n",
              "...      ...         ...\n",
              "5410       4    0.340476\n",
              "5411       1    0.340476\n",
              "5412       1    0.340476\n",
              "5413       1   -1.504762\n",
              "5414       2    0.340476\n",
              "\n",
              "[5415 rows x 2 columns]"
            ]
          },
          "metadata": {
            "tags": []
          },
          "execution_count": 1180
        }
      ]
    },
    {
      "cell_type": "code",
      "metadata": {
        "colab": {
          "base_uri": "https://localhost:8080/"
        },
        "id": "9aaa83b6",
        "outputId": "e903a937-2d2e-4954-94ef-eb12827d71a2"
      },
      "source": [
        "mean_squared_error(y_val, predicted, squared=False)"
      ],
      "id": "9aaa83b6",
      "execution_count": 1181,
      "outputs": [
        {
          "output_type": "execute_result",
          "data": {
            "text/plain": [
              "30.765363155945877"
            ]
          },
          "metadata": {
            "tags": []
          },
          "execution_count": 1181
        }
      ]
    },
    {
      "cell_type": "code",
      "metadata": {
        "colab": {
          "base_uri": "https://localhost:8080/"
        },
        "id": "13665776",
        "outputId": "c67b4efd-c2b6-41ac-d4d5-7a6b7f692088"
      },
      "source": [
        "r2_score(y_val, predicted)"
      ],
      "id": "13665776",
      "execution_count": 1182,
      "outputs": [
        {
          "output_type": "execute_result",
          "data": {
            "text/plain": [
              "-14.188600981334021"
            ]
          },
          "metadata": {
            "tags": []
          },
          "execution_count": 1182
        }
      ]
    },
    {
      "cell_type": "code",
      "metadata": {
        "id": "RN0NLW25_ExP",
        "outputId": "1683da31-d0f6-487e-8070-c2598d25ce36",
        "colab": {
          "base_uri": "https://localhost:8080/"
        }
      },
      "source": [
        "tree_model.score(X_test,y_test)"
      ],
      "id": "RN0NLW25_ExP",
      "execution_count": 1183,
      "outputs": [
        {
          "output_type": "execute_result",
          "data": {
            "text/plain": [
              "-27.822999034595185"
            ]
          },
          "metadata": {
            "tags": []
          },
          "execution_count": 1183
        }
      ]
    },
    {
      "cell_type": "code",
      "metadata": {
        "colab": {
          "base_uri": "https://localhost:8080/",
          "height": 417
        },
        "id": "78819d6c",
        "outputId": "143ee223-dbb3-4af2-f9e2-cda9a3f5d81f"
      },
      "source": [
        "from sklearn.ensemble import RandomForestRegressor\n",
        "  \n",
        " # create regressor object\n",
        "regressor = RandomForestRegressor(n_estimators = 100, random_state = 0)\n",
        "  \n",
        "# fit the regressor with x and y data\n",
        "regressor.fit(X_train, y_train)  \n",
        "\n",
        "predicted = regressor.predict(X_val)\n",
        "pd.DataFrame(zip(y_val, predicted), columns = ['actual', 'predicted'])"
      ],
      "id": "78819d6c",
      "execution_count": 1184,
      "outputs": [
        {
          "output_type": "execute_result",
          "data": {
            "text/html": [
              "<div>\n",
              "<style scoped>\n",
              "    .dataframe tbody tr th:only-of-type {\n",
              "        vertical-align: middle;\n",
              "    }\n",
              "\n",
              "    .dataframe tbody tr th {\n",
              "        vertical-align: top;\n",
              "    }\n",
              "\n",
              "    .dataframe thead th {\n",
              "        text-align: right;\n",
              "    }\n",
              "</style>\n",
              "<table border=\"1\" class=\"dataframe\">\n",
              "  <thead>\n",
              "    <tr style=\"text-align: right;\">\n",
              "      <th></th>\n",
              "      <th>actual</th>\n",
              "      <th>predicted</th>\n",
              "    </tr>\n",
              "  </thead>\n",
              "  <tbody>\n",
              "    <tr>\n",
              "      <th>0</th>\n",
              "      <td>0</td>\n",
              "      <td>260.93</td>\n",
              "    </tr>\n",
              "    <tr>\n",
              "      <th>1</th>\n",
              "      <td>-3</td>\n",
              "      <td>2.36</td>\n",
              "    </tr>\n",
              "    <tr>\n",
              "      <th>2</th>\n",
              "      <td>1</td>\n",
              "      <td>-3.40</td>\n",
              "    </tr>\n",
              "    <tr>\n",
              "      <th>3</th>\n",
              "      <td>-3</td>\n",
              "      <td>2.36</td>\n",
              "    </tr>\n",
              "    <tr>\n",
              "      <th>4</th>\n",
              "      <td>0</td>\n",
              "      <td>-3.42</td>\n",
              "    </tr>\n",
              "    <tr>\n",
              "      <th>...</th>\n",
              "      <td>...</td>\n",
              "      <td>...</td>\n",
              "    </tr>\n",
              "    <tr>\n",
              "      <th>5410</th>\n",
              "      <td>4</td>\n",
              "      <td>0.86</td>\n",
              "    </tr>\n",
              "    <tr>\n",
              "      <th>5411</th>\n",
              "      <td>1</td>\n",
              "      <td>1.28</td>\n",
              "    </tr>\n",
              "    <tr>\n",
              "      <th>5412</th>\n",
              "      <td>1</td>\n",
              "      <td>1.04</td>\n",
              "    </tr>\n",
              "    <tr>\n",
              "      <th>5413</th>\n",
              "      <td>1</td>\n",
              "      <td>2.58</td>\n",
              "    </tr>\n",
              "    <tr>\n",
              "      <th>5414</th>\n",
              "      <td>2</td>\n",
              "      <td>1.06</td>\n",
              "    </tr>\n",
              "  </tbody>\n",
              "</table>\n",
              "<p>5415 rows × 2 columns</p>\n",
              "</div>"
            ],
            "text/plain": [
              "      actual  predicted\n",
              "0          0     260.93\n",
              "1         -3       2.36\n",
              "2          1      -3.40\n",
              "3         -3       2.36\n",
              "4          0      -3.42\n",
              "...      ...        ...\n",
              "5410       4       0.86\n",
              "5411       1       1.28\n",
              "5412       1       1.04\n",
              "5413       1       2.58\n",
              "5414       2       1.06\n",
              "\n",
              "[5415 rows x 2 columns]"
            ]
          },
          "metadata": {
            "tags": []
          },
          "execution_count": 1184
        }
      ]
    },
    {
      "cell_type": "code",
      "metadata": {
        "colab": {
          "base_uri": "https://localhost:8080/"
        },
        "id": "62d6857e",
        "outputId": "eb470996-7568-4d10-ba2b-2f60df3ec68b"
      },
      "source": [
        "mean_squared_error(y_val, predicted, squared=False)"
      ],
      "id": "62d6857e",
      "execution_count": 1185,
      "outputs": [
        {
          "output_type": "execute_result",
          "data": {
            "text/plain": [
              "54.87097385251647"
            ]
          },
          "metadata": {
            "tags": []
          },
          "execution_count": 1185
        }
      ]
    },
    {
      "cell_type": "markdown",
      "metadata": {
        "id": "447b388f"
      },
      "source": [
        "## Bucketization"
      ],
      "id": "447b388f"
    },
    {
      "cell_type": "code",
      "metadata": {
        "id": "310e66d8"
      },
      "source": [
        "def bucketization(x):\n",
        "    if x<=0:\n",
        "        return('(< 0) Days')\n",
        "    if x>0 and x<=15:\n",
        "        return('(0-15) Days')\n",
        "    elif x>15 and x<=30:\n",
        "        return('(16-30) Days')\n",
        "    elif x>30 and x<=45:\n",
        "        return('(31-45) Days')\n",
        "    elif x>45 and x<=60:\n",
        "        return('(45-60) Days')\n",
        "    else:\n",
        "        return('(> 60) Days')"
      ],
      "id": "310e66d8",
      "execution_count": 1186,
      "outputs": []
    },
    {
      "cell_type": "code",
      "metadata": {
        "id": "a86b1bd6"
      },
      "source": [
        "m = pd.Series([bucketization(x=predicted[i])  for i in range(len(predicted))])\n",
        "\n",
        "bucket_mapper = {'(< 0) Days':0,'(0-15) Days':1 ,'(16-30) Days':2,'(31-45) Days':4,'(45-60) Days':5,'(> 60) Days':6}\n",
        "\n",
        "m = m.map(bucket_mapper)\n",
        "\n",
        "m.to_frame()\n",
        "a1 = m.tail(20)"
      ],
      "id": "a86b1bd6",
      "execution_count": 1187,
      "outputs": []
    },
    {
      "cell_type": "code",
      "metadata": {
        "id": "eee8de34"
      },
      "source": [
        "xy = y_test"
      ],
      "id": "eee8de34",
      "execution_count": 1188,
      "outputs": []
    },
    {
      "cell_type": "code",
      "metadata": {
        "id": "cf98254c"
      },
      "source": [
        "xy= xy.reset_index(drop=True)\n",
        "m = pd.Series([bucketization(x=xy[i])  for i in range(len(xy))])\n",
        "\n",
        "bucket_mapper = {'(< 0) Days':0,'(0-15) Days':1,'(16-30) Days':2,'(31-45) Days':4,'(45-60) Days':5,'(> 60) Days':6}\n",
        "\n",
        "m = m.map(bucket_mapper)\n",
        "\n",
        "m.to_frame()\n",
        "a2 = m.tail(20)"
      ],
      "id": "cf98254c",
      "execution_count": 1189,
      "outputs": []
    },
    {
      "cell_type": "code",
      "metadata": {
        "colab": {
          "base_uri": "https://localhost:8080/",
          "height": 665
        },
        "id": "8a2d40be",
        "outputId": "7a4dc7bd-c3f4-4374-83d2-f628269fe14e"
      },
      "source": [
        "pd.DataFrame(zip(a1, a2), columns = ['actual - Bucket', 'predicted - Bucket'])"
      ],
      "id": "8a2d40be",
      "execution_count": 1190,
      "outputs": [
        {
          "output_type": "execute_result",
          "data": {
            "text/html": [
              "<div>\n",
              "<style scoped>\n",
              "    .dataframe tbody tr th:only-of-type {\n",
              "        vertical-align: middle;\n",
              "    }\n",
              "\n",
              "    .dataframe tbody tr th {\n",
              "        vertical-align: top;\n",
              "    }\n",
              "\n",
              "    .dataframe thead th {\n",
              "        text-align: right;\n",
              "    }\n",
              "</style>\n",
              "<table border=\"1\" class=\"dataframe\">\n",
              "  <thead>\n",
              "    <tr style=\"text-align: right;\">\n",
              "      <th></th>\n",
              "      <th>actual - Bucket</th>\n",
              "      <th>predicted - Bucket</th>\n",
              "    </tr>\n",
              "  </thead>\n",
              "  <tbody>\n",
              "    <tr>\n",
              "      <th>0</th>\n",
              "      <td>0</td>\n",
              "      <td>1</td>\n",
              "    </tr>\n",
              "    <tr>\n",
              "      <th>1</th>\n",
              "      <td>1</td>\n",
              "      <td>0</td>\n",
              "    </tr>\n",
              "    <tr>\n",
              "      <th>2</th>\n",
              "      <td>1</td>\n",
              "      <td>0</td>\n",
              "    </tr>\n",
              "    <tr>\n",
              "      <th>3</th>\n",
              "      <td>4</td>\n",
              "      <td>6</td>\n",
              "    </tr>\n",
              "    <tr>\n",
              "      <th>4</th>\n",
              "      <td>1</td>\n",
              "      <td>0</td>\n",
              "    </tr>\n",
              "    <tr>\n",
              "      <th>5</th>\n",
              "      <td>0</td>\n",
              "      <td>0</td>\n",
              "    </tr>\n",
              "    <tr>\n",
              "      <th>6</th>\n",
              "      <td>1</td>\n",
              "      <td>1</td>\n",
              "    </tr>\n",
              "    <tr>\n",
              "      <th>7</th>\n",
              "      <td>1</td>\n",
              "      <td>1</td>\n",
              "    </tr>\n",
              "    <tr>\n",
              "      <th>8</th>\n",
              "      <td>1</td>\n",
              "      <td>0</td>\n",
              "    </tr>\n",
              "    <tr>\n",
              "      <th>9</th>\n",
              "      <td>1</td>\n",
              "      <td>1</td>\n",
              "    </tr>\n",
              "    <tr>\n",
              "      <th>10</th>\n",
              "      <td>0</td>\n",
              "      <td>1</td>\n",
              "    </tr>\n",
              "    <tr>\n",
              "      <th>11</th>\n",
              "      <td>1</td>\n",
              "      <td>1</td>\n",
              "    </tr>\n",
              "    <tr>\n",
              "      <th>12</th>\n",
              "      <td>1</td>\n",
              "      <td>0</td>\n",
              "    </tr>\n",
              "    <tr>\n",
              "      <th>13</th>\n",
              "      <td>1</td>\n",
              "      <td>0</td>\n",
              "    </tr>\n",
              "    <tr>\n",
              "      <th>14</th>\n",
              "      <td>1</td>\n",
              "      <td>0</td>\n",
              "    </tr>\n",
              "    <tr>\n",
              "      <th>15</th>\n",
              "      <td>1</td>\n",
              "      <td>0</td>\n",
              "    </tr>\n",
              "    <tr>\n",
              "      <th>16</th>\n",
              "      <td>1</td>\n",
              "      <td>1</td>\n",
              "    </tr>\n",
              "    <tr>\n",
              "      <th>17</th>\n",
              "      <td>1</td>\n",
              "      <td>1</td>\n",
              "    </tr>\n",
              "    <tr>\n",
              "      <th>18</th>\n",
              "      <td>1</td>\n",
              "      <td>0</td>\n",
              "    </tr>\n",
              "    <tr>\n",
              "      <th>19</th>\n",
              "      <td>1</td>\n",
              "      <td>0</td>\n",
              "    </tr>\n",
              "  </tbody>\n",
              "</table>\n",
              "</div>"
            ],
            "text/plain": [
              "    actual - Bucket  predicted - Bucket\n",
              "0                 0                   1\n",
              "1                 1                   0\n",
              "2                 1                   0\n",
              "3                 4                   6\n",
              "4                 1                   0\n",
              "5                 0                   0\n",
              "6                 1                   1\n",
              "7                 1                   1\n",
              "8                 1                   0\n",
              "9                 1                   1\n",
              "10                0                   1\n",
              "11                1                   1\n",
              "12                1                   0\n",
              "13                1                   0\n",
              "14                1                   0\n",
              "15                1                   0\n",
              "16                1                   1\n",
              "17                1                   1\n",
              "18                1                   0\n",
              "19                1                   0"
            ]
          },
          "metadata": {
            "tags": []
          },
          "execution_count": 1190
        }
      ]
    },
    {
      "cell_type": "markdown",
      "metadata": {
        "id": "a22a6d4b"
      },
      "source": [
        "## Working on Main Test Dataset"
      ],
      "id": "a22a6d4b"
    },
    {
      "cell_type": "code",
      "metadata": {
        "colab": {
          "base_uri": "https://localhost:8080/",
          "height": 437
        },
        "id": "905c5f8b",
        "outputId": "6f186f0c-8c4a-473f-9519-8035af009304"
      },
      "source": [
        "data_set_test"
      ],
      "id": "905c5f8b",
      "execution_count": 1191,
      "outputs": [
        {
          "output_type": "execute_result",
          "data": {
            "text/html": [
              "<div>\n",
              "<style scoped>\n",
              "    .dataframe tbody tr th:only-of-type {\n",
              "        vertical-align: middle;\n",
              "    }\n",
              "\n",
              "    .dataframe tbody tr th {\n",
              "        vertical-align: top;\n",
              "    }\n",
              "\n",
              "    .dataframe thead th {\n",
              "        text-align: right;\n",
              "    }\n",
              "</style>\n",
              "<table border=\"1\" class=\"dataframe\">\n",
              "  <thead>\n",
              "    <tr style=\"text-align: right;\">\n",
              "      <th></th>\n",
              "      <th>business_code</th>\n",
              "      <th>cust_number</th>\n",
              "      <th>name_customer</th>\n",
              "      <th>total_open_amount</th>\n",
              "      <th>cust_payment_terms</th>\n",
              "      <th>target</th>\n",
              "      <th>post_month</th>\n",
              "      <th>post_day</th>\n",
              "      <th>post_year_weeksdays</th>\n",
              "      <th>document_create_day</th>\n",
              "      <th>document_create_weeksdays</th>\n",
              "      <th>baseline_create_date_year</th>\n",
              "    </tr>\n",
              "  </thead>\n",
              "  <tbody>\n",
              "    <tr>\n",
              "      <th>43034</th>\n",
              "      <td>1</td>\n",
              "      <td>0200743996</td>\n",
              "      <td>1473</td>\n",
              "      <td>86049.420000</td>\n",
              "      <td>14</td>\n",
              "      <td>NaN</td>\n",
              "      <td>2</td>\n",
              "      <td>27</td>\n",
              "      <td>3</td>\n",
              "      <td>26</td>\n",
              "      <td>2</td>\n",
              "      <td>0</td>\n",
              "    </tr>\n",
              "    <tr>\n",
              "      <th>28528</th>\n",
              "      <td>1</td>\n",
              "      <td>0200762950</td>\n",
              "      <td>690</td>\n",
              "      <td>45113.380000</td>\n",
              "      <td>14</td>\n",
              "      <td>NaN</td>\n",
              "      <td>2</td>\n",
              "      <td>27</td>\n",
              "      <td>3</td>\n",
              "      <td>27</td>\n",
              "      <td>3</td>\n",
              "      <td>0</td>\n",
              "    </tr>\n",
              "    <tr>\n",
              "      <th>6783</th>\n",
              "      <td>1</td>\n",
              "      <td>0200769623</td>\n",
              "      <td>1698</td>\n",
              "      <td>1085.080000</td>\n",
              "      <td>29</td>\n",
              "      <td>NaN</td>\n",
              "      <td>2</td>\n",
              "      <td>27</td>\n",
              "      <td>3</td>\n",
              "      <td>27</td>\n",
              "      <td>3</td>\n",
              "      <td>0</td>\n",
              "    </tr>\n",
              "    <tr>\n",
              "      <th>32555</th>\n",
              "      <td>1</td>\n",
              "      <td>0200759878</td>\n",
              "      <td>1323</td>\n",
              "      <td>29965.660000</td>\n",
              "      <td>29</td>\n",
              "      <td>NaN</td>\n",
              "      <td>2</td>\n",
              "      <td>27</td>\n",
              "      <td>3</td>\n",
              "      <td>26</td>\n",
              "      <td>2</td>\n",
              "      <td>0</td>\n",
              "    </tr>\n",
              "    <tr>\n",
              "      <th>14577</th>\n",
              "      <td>1</td>\n",
              "      <td>0200705742</td>\n",
              "      <td>464</td>\n",
              "      <td>14465.240000</td>\n",
              "      <td>8</td>\n",
              "      <td>NaN</td>\n",
              "      <td>2</td>\n",
              "      <td>27</td>\n",
              "      <td>3</td>\n",
              "      <td>27</td>\n",
              "      <td>3</td>\n",
              "      <td>0</td>\n",
              "    </tr>\n",
              "    <tr>\n",
              "      <th>...</th>\n",
              "      <td>...</td>\n",
              "      <td>...</td>\n",
              "      <td>...</td>\n",
              "      <td>...</td>\n",
              "      <td>...</td>\n",
              "      <td>...</td>\n",
              "      <td>...</td>\n",
              "      <td>...</td>\n",
              "      <td>...</td>\n",
              "      <td>...</td>\n",
              "      <td>...</td>\n",
              "      <td>...</td>\n",
              "    </tr>\n",
              "    <tr>\n",
              "      <th>14979</th>\n",
              "      <td>0</td>\n",
              "      <td>100012991</td>\n",
              "      <td>298</td>\n",
              "      <td>1787.924988</td>\n",
              "      <td>2</td>\n",
              "      <td>NaN</td>\n",
              "      <td>5</td>\n",
              "      <td>14</td>\n",
              "      <td>3</td>\n",
              "      <td>14</td>\n",
              "      <td>3</td>\n",
              "      <td>0</td>\n",
              "    </tr>\n",
              "    <tr>\n",
              "      <th>24912</th>\n",
              "      <td>1</td>\n",
              "      <td>0200457993</td>\n",
              "      <td>1369</td>\n",
              "      <td>19798.670000</td>\n",
              "      <td>14</td>\n",
              "      <td>NaN</td>\n",
              "      <td>5</td>\n",
              "      <td>15</td>\n",
              "      <td>4</td>\n",
              "      <td>14</td>\n",
              "      <td>3</td>\n",
              "      <td>0</td>\n",
              "    </tr>\n",
              "    <tr>\n",
              "      <th>49752</th>\n",
              "      <td>1</td>\n",
              "      <td>0200915438</td>\n",
              "      <td>655</td>\n",
              "      <td>9144.000000</td>\n",
              "      <td>14</td>\n",
              "      <td>NaN</td>\n",
              "      <td>5</td>\n",
              "      <td>15</td>\n",
              "      <td>4</td>\n",
              "      <td>8</td>\n",
              "      <td>4</td>\n",
              "      <td>0</td>\n",
              "    </tr>\n",
              "    <tr>\n",
              "      <th>33905</th>\n",
              "      <td>1</td>\n",
              "      <td>200765011</td>\n",
              "      <td>970</td>\n",
              "      <td>16099.200000</td>\n",
              "      <td>14</td>\n",
              "      <td>NaN</td>\n",
              "      <td>5</td>\n",
              "      <td>18</td>\n",
              "      <td>0</td>\n",
              "      <td>18</td>\n",
              "      <td>0</td>\n",
              "      <td>0</td>\n",
              "    </tr>\n",
              "    <tr>\n",
              "      <th>16309</th>\n",
              "      <td>1</td>\n",
              "      <td>200956366</td>\n",
              "      <td>1298</td>\n",
              "      <td>41540.400000</td>\n",
              "      <td>14</td>\n",
              "      <td>NaN</td>\n",
              "      <td>5</td>\n",
              "      <td>18</td>\n",
              "      <td>0</td>\n",
              "      <td>14</td>\n",
              "      <td>3</td>\n",
              "      <td>0</td>\n",
              "    </tr>\n",
              "  </tbody>\n",
              "</table>\n",
              "<p>10000 rows × 12 columns</p>\n",
              "</div>"
            ],
            "text/plain": [
              "       business_code  ... baseline_create_date_year\n",
              "43034              1  ...                         0\n",
              "28528              1  ...                         0\n",
              "6783               1  ...                         0\n",
              "32555              1  ...                         0\n",
              "14577              1  ...                         0\n",
              "...              ...  ...                       ...\n",
              "14979              0  ...                         0\n",
              "24912              1  ...                         0\n",
              "49752              1  ...                         0\n",
              "33905              1  ...                         0\n",
              "16309              1  ...                         0\n",
              "\n",
              "[10000 rows x 12 columns]"
            ]
          },
          "metadata": {
            "tags": []
          },
          "execution_count": 1191
        }
      ]
    },
    {
      "cell_type": "code",
      "metadata": {
        "id": "69be6423"
      },
      "source": [
        "data_set_test['cust_number'] = pd.to_numeric(data_set_test['cust_number'],errors='coerce') # invalid parsing will be set as NaN\n",
        "data_set_test=data_set_test.dropna(subset=['cust_number'],axis=0)"
      ],
      "id": "69be6423",
      "execution_count": 1192,
      "outputs": []
    },
    {
      "cell_type": "code",
      "metadata": {
        "colab": {
          "base_uri": "https://localhost:8080/"
        },
        "id": "8cc935f1",
        "outputId": "5fb68da2-43bd-41ab-aea9-23cf60844ac6"
      },
      "source": [
        "X2 = data_set_test.drop('target',axis=1)\n",
        "y2= data_set_test['target']\n",
        "X2.shape"
      ],
      "id": "8cc935f1",
      "execution_count": 1193,
      "outputs": [
        {
          "output_type": "execute_result",
          "data": {
            "text/plain": [
              "(9869, 11)"
            ]
          },
          "metadata": {
            "tags": []
          },
          "execution_count": 1193
        }
      ]
    },
    {
      "cell_type": "code",
      "metadata": {
        "colab": {
          "base_uri": "https://localhost:8080/",
          "height": 437
        },
        "id": "e0289b2d",
        "outputId": "458e89ef-911c-4f42-85e0-3cc0b0d17152"
      },
      "source": [
        "X2"
      ],
      "id": "e0289b2d",
      "execution_count": 1194,
      "outputs": [
        {
          "output_type": "execute_result",
          "data": {
            "text/html": [
              "<div>\n",
              "<style scoped>\n",
              "    .dataframe tbody tr th:only-of-type {\n",
              "        vertical-align: middle;\n",
              "    }\n",
              "\n",
              "    .dataframe tbody tr th {\n",
              "        vertical-align: top;\n",
              "    }\n",
              "\n",
              "    .dataframe thead th {\n",
              "        text-align: right;\n",
              "    }\n",
              "</style>\n",
              "<table border=\"1\" class=\"dataframe\">\n",
              "  <thead>\n",
              "    <tr style=\"text-align: right;\">\n",
              "      <th></th>\n",
              "      <th>business_code</th>\n",
              "      <th>cust_number</th>\n",
              "      <th>name_customer</th>\n",
              "      <th>total_open_amount</th>\n",
              "      <th>cust_payment_terms</th>\n",
              "      <th>post_month</th>\n",
              "      <th>post_day</th>\n",
              "      <th>post_year_weeksdays</th>\n",
              "      <th>document_create_day</th>\n",
              "      <th>document_create_weeksdays</th>\n",
              "      <th>baseline_create_date_year</th>\n",
              "    </tr>\n",
              "  </thead>\n",
              "  <tbody>\n",
              "    <tr>\n",
              "      <th>43034</th>\n",
              "      <td>1</td>\n",
              "      <td>200743996.0</td>\n",
              "      <td>1473</td>\n",
              "      <td>86049.420000</td>\n",
              "      <td>14</td>\n",
              "      <td>2</td>\n",
              "      <td>27</td>\n",
              "      <td>3</td>\n",
              "      <td>26</td>\n",
              "      <td>2</td>\n",
              "      <td>0</td>\n",
              "    </tr>\n",
              "    <tr>\n",
              "      <th>28528</th>\n",
              "      <td>1</td>\n",
              "      <td>200762950.0</td>\n",
              "      <td>690</td>\n",
              "      <td>45113.380000</td>\n",
              "      <td>14</td>\n",
              "      <td>2</td>\n",
              "      <td>27</td>\n",
              "      <td>3</td>\n",
              "      <td>27</td>\n",
              "      <td>3</td>\n",
              "      <td>0</td>\n",
              "    </tr>\n",
              "    <tr>\n",
              "      <th>6783</th>\n",
              "      <td>1</td>\n",
              "      <td>200769623.0</td>\n",
              "      <td>1698</td>\n",
              "      <td>1085.080000</td>\n",
              "      <td>29</td>\n",
              "      <td>2</td>\n",
              "      <td>27</td>\n",
              "      <td>3</td>\n",
              "      <td>27</td>\n",
              "      <td>3</td>\n",
              "      <td>0</td>\n",
              "    </tr>\n",
              "    <tr>\n",
              "      <th>32555</th>\n",
              "      <td>1</td>\n",
              "      <td>200759878.0</td>\n",
              "      <td>1323</td>\n",
              "      <td>29965.660000</td>\n",
              "      <td>29</td>\n",
              "      <td>2</td>\n",
              "      <td>27</td>\n",
              "      <td>3</td>\n",
              "      <td>26</td>\n",
              "      <td>2</td>\n",
              "      <td>0</td>\n",
              "    </tr>\n",
              "    <tr>\n",
              "      <th>14577</th>\n",
              "      <td>1</td>\n",
              "      <td>200705742.0</td>\n",
              "      <td>464</td>\n",
              "      <td>14465.240000</td>\n",
              "      <td>8</td>\n",
              "      <td>2</td>\n",
              "      <td>27</td>\n",
              "      <td>3</td>\n",
              "      <td>27</td>\n",
              "      <td>3</td>\n",
              "      <td>0</td>\n",
              "    </tr>\n",
              "    <tr>\n",
              "      <th>...</th>\n",
              "      <td>...</td>\n",
              "      <td>...</td>\n",
              "      <td>...</td>\n",
              "      <td>...</td>\n",
              "      <td>...</td>\n",
              "      <td>...</td>\n",
              "      <td>...</td>\n",
              "      <td>...</td>\n",
              "      <td>...</td>\n",
              "      <td>...</td>\n",
              "      <td>...</td>\n",
              "    </tr>\n",
              "    <tr>\n",
              "      <th>14979</th>\n",
              "      <td>0</td>\n",
              "      <td>100012991.0</td>\n",
              "      <td>298</td>\n",
              "      <td>1787.924988</td>\n",
              "      <td>2</td>\n",
              "      <td>5</td>\n",
              "      <td>14</td>\n",
              "      <td>3</td>\n",
              "      <td>14</td>\n",
              "      <td>3</td>\n",
              "      <td>0</td>\n",
              "    </tr>\n",
              "    <tr>\n",
              "      <th>24912</th>\n",
              "      <td>1</td>\n",
              "      <td>200457993.0</td>\n",
              "      <td>1369</td>\n",
              "      <td>19798.670000</td>\n",
              "      <td>14</td>\n",
              "      <td>5</td>\n",
              "      <td>15</td>\n",
              "      <td>4</td>\n",
              "      <td>14</td>\n",
              "      <td>3</td>\n",
              "      <td>0</td>\n",
              "    </tr>\n",
              "    <tr>\n",
              "      <th>49752</th>\n",
              "      <td>1</td>\n",
              "      <td>200915438.0</td>\n",
              "      <td>655</td>\n",
              "      <td>9144.000000</td>\n",
              "      <td>14</td>\n",
              "      <td>5</td>\n",
              "      <td>15</td>\n",
              "      <td>4</td>\n",
              "      <td>8</td>\n",
              "      <td>4</td>\n",
              "      <td>0</td>\n",
              "    </tr>\n",
              "    <tr>\n",
              "      <th>33905</th>\n",
              "      <td>1</td>\n",
              "      <td>200765011.0</td>\n",
              "      <td>970</td>\n",
              "      <td>16099.200000</td>\n",
              "      <td>14</td>\n",
              "      <td>5</td>\n",
              "      <td>18</td>\n",
              "      <td>0</td>\n",
              "      <td>18</td>\n",
              "      <td>0</td>\n",
              "      <td>0</td>\n",
              "    </tr>\n",
              "    <tr>\n",
              "      <th>16309</th>\n",
              "      <td>1</td>\n",
              "      <td>200956366.0</td>\n",
              "      <td>1298</td>\n",
              "      <td>41540.400000</td>\n",
              "      <td>14</td>\n",
              "      <td>5</td>\n",
              "      <td>18</td>\n",
              "      <td>0</td>\n",
              "      <td>14</td>\n",
              "      <td>3</td>\n",
              "      <td>0</td>\n",
              "    </tr>\n",
              "  </tbody>\n",
              "</table>\n",
              "<p>9869 rows × 11 columns</p>\n",
              "</div>"
            ],
            "text/plain": [
              "       business_code  ...  baseline_create_date_year\n",
              "43034              1  ...                          0\n",
              "28528              1  ...                          0\n",
              "6783               1  ...                          0\n",
              "32555              1  ...                          0\n",
              "14577              1  ...                          0\n",
              "...              ...  ...                        ...\n",
              "14979              0  ...                          0\n",
              "24912              1  ...                          0\n",
              "49752              1  ...                          0\n",
              "33905              1  ...                          0\n",
              "16309              1  ...                          0\n",
              "\n",
              "[9869 rows x 11 columns]"
            ]
          },
          "metadata": {
            "tags": []
          },
          "execution_count": 1194
        }
      ]
    },
    {
      "cell_type": "code",
      "metadata": {
        "colab": {
          "base_uri": "https://localhost:8080/"
        },
        "id": "fd95dc92",
        "outputId": "ae5c460a-15e4-47e7-e7a4-14b4c2eb0533"
      },
      "source": [
        "data_set_test.shape"
      ],
      "id": "fd95dc92",
      "execution_count": 1195,
      "outputs": [
        {
          "output_type": "execute_result",
          "data": {
            "text/plain": [
              "(9869, 12)"
            ]
          },
          "metadata": {
            "tags": []
          },
          "execution_count": 1195
        }
      ]
    },
    {
      "cell_type": "code",
      "metadata": {
        "colab": {
          "base_uri": "https://localhost:8080/"
        },
        "id": "c377b187",
        "outputId": "2be25ce9-5d81-424d-c586-6e4e976a8620"
      },
      "source": [
        "\n",
        "predicted = regressor.predict(X2)\n",
        "predicted"
      ],
      "id": "c377b187",
      "execution_count": 1196,
      "outputs": [
        {
          "output_type": "execute_result",
          "data": {
            "text/plain": [
              "array([ 0.72,  1.11, -3.72, ...,  4.98,  2.93,  2.62])"
            ]
          },
          "metadata": {
            "tags": []
          },
          "execution_count": 1196
        }
      ]
    },
    {
      "cell_type": "code",
      "metadata": {
        "colab": {
          "base_uri": "https://localhost:8080/"
        },
        "id": "31e20555",
        "outputId": "0b566891-94bc-487e-d4bb-4cc2879665ed"
      },
      "source": [
        "#bucketization\n",
        "l1= pd.Series([bucketization(x=predicted[i])  for i in range(len(predicted))])\n",
        "\n",
        "bucket_mapper = {'(< 0) Days':0,'(0-15) Days':1,'(16-30) Days':2,'(31-45) Days':4,'(45-60) Days':5,'(> 60) Days':6}\n",
        "\n",
        "D1 = l1.map(bucket_mapper)\n",
        "\n",
        "l1"
      ],
      "id": "31e20555",
      "execution_count": 1197,
      "outputs": [
        {
          "output_type": "execute_result",
          "data": {
            "text/plain": [
              "0       (0-15) Days\n",
              "1       (0-15) Days\n",
              "2        (< 0) Days\n",
              "3        (< 0) Days\n",
              "4       (0-15) Days\n",
              "           ...     \n",
              "9864    (> 60) Days\n",
              "9865    (0-15) Days\n",
              "9866    (0-15) Days\n",
              "9867    (0-15) Days\n",
              "9868    (0-15) Days\n",
              "Length: 9869, dtype: object"
            ]
          },
          "metadata": {
            "tags": []
          },
          "execution_count": 1197
        }
      ]
    },
    {
      "cell_type": "code",
      "metadata": {
        "id": "bb800dd8"
      },
      "source": [
        "main_data['cust_number'] = pd.to_numeric(main_data['cust_number'],errors='coerce') # invalid parsing will be set as NaN\n",
        "main_data=main_data.dropna(subset=['cust_number'],axis=0)"
      ],
      "id": "bb800dd8",
      "execution_count": 1198,
      "outputs": []
    },
    {
      "cell_type": "code",
      "metadata": {
        "colab": {
          "base_uri": "https://localhost:8080/",
          "height": 504
        },
        "id": "2294dffb",
        "outputId": "155d80da-41e7-4fcd-8b46-3d9bac219a2d"
      },
      "source": [
        "main_data"
      ],
      "id": "2294dffb",
      "execution_count": 1199,
      "outputs": [
        {
          "output_type": "execute_result",
          "data": {
            "text/html": [
              "<div>\n",
              "<style scoped>\n",
              "    .dataframe tbody tr th:only-of-type {\n",
              "        vertical-align: middle;\n",
              "    }\n",
              "\n",
              "    .dataframe tbody tr th {\n",
              "        vertical-align: top;\n",
              "    }\n",
              "\n",
              "    .dataframe thead th {\n",
              "        text-align: right;\n",
              "    }\n",
              "</style>\n",
              "<table border=\"1\" class=\"dataframe\">\n",
              "  <thead>\n",
              "    <tr style=\"text-align: right;\">\n",
              "      <th></th>\n",
              "      <th>business_code</th>\n",
              "      <th>cust_number</th>\n",
              "      <th>name_customer</th>\n",
              "      <th>clear_date</th>\n",
              "      <th>buisness_year</th>\n",
              "      <th>doc_id</th>\n",
              "      <th>posting_date</th>\n",
              "      <th>document_create_date</th>\n",
              "      <th>document_create_date.1</th>\n",
              "      <th>due_in_date</th>\n",
              "      <th>invoice_currency</th>\n",
              "      <th>document type</th>\n",
              "      <th>posting_id</th>\n",
              "      <th>area_business</th>\n",
              "      <th>total_open_amount</th>\n",
              "      <th>baseline_create_date</th>\n",
              "      <th>cust_payment_terms</th>\n",
              "      <th>invoice_id</th>\n",
              "      <th>isOpen</th>\n",
              "    </tr>\n",
              "  </thead>\n",
              "  <tbody>\n",
              "    <tr>\n",
              "      <th>7</th>\n",
              "      <td>U001</td>\n",
              "      <td>200468954.0</td>\n",
              "      <td>SKID us</td>\n",
              "      <td>NaN</td>\n",
              "      <td>2020.0</td>\n",
              "      <td>1.930838e+09</td>\n",
              "      <td>2020-04-29</td>\n",
              "      <td>20200429</td>\n",
              "      <td>20200429</td>\n",
              "      <td>20200514.0</td>\n",
              "      <td>USD</td>\n",
              "      <td>RV</td>\n",
              "      <td>1.0</td>\n",
              "      <td>NaN</td>\n",
              "      <td>78312.23</td>\n",
              "      <td>20200429.0</td>\n",
              "      <td>NAA8</td>\n",
              "      <td>1.930838e+09</td>\n",
              "      <td>1</td>\n",
              "    </tr>\n",
              "    <tr>\n",
              "      <th>9</th>\n",
              "      <td>U001</td>\n",
              "      <td>200794332.0</td>\n",
              "      <td>COST associates</td>\n",
              "      <td>NaN</td>\n",
              "      <td>2020.0</td>\n",
              "      <td>1.930862e+09</td>\n",
              "      <td>2020-05-07</td>\n",
              "      <td>20200506</td>\n",
              "      <td>20200507</td>\n",
              "      <td>20200522.0</td>\n",
              "      <td>USD</td>\n",
              "      <td>RV</td>\n",
              "      <td>1.0</td>\n",
              "      <td>NaN</td>\n",
              "      <td>49632.81</td>\n",
              "      <td>20200507.0</td>\n",
              "      <td>NAAX</td>\n",
              "      <td>1.930862e+09</td>\n",
              "      <td>1</td>\n",
              "    </tr>\n",
              "    <tr>\n",
              "      <th>14</th>\n",
              "      <td>U001</td>\n",
              "      <td>200769623.0</td>\n",
              "      <td>WAL-MAR corp</td>\n",
              "      <td>NaN</td>\n",
              "      <td>2020.0</td>\n",
              "      <td>1.930885e+09</td>\n",
              "      <td>2020-05-11</td>\n",
              "      <td>20200511</td>\n",
              "      <td>20200511</td>\n",
              "      <td>20200526.0</td>\n",
              "      <td>USD</td>\n",
              "      <td>RV</td>\n",
              "      <td>1.0</td>\n",
              "      <td>NaN</td>\n",
              "      <td>32091.30</td>\n",
              "      <td>20200511.0</td>\n",
              "      <td>NAH4</td>\n",
              "      <td>1.930885e+09</td>\n",
              "      <td>1</td>\n",
              "    </tr>\n",
              "    <tr>\n",
              "      <th>18</th>\n",
              "      <td>U007</td>\n",
              "      <td>100024767.0</td>\n",
              "      <td>GREEN  us</td>\n",
              "      <td>NaN</td>\n",
              "      <td>2020.0</td>\n",
              "      <td>1.930736e+09</td>\n",
              "      <td>2020-04-02</td>\n",
              "      <td>20200402</td>\n",
              "      <td>20200402</td>\n",
              "      <td>20200507.0</td>\n",
              "      <td>USD</td>\n",
              "      <td>RV</td>\n",
              "      <td>1.0</td>\n",
              "      <td>NaN</td>\n",
              "      <td>1490.00</td>\n",
              "      <td>20200402.0</td>\n",
              "      <td>NAG2</td>\n",
              "      <td>1.930736e+09</td>\n",
              "      <td>1</td>\n",
              "    </tr>\n",
              "    <tr>\n",
              "      <th>21</th>\n",
              "      <td>U001</td>\n",
              "      <td>200418007.0</td>\n",
              "      <td>AM associates</td>\n",
              "      <td>NaN</td>\n",
              "      <td>2020.0</td>\n",
              "      <td>1.930751e+09</td>\n",
              "      <td>2020-04-06</td>\n",
              "      <td>20200405</td>\n",
              "      <td>20200406</td>\n",
              "      <td>20200421.0</td>\n",
              "      <td>USD</td>\n",
              "      <td>RV</td>\n",
              "      <td>1.0</td>\n",
              "      <td>NaN</td>\n",
              "      <td>55020.47</td>\n",
              "      <td>20200406.0</td>\n",
              "      <td>NAA8</td>\n",
              "      <td>1.930751e+09</td>\n",
              "      <td>1</td>\n",
              "    </tr>\n",
              "    <tr>\n",
              "      <th>...</th>\n",
              "      <td>...</td>\n",
              "      <td>...</td>\n",
              "      <td>...</td>\n",
              "      <td>...</td>\n",
              "      <td>...</td>\n",
              "      <td>...</td>\n",
              "      <td>...</td>\n",
              "      <td>...</td>\n",
              "      <td>...</td>\n",
              "      <td>...</td>\n",
              "      <td>...</td>\n",
              "      <td>...</td>\n",
              "      <td>...</td>\n",
              "      <td>...</td>\n",
              "      <td>...</td>\n",
              "      <td>...</td>\n",
              "      <td>...</td>\n",
              "      <td>...</td>\n",
              "      <td>...</td>\n",
              "    </tr>\n",
              "    <tr>\n",
              "      <th>49961</th>\n",
              "      <td>U001</td>\n",
              "      <td>200769623.0</td>\n",
              "      <td>WAL-MAR llc</td>\n",
              "      <td>NaN</td>\n",
              "      <td>2020.0</td>\n",
              "      <td>1.930753e+09</td>\n",
              "      <td>2020-04-08</td>\n",
              "      <td>20200406</td>\n",
              "      <td>20200408</td>\n",
              "      <td>20200423.0</td>\n",
              "      <td>USD</td>\n",
              "      <td>RV</td>\n",
              "      <td>1.0</td>\n",
              "      <td>NaN</td>\n",
              "      <td>45319.46</td>\n",
              "      <td>20200408.0</td>\n",
              "      <td>NAH4</td>\n",
              "      <td>1.930753e+09</td>\n",
              "      <td>1</td>\n",
              "    </tr>\n",
              "    <tr>\n",
              "      <th>49966</th>\n",
              "      <td>U001</td>\n",
              "      <td>200769623.0</td>\n",
              "      <td>WAL-MAR foundation</td>\n",
              "      <td>NaN</td>\n",
              "      <td>2020.0</td>\n",
              "      <td>1.930861e+09</td>\n",
              "      <td>2020-05-06</td>\n",
              "      <td>20200505</td>\n",
              "      <td>20200506</td>\n",
              "      <td>20200521.0</td>\n",
              "      <td>USD</td>\n",
              "      <td>RV</td>\n",
              "      <td>1.0</td>\n",
              "      <td>NaN</td>\n",
              "      <td>9531.82</td>\n",
              "      <td>20200506.0</td>\n",
              "      <td>NAH4</td>\n",
              "      <td>1.930861e+09</td>\n",
              "      <td>1</td>\n",
              "    </tr>\n",
              "    <tr>\n",
              "      <th>49993</th>\n",
              "      <td>U001</td>\n",
              "      <td>200770567.0</td>\n",
              "      <td>LABAT us</td>\n",
              "      <td>NaN</td>\n",
              "      <td>2020.0</td>\n",
              "      <td>1.930664e+09</td>\n",
              "      <td>2020-03-19</td>\n",
              "      <td>20200317</td>\n",
              "      <td>20200319</td>\n",
              "      <td>20200403.0</td>\n",
              "      <td>USD</td>\n",
              "      <td>RV</td>\n",
              "      <td>1.0</td>\n",
              "      <td>NaN</td>\n",
              "      <td>64970.42</td>\n",
              "      <td>20200319.0</td>\n",
              "      <td>NAA8</td>\n",
              "      <td>1.930664e+09</td>\n",
              "      <td>1</td>\n",
              "    </tr>\n",
              "    <tr>\n",
              "      <th>49995</th>\n",
              "      <td>U001</td>\n",
              "      <td>100031704.0</td>\n",
              "      <td>DELHAIZE us</td>\n",
              "      <td>NaN</td>\n",
              "      <td>2020.0</td>\n",
              "      <td>1.930765e+09</td>\n",
              "      <td>2020-04-08</td>\n",
              "      <td>20200408</td>\n",
              "      <td>20200408</td>\n",
              "      <td>20200423.0</td>\n",
              "      <td>USD</td>\n",
              "      <td>RV</td>\n",
              "      <td>1.0</td>\n",
              "      <td>NaN</td>\n",
              "      <td>84738.14</td>\n",
              "      <td>20200408.0</td>\n",
              "      <td>NAA8</td>\n",
              "      <td>1.930765e+09</td>\n",
              "      <td>1</td>\n",
              "    </tr>\n",
              "    <tr>\n",
              "      <th>49999</th>\n",
              "      <td>U001</td>\n",
              "      <td>200704858.0</td>\n",
              "      <td>WAKE foundation</td>\n",
              "      <td>NaN</td>\n",
              "      <td>2020.0</td>\n",
              "      <td>1.930659e+09</td>\n",
              "      <td>2020-03-17</td>\n",
              "      <td>20200316</td>\n",
              "      <td>20200317</td>\n",
              "      <td>20200521.0</td>\n",
              "      <td>USD</td>\n",
              "      <td>RV</td>\n",
              "      <td>1.0</td>\n",
              "      <td>NaN</td>\n",
              "      <td>47321.15</td>\n",
              "      <td>20200317.0</td>\n",
              "      <td>NAGD</td>\n",
              "      <td>1.930659e+09</td>\n",
              "      <td>1</td>\n",
              "    </tr>\n",
              "  </tbody>\n",
              "</table>\n",
              "<p>9869 rows × 19 columns</p>\n",
              "</div>"
            ],
            "text/plain": [
              "      business_code  cust_number  ...    invoice_id isOpen\n",
              "7              U001  200468954.0  ...  1.930838e+09      1\n",
              "9              U001  200794332.0  ...  1.930862e+09      1\n",
              "14             U001  200769623.0  ...  1.930885e+09      1\n",
              "18             U007  100024767.0  ...  1.930736e+09      1\n",
              "21             U001  200418007.0  ...  1.930751e+09      1\n",
              "...             ...          ...  ...           ...    ...\n",
              "49961          U001  200769623.0  ...  1.930753e+09      1\n",
              "49966          U001  200769623.0  ...  1.930861e+09      1\n",
              "49993          U001  200770567.0  ...  1.930664e+09      1\n",
              "49995          U001  100031704.0  ...  1.930765e+09      1\n",
              "49999          U001  200704858.0  ...  1.930659e+09      1\n",
              "\n",
              "[9869 rows x 19 columns]"
            ]
          },
          "metadata": {
            "tags": []
          },
          "execution_count": 1199
        }
      ]
    },
    {
      "cell_type": "code",
      "metadata": {
        "id": "2a4c0245"
      },
      "source": [
        "l1 = l1.to_frame(name='Aging_bucket')"
      ],
      "id": "2a4c0245",
      "execution_count": 1200,
      "outputs": []
    },
    {
      "cell_type": "code",
      "metadata": {
        "id": "eb53ae94"
      },
      "source": [
        "main_data.reset_index(drop=True, inplace=True) #resetting index because we need to concat the 2 dataframes\n",
        "l1.reset_index(drop=True, inplace=True)\n",
        "main_data=pd.concat([main_data, l1], axis=1)"
      ],
      "id": "eb53ae94",
      "execution_count": 1201,
      "outputs": []
    },
    {
      "cell_type": "code",
      "metadata": {
        "colab": {
          "base_uri": "https://localhost:8080/",
          "height": 504
        },
        "id": "8755ae1a",
        "outputId": "5dad44f8-2d31-431e-c1eb-99ab3d3f5da3"
      },
      "source": [
        "main_data"
      ],
      "id": "8755ae1a",
      "execution_count": 1202,
      "outputs": [
        {
          "output_type": "execute_result",
          "data": {
            "text/html": [
              "<div>\n",
              "<style scoped>\n",
              "    .dataframe tbody tr th:only-of-type {\n",
              "        vertical-align: middle;\n",
              "    }\n",
              "\n",
              "    .dataframe tbody tr th {\n",
              "        vertical-align: top;\n",
              "    }\n",
              "\n",
              "    .dataframe thead th {\n",
              "        text-align: right;\n",
              "    }\n",
              "</style>\n",
              "<table border=\"1\" class=\"dataframe\">\n",
              "  <thead>\n",
              "    <tr style=\"text-align: right;\">\n",
              "      <th></th>\n",
              "      <th>business_code</th>\n",
              "      <th>cust_number</th>\n",
              "      <th>name_customer</th>\n",
              "      <th>clear_date</th>\n",
              "      <th>buisness_year</th>\n",
              "      <th>doc_id</th>\n",
              "      <th>posting_date</th>\n",
              "      <th>document_create_date</th>\n",
              "      <th>document_create_date.1</th>\n",
              "      <th>due_in_date</th>\n",
              "      <th>invoice_currency</th>\n",
              "      <th>document type</th>\n",
              "      <th>posting_id</th>\n",
              "      <th>area_business</th>\n",
              "      <th>total_open_amount</th>\n",
              "      <th>baseline_create_date</th>\n",
              "      <th>cust_payment_terms</th>\n",
              "      <th>invoice_id</th>\n",
              "      <th>isOpen</th>\n",
              "      <th>Aging_bucket</th>\n",
              "    </tr>\n",
              "  </thead>\n",
              "  <tbody>\n",
              "    <tr>\n",
              "      <th>0</th>\n",
              "      <td>U001</td>\n",
              "      <td>200468954.0</td>\n",
              "      <td>SKID us</td>\n",
              "      <td>NaN</td>\n",
              "      <td>2020.0</td>\n",
              "      <td>1.930838e+09</td>\n",
              "      <td>2020-04-29</td>\n",
              "      <td>20200429</td>\n",
              "      <td>20200429</td>\n",
              "      <td>20200514.0</td>\n",
              "      <td>USD</td>\n",
              "      <td>RV</td>\n",
              "      <td>1.0</td>\n",
              "      <td>NaN</td>\n",
              "      <td>78312.23</td>\n",
              "      <td>20200429.0</td>\n",
              "      <td>NAA8</td>\n",
              "      <td>1.930838e+09</td>\n",
              "      <td>1</td>\n",
              "      <td>(0-15) Days</td>\n",
              "    </tr>\n",
              "    <tr>\n",
              "      <th>1</th>\n",
              "      <td>U001</td>\n",
              "      <td>200794332.0</td>\n",
              "      <td>COST associates</td>\n",
              "      <td>NaN</td>\n",
              "      <td>2020.0</td>\n",
              "      <td>1.930862e+09</td>\n",
              "      <td>2020-05-07</td>\n",
              "      <td>20200506</td>\n",
              "      <td>20200507</td>\n",
              "      <td>20200522.0</td>\n",
              "      <td>USD</td>\n",
              "      <td>RV</td>\n",
              "      <td>1.0</td>\n",
              "      <td>NaN</td>\n",
              "      <td>49632.81</td>\n",
              "      <td>20200507.0</td>\n",
              "      <td>NAAX</td>\n",
              "      <td>1.930862e+09</td>\n",
              "      <td>1</td>\n",
              "      <td>(0-15) Days</td>\n",
              "    </tr>\n",
              "    <tr>\n",
              "      <th>2</th>\n",
              "      <td>U001</td>\n",
              "      <td>200769623.0</td>\n",
              "      <td>WAL-MAR corp</td>\n",
              "      <td>NaN</td>\n",
              "      <td>2020.0</td>\n",
              "      <td>1.930885e+09</td>\n",
              "      <td>2020-05-11</td>\n",
              "      <td>20200511</td>\n",
              "      <td>20200511</td>\n",
              "      <td>20200526.0</td>\n",
              "      <td>USD</td>\n",
              "      <td>RV</td>\n",
              "      <td>1.0</td>\n",
              "      <td>NaN</td>\n",
              "      <td>32091.30</td>\n",
              "      <td>20200511.0</td>\n",
              "      <td>NAH4</td>\n",
              "      <td>1.930885e+09</td>\n",
              "      <td>1</td>\n",
              "      <td>(&lt; 0) Days</td>\n",
              "    </tr>\n",
              "    <tr>\n",
              "      <th>3</th>\n",
              "      <td>U007</td>\n",
              "      <td>100024767.0</td>\n",
              "      <td>GREEN  us</td>\n",
              "      <td>NaN</td>\n",
              "      <td>2020.0</td>\n",
              "      <td>1.930736e+09</td>\n",
              "      <td>2020-04-02</td>\n",
              "      <td>20200402</td>\n",
              "      <td>20200402</td>\n",
              "      <td>20200507.0</td>\n",
              "      <td>USD</td>\n",
              "      <td>RV</td>\n",
              "      <td>1.0</td>\n",
              "      <td>NaN</td>\n",
              "      <td>1490.00</td>\n",
              "      <td>20200402.0</td>\n",
              "      <td>NAG2</td>\n",
              "      <td>1.930736e+09</td>\n",
              "      <td>1</td>\n",
              "      <td>(&lt; 0) Days</td>\n",
              "    </tr>\n",
              "    <tr>\n",
              "      <th>4</th>\n",
              "      <td>U001</td>\n",
              "      <td>200418007.0</td>\n",
              "      <td>AM associates</td>\n",
              "      <td>NaN</td>\n",
              "      <td>2020.0</td>\n",
              "      <td>1.930751e+09</td>\n",
              "      <td>2020-04-06</td>\n",
              "      <td>20200405</td>\n",
              "      <td>20200406</td>\n",
              "      <td>20200421.0</td>\n",
              "      <td>USD</td>\n",
              "      <td>RV</td>\n",
              "      <td>1.0</td>\n",
              "      <td>NaN</td>\n",
              "      <td>55020.47</td>\n",
              "      <td>20200406.0</td>\n",
              "      <td>NAA8</td>\n",
              "      <td>1.930751e+09</td>\n",
              "      <td>1</td>\n",
              "      <td>(0-15) Days</td>\n",
              "    </tr>\n",
              "    <tr>\n",
              "      <th>...</th>\n",
              "      <td>...</td>\n",
              "      <td>...</td>\n",
              "      <td>...</td>\n",
              "      <td>...</td>\n",
              "      <td>...</td>\n",
              "      <td>...</td>\n",
              "      <td>...</td>\n",
              "      <td>...</td>\n",
              "      <td>...</td>\n",
              "      <td>...</td>\n",
              "      <td>...</td>\n",
              "      <td>...</td>\n",
              "      <td>...</td>\n",
              "      <td>...</td>\n",
              "      <td>...</td>\n",
              "      <td>...</td>\n",
              "      <td>...</td>\n",
              "      <td>...</td>\n",
              "      <td>...</td>\n",
              "      <td>...</td>\n",
              "    </tr>\n",
              "    <tr>\n",
              "      <th>9864</th>\n",
              "      <td>U001</td>\n",
              "      <td>200769623.0</td>\n",
              "      <td>WAL-MAR llc</td>\n",
              "      <td>NaN</td>\n",
              "      <td>2020.0</td>\n",
              "      <td>1.930753e+09</td>\n",
              "      <td>2020-04-08</td>\n",
              "      <td>20200406</td>\n",
              "      <td>20200408</td>\n",
              "      <td>20200423.0</td>\n",
              "      <td>USD</td>\n",
              "      <td>RV</td>\n",
              "      <td>1.0</td>\n",
              "      <td>NaN</td>\n",
              "      <td>45319.46</td>\n",
              "      <td>20200408.0</td>\n",
              "      <td>NAH4</td>\n",
              "      <td>1.930753e+09</td>\n",
              "      <td>1</td>\n",
              "      <td>(&gt; 60) Days</td>\n",
              "    </tr>\n",
              "    <tr>\n",
              "      <th>9865</th>\n",
              "      <td>U001</td>\n",
              "      <td>200769623.0</td>\n",
              "      <td>WAL-MAR foundation</td>\n",
              "      <td>NaN</td>\n",
              "      <td>2020.0</td>\n",
              "      <td>1.930861e+09</td>\n",
              "      <td>2020-05-06</td>\n",
              "      <td>20200505</td>\n",
              "      <td>20200506</td>\n",
              "      <td>20200521.0</td>\n",
              "      <td>USD</td>\n",
              "      <td>RV</td>\n",
              "      <td>1.0</td>\n",
              "      <td>NaN</td>\n",
              "      <td>9531.82</td>\n",
              "      <td>20200506.0</td>\n",
              "      <td>NAH4</td>\n",
              "      <td>1.930861e+09</td>\n",
              "      <td>1</td>\n",
              "      <td>(0-15) Days</td>\n",
              "    </tr>\n",
              "    <tr>\n",
              "      <th>9866</th>\n",
              "      <td>U001</td>\n",
              "      <td>200770567.0</td>\n",
              "      <td>LABAT us</td>\n",
              "      <td>NaN</td>\n",
              "      <td>2020.0</td>\n",
              "      <td>1.930664e+09</td>\n",
              "      <td>2020-03-19</td>\n",
              "      <td>20200317</td>\n",
              "      <td>20200319</td>\n",
              "      <td>20200403.0</td>\n",
              "      <td>USD</td>\n",
              "      <td>RV</td>\n",
              "      <td>1.0</td>\n",
              "      <td>NaN</td>\n",
              "      <td>64970.42</td>\n",
              "      <td>20200319.0</td>\n",
              "      <td>NAA8</td>\n",
              "      <td>1.930664e+09</td>\n",
              "      <td>1</td>\n",
              "      <td>(0-15) Days</td>\n",
              "    </tr>\n",
              "    <tr>\n",
              "      <th>9867</th>\n",
              "      <td>U001</td>\n",
              "      <td>100031704.0</td>\n",
              "      <td>DELHAIZE us</td>\n",
              "      <td>NaN</td>\n",
              "      <td>2020.0</td>\n",
              "      <td>1.930765e+09</td>\n",
              "      <td>2020-04-08</td>\n",
              "      <td>20200408</td>\n",
              "      <td>20200408</td>\n",
              "      <td>20200423.0</td>\n",
              "      <td>USD</td>\n",
              "      <td>RV</td>\n",
              "      <td>1.0</td>\n",
              "      <td>NaN</td>\n",
              "      <td>84738.14</td>\n",
              "      <td>20200408.0</td>\n",
              "      <td>NAA8</td>\n",
              "      <td>1.930765e+09</td>\n",
              "      <td>1</td>\n",
              "      <td>(0-15) Days</td>\n",
              "    </tr>\n",
              "    <tr>\n",
              "      <th>9868</th>\n",
              "      <td>U001</td>\n",
              "      <td>200704858.0</td>\n",
              "      <td>WAKE foundation</td>\n",
              "      <td>NaN</td>\n",
              "      <td>2020.0</td>\n",
              "      <td>1.930659e+09</td>\n",
              "      <td>2020-03-17</td>\n",
              "      <td>20200316</td>\n",
              "      <td>20200317</td>\n",
              "      <td>20200521.0</td>\n",
              "      <td>USD</td>\n",
              "      <td>RV</td>\n",
              "      <td>1.0</td>\n",
              "      <td>NaN</td>\n",
              "      <td>47321.15</td>\n",
              "      <td>20200317.0</td>\n",
              "      <td>NAGD</td>\n",
              "      <td>1.930659e+09</td>\n",
              "      <td>1</td>\n",
              "      <td>(0-15) Days</td>\n",
              "    </tr>\n",
              "  </tbody>\n",
              "</table>\n",
              "<p>9869 rows × 20 columns</p>\n",
              "</div>"
            ],
            "text/plain": [
              "     business_code  cust_number  ... isOpen Aging_bucket\n",
              "0             U001  200468954.0  ...      1  (0-15) Days\n",
              "1             U001  200794332.0  ...      1  (0-15) Days\n",
              "2             U001  200769623.0  ...      1   (< 0) Days\n",
              "3             U007  100024767.0  ...      1   (< 0) Days\n",
              "4             U001  200418007.0  ...      1  (0-15) Days\n",
              "...            ...          ...  ...    ...          ...\n",
              "9864          U001  200769623.0  ...      1  (> 60) Days\n",
              "9865          U001  200769623.0  ...      1  (0-15) Days\n",
              "9866          U001  200770567.0  ...      1  (0-15) Days\n",
              "9867          U001  100031704.0  ...      1  (0-15) Days\n",
              "9868          U001  200704858.0  ...      1  (0-15) Days\n",
              "\n",
              "[9869 rows x 20 columns]"
            ]
          },
          "metadata": {
            "tags": []
          },
          "execution_count": 1202
        }
      ]
    },
    {
      "cell_type": "code",
      "metadata": {
        "colab": {
          "base_uri": "https://localhost:8080/",
          "height": 417
        },
        "id": "ZswzQAjI4PZg",
        "outputId": "e68745e7-7fa6-481e-9dea-24ce27533a5a"
      },
      "source": [
        "#Creating the final test dataframe\n",
        "df = pd.DataFrame(predicted, columns=['payment_predicted'])\n",
        "df"
      ],
      "id": "ZswzQAjI4PZg",
      "execution_count": 1203,
      "outputs": [
        {
          "output_type": "execute_result",
          "data": {
            "text/html": [
              "<div>\n",
              "<style scoped>\n",
              "    .dataframe tbody tr th:only-of-type {\n",
              "        vertical-align: middle;\n",
              "    }\n",
              "\n",
              "    .dataframe tbody tr th {\n",
              "        vertical-align: top;\n",
              "    }\n",
              "\n",
              "    .dataframe thead th {\n",
              "        text-align: right;\n",
              "    }\n",
              "</style>\n",
              "<table border=\"1\" class=\"dataframe\">\n",
              "  <thead>\n",
              "    <tr style=\"text-align: right;\">\n",
              "      <th></th>\n",
              "      <th>payment_predicted</th>\n",
              "    </tr>\n",
              "  </thead>\n",
              "  <tbody>\n",
              "    <tr>\n",
              "      <th>0</th>\n",
              "      <td>0.72</td>\n",
              "    </tr>\n",
              "    <tr>\n",
              "      <th>1</th>\n",
              "      <td>1.11</td>\n",
              "    </tr>\n",
              "    <tr>\n",
              "      <th>2</th>\n",
              "      <td>-3.72</td>\n",
              "    </tr>\n",
              "    <tr>\n",
              "      <th>3</th>\n",
              "      <td>-14.73</td>\n",
              "    </tr>\n",
              "    <tr>\n",
              "      <th>4</th>\n",
              "      <td>6.92</td>\n",
              "    </tr>\n",
              "    <tr>\n",
              "      <th>...</th>\n",
              "      <td>...</td>\n",
              "    </tr>\n",
              "    <tr>\n",
              "      <th>9864</th>\n",
              "      <td>260.28</td>\n",
              "    </tr>\n",
              "    <tr>\n",
              "      <th>9865</th>\n",
              "      <td>5.15</td>\n",
              "    </tr>\n",
              "    <tr>\n",
              "      <th>9866</th>\n",
              "      <td>4.98</td>\n",
              "    </tr>\n",
              "    <tr>\n",
              "      <th>9867</th>\n",
              "      <td>2.93</td>\n",
              "    </tr>\n",
              "    <tr>\n",
              "      <th>9868</th>\n",
              "      <td>2.62</td>\n",
              "    </tr>\n",
              "  </tbody>\n",
              "</table>\n",
              "<p>9869 rows × 1 columns</p>\n",
              "</div>"
            ],
            "text/plain": [
              "      payment_predicted\n",
              "0                  0.72\n",
              "1                  1.11\n",
              "2                 -3.72\n",
              "3                -14.73\n",
              "4                  6.92\n",
              "...                 ...\n",
              "9864             260.28\n",
              "9865               5.15\n",
              "9866               4.98\n",
              "9867               2.93\n",
              "9868               2.62\n",
              "\n",
              "[9869 rows x 1 columns]"
            ]
          },
          "metadata": {
            "tags": []
          },
          "execution_count": 1203
        }
      ]
    },
    {
      "cell_type": "code",
      "metadata": {
        "id": "0gQFgokx4tpp"
      },
      "source": [
        "main_data = main_data.reset_index(drop = True)\n",
        "main_data['Delay_days'] = df['payment_predicted']"
      ],
      "id": "0gQFgokx4tpp",
      "execution_count": 1204,
      "outputs": []
    },
    {
      "cell_type": "code",
      "metadata": {
        "id": "QX4r-gQs4zvN"
      },
      "source": [
        "main_data['due_in_date_1'] = pd.to_datetime(main_data['due_in_date'], format='%Y%m%d') "
      ],
      "id": "QX4r-gQs4zvN",
      "execution_count": 1205,
      "outputs": []
    },
    {
      "cell_type": "code",
      "metadata": {
        "id": "TpzkTmzq4348"
      },
      "source": [
        "temp = main_data['Delay_days'].apply(np.ceil).apply(lambda x: pd.Timedelta(x, unit='D'))\n",
        "main_data['payment_predicted'] = main_data['due_in_date_1'] + temp"
      ],
      "id": "TpzkTmzq4348",
      "execution_count": 1206,
      "outputs": []
    },
    {
      "cell_type": "code",
      "metadata": {
        "colab": {
          "base_uri": "https://localhost:8080/",
          "height": 274
        },
        "id": "JMfYKDRC47D7",
        "outputId": "20989ade-a8b5-4311-a945-57cbb3e91495"
      },
      "source": [
        "main_data.tail()"
      ],
      "id": "JMfYKDRC47D7",
      "execution_count": 1207,
      "outputs": [
        {
          "output_type": "execute_result",
          "data": {
            "text/html": [
              "<div>\n",
              "<style scoped>\n",
              "    .dataframe tbody tr th:only-of-type {\n",
              "        vertical-align: middle;\n",
              "    }\n",
              "\n",
              "    .dataframe tbody tr th {\n",
              "        vertical-align: top;\n",
              "    }\n",
              "\n",
              "    .dataframe thead th {\n",
              "        text-align: right;\n",
              "    }\n",
              "</style>\n",
              "<table border=\"1\" class=\"dataframe\">\n",
              "  <thead>\n",
              "    <tr style=\"text-align: right;\">\n",
              "      <th></th>\n",
              "      <th>business_code</th>\n",
              "      <th>cust_number</th>\n",
              "      <th>name_customer</th>\n",
              "      <th>clear_date</th>\n",
              "      <th>buisness_year</th>\n",
              "      <th>doc_id</th>\n",
              "      <th>posting_date</th>\n",
              "      <th>document_create_date</th>\n",
              "      <th>document_create_date.1</th>\n",
              "      <th>due_in_date</th>\n",
              "      <th>invoice_currency</th>\n",
              "      <th>document type</th>\n",
              "      <th>posting_id</th>\n",
              "      <th>area_business</th>\n",
              "      <th>total_open_amount</th>\n",
              "      <th>baseline_create_date</th>\n",
              "      <th>cust_payment_terms</th>\n",
              "      <th>invoice_id</th>\n",
              "      <th>isOpen</th>\n",
              "      <th>Aging_bucket</th>\n",
              "      <th>Delay_days</th>\n",
              "      <th>due_in_date_1</th>\n",
              "      <th>payment_predicted</th>\n",
              "    </tr>\n",
              "  </thead>\n",
              "  <tbody>\n",
              "    <tr>\n",
              "      <th>9864</th>\n",
              "      <td>U001</td>\n",
              "      <td>200769623.0</td>\n",
              "      <td>WAL-MAR llc</td>\n",
              "      <td>NaN</td>\n",
              "      <td>2020.0</td>\n",
              "      <td>1.930753e+09</td>\n",
              "      <td>2020-04-08</td>\n",
              "      <td>20200406</td>\n",
              "      <td>20200408</td>\n",
              "      <td>20200423.0</td>\n",
              "      <td>USD</td>\n",
              "      <td>RV</td>\n",
              "      <td>1.0</td>\n",
              "      <td>NaN</td>\n",
              "      <td>45319.46</td>\n",
              "      <td>20200408.0</td>\n",
              "      <td>NAH4</td>\n",
              "      <td>1.930753e+09</td>\n",
              "      <td>1</td>\n",
              "      <td>(&gt; 60) Days</td>\n",
              "      <td>260.28</td>\n",
              "      <td>2020-04-23</td>\n",
              "      <td>2021-01-09</td>\n",
              "    </tr>\n",
              "    <tr>\n",
              "      <th>9865</th>\n",
              "      <td>U001</td>\n",
              "      <td>200769623.0</td>\n",
              "      <td>WAL-MAR foundation</td>\n",
              "      <td>NaN</td>\n",
              "      <td>2020.0</td>\n",
              "      <td>1.930861e+09</td>\n",
              "      <td>2020-05-06</td>\n",
              "      <td>20200505</td>\n",
              "      <td>20200506</td>\n",
              "      <td>20200521.0</td>\n",
              "      <td>USD</td>\n",
              "      <td>RV</td>\n",
              "      <td>1.0</td>\n",
              "      <td>NaN</td>\n",
              "      <td>9531.82</td>\n",
              "      <td>20200506.0</td>\n",
              "      <td>NAH4</td>\n",
              "      <td>1.930861e+09</td>\n",
              "      <td>1</td>\n",
              "      <td>(0-15) Days</td>\n",
              "      <td>5.15</td>\n",
              "      <td>2020-05-21</td>\n",
              "      <td>2020-05-27</td>\n",
              "    </tr>\n",
              "    <tr>\n",
              "      <th>9866</th>\n",
              "      <td>U001</td>\n",
              "      <td>200770567.0</td>\n",
              "      <td>LABAT us</td>\n",
              "      <td>NaN</td>\n",
              "      <td>2020.0</td>\n",
              "      <td>1.930664e+09</td>\n",
              "      <td>2020-03-19</td>\n",
              "      <td>20200317</td>\n",
              "      <td>20200319</td>\n",
              "      <td>20200403.0</td>\n",
              "      <td>USD</td>\n",
              "      <td>RV</td>\n",
              "      <td>1.0</td>\n",
              "      <td>NaN</td>\n",
              "      <td>64970.42</td>\n",
              "      <td>20200319.0</td>\n",
              "      <td>NAA8</td>\n",
              "      <td>1.930664e+09</td>\n",
              "      <td>1</td>\n",
              "      <td>(0-15) Days</td>\n",
              "      <td>4.98</td>\n",
              "      <td>2020-04-03</td>\n",
              "      <td>2020-04-08</td>\n",
              "    </tr>\n",
              "    <tr>\n",
              "      <th>9867</th>\n",
              "      <td>U001</td>\n",
              "      <td>100031704.0</td>\n",
              "      <td>DELHAIZE us</td>\n",
              "      <td>NaN</td>\n",
              "      <td>2020.0</td>\n",
              "      <td>1.930765e+09</td>\n",
              "      <td>2020-04-08</td>\n",
              "      <td>20200408</td>\n",
              "      <td>20200408</td>\n",
              "      <td>20200423.0</td>\n",
              "      <td>USD</td>\n",
              "      <td>RV</td>\n",
              "      <td>1.0</td>\n",
              "      <td>NaN</td>\n",
              "      <td>84738.14</td>\n",
              "      <td>20200408.0</td>\n",
              "      <td>NAA8</td>\n",
              "      <td>1.930765e+09</td>\n",
              "      <td>1</td>\n",
              "      <td>(0-15) Days</td>\n",
              "      <td>2.93</td>\n",
              "      <td>2020-04-23</td>\n",
              "      <td>2020-04-26</td>\n",
              "    </tr>\n",
              "    <tr>\n",
              "      <th>9868</th>\n",
              "      <td>U001</td>\n",
              "      <td>200704858.0</td>\n",
              "      <td>WAKE foundation</td>\n",
              "      <td>NaN</td>\n",
              "      <td>2020.0</td>\n",
              "      <td>1.930659e+09</td>\n",
              "      <td>2020-03-17</td>\n",
              "      <td>20200316</td>\n",
              "      <td>20200317</td>\n",
              "      <td>20200521.0</td>\n",
              "      <td>USD</td>\n",
              "      <td>RV</td>\n",
              "      <td>1.0</td>\n",
              "      <td>NaN</td>\n",
              "      <td>47321.15</td>\n",
              "      <td>20200317.0</td>\n",
              "      <td>NAGD</td>\n",
              "      <td>1.930659e+09</td>\n",
              "      <td>1</td>\n",
              "      <td>(0-15) Days</td>\n",
              "      <td>2.62</td>\n",
              "      <td>2020-05-21</td>\n",
              "      <td>2020-05-24</td>\n",
              "    </tr>\n",
              "  </tbody>\n",
              "</table>\n",
              "</div>"
            ],
            "text/plain": [
              "     business_code  cust_number  ... due_in_date_1 payment_predicted\n",
              "9864          U001  200769623.0  ...    2020-04-23        2021-01-09\n",
              "9865          U001  200769623.0  ...    2020-05-21        2020-05-27\n",
              "9866          U001  200770567.0  ...    2020-04-03        2020-04-08\n",
              "9867          U001  100031704.0  ...    2020-04-23        2020-04-26\n",
              "9868          U001  200704858.0  ...    2020-05-21        2020-05-24\n",
              "\n",
              "[5 rows x 23 columns]"
            ]
          },
          "metadata": {
            "tags": []
          },
          "execution_count": 1207
        }
      ]
    }
  ]
}